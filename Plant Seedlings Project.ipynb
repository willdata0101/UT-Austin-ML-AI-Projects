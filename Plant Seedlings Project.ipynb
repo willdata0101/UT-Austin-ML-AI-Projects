{
 "cells": [
  {
   "cell_type": "markdown",
   "metadata": {},
   "source": [
    "# Plant Seedlings Classification"
   ]
  },
  {
   "cell_type": "markdown",
   "metadata": {},
   "source": [
    "## Objective\n",
    "\n",
    "### To create a classifier capable of determining a plant's species from a photo."
   ]
  },
  {
   "cell_type": "code",
   "execution_count": 39,
   "metadata": {},
   "outputs": [
    {
     "name": "stderr",
     "output_type": "stream",
     "text": [
      "C:\\Users\\William\\Anaconda3\\lib\\site-packages\\statsmodels\\tools\\_testing.py:19: FutureWarning: pandas.util.testing is deprecated. Use the functions in the public API at pandas.testing instead.\n",
      "  import pandas.util.testing as tm\n"
     ]
    }
   ],
   "source": [
    "# Importing libraries\n",
    "\n",
    "import numpy as np\n",
    "from numpy import asarray\n",
    "import pandas as pd\n",
    "import seaborn as sb\n",
    "import os\n",
    "import PIL\n",
    "from PIL import Image\n",
    "import glob\n",
    "import matplotlib.pyplot as plt\n",
    "%matplotlib inline\n",
    "\n",
    "import cv2\n",
    "\n",
    "import tensorflow\n",
    "import tensorflow_datasets as tfds\n",
    "\n",
    "import pathlib\n",
    "\n",
    "from sklearn.model_selection import train_test_split\n",
    "from sklearn.preprocessing import Normalizer\n",
    "from sklearn.metrics import confusion_matrix\n",
    "\n",
    "from tensorflow.keras.preprocessing.image import ImageDataGenerator, load_img\n",
    "from tensorflow.keras.preprocessing import image_dataset_from_directory\n",
    "from tensorflow.keras.layers.experimental.preprocessing import Rescaling\n",
    "from tensorflow.keras.models import Sequential\n",
    "from tensorflow.keras.layers import Conv2D, MaxPooling2D, Flatten, Dense\n",
    "\n",
    "from tensorflow.keras.utils import to_categorical"
   ]
  },
  {
   "cell_type": "code",
   "execution_count": 2,
   "metadata": {},
   "outputs": [],
   "source": [
    "# Importing dataset\n",
    "\n",
    "data_dir = pathlib.Path('C:/Users/William/train/')\n",
    "dataset = data_dir.glob('*/*.png')"
   ]
  },
  {
   "cell_type": "code",
   "execution_count": 3,
   "metadata": {},
   "outputs": [
    {
     "data": {
      "text/plain": [
       "4750"
      ]
     },
     "execution_count": 3,
     "metadata": {},
     "output_type": "execute_result"
    }
   ],
   "source": [
    "image_count = len(list(dataset))\n",
    "image_count"
   ]
  },
  {
   "cell_type": "code",
   "execution_count": 4,
   "metadata": {},
   "outputs": [],
   "source": [
    "# Black-grass\n",
    "\n",
    "black_grass = list(data_dir.glob('Black-grass/*'))\n",
    "#Image.open(str(black_grass[0]))"
   ]
  },
  {
   "cell_type": "code",
   "execution_count": 5,
   "metadata": {},
   "outputs": [],
   "source": [
    "# Charlock\n",
    "\n",
    "charlock = list(data_dir.glob('Charlock/*'))\n",
    "#Image.open(str(charlock[0]))"
   ]
  },
  {
   "cell_type": "code",
   "execution_count": 6,
   "metadata": {},
   "outputs": [],
   "source": [
    "# Cleavers\n",
    "\n",
    "cleavers = list(data_dir.glob('Cleavers/*'))\n",
    "#Image.open(str(cleavers[0]))"
   ]
  },
  {
   "cell_type": "code",
   "execution_count": 7,
   "metadata": {},
   "outputs": [],
   "source": [
    "# Common chickweed\n",
    "\n",
    "chickweed = list(data_dir.glob('Common Chickweed/*'))\n",
    "#Image.open(str(chickweed[0]))"
   ]
  },
  {
   "cell_type": "code",
   "execution_count": 8,
   "metadata": {},
   "outputs": [],
   "source": [
    "# Common wheat\n",
    "\n",
    "wheat = list(data_dir.glob('Common wheat/*'))\n",
    "#Image.open(str(wheat[0]))"
   ]
  },
  {
   "cell_type": "code",
   "execution_count": 9,
   "metadata": {},
   "outputs": [],
   "source": [
    "# Fat Hen\n",
    "\n",
    "fat_hen = list(data_dir.glob('Fat Hen/*'))\n",
    "#Image.open(str(fat_hen[0]))"
   ]
  },
  {
   "cell_type": "code",
   "execution_count": 10,
   "metadata": {},
   "outputs": [],
   "source": [
    "# Loose silky-bent\n",
    "\n",
    "silky_bent = list(data_dir.glob('Loose Silky-bent/*'))\n",
    "#Image.open(str(silky_bent[0]))"
   ]
  },
  {
   "cell_type": "code",
   "execution_count": 11,
   "metadata": {},
   "outputs": [],
   "source": [
    "# Maize\n",
    "\n",
    "maize = list(data_dir.glob('Maize/*'))\n",
    "#Image.open(str(maize[0]))"
   ]
  },
  {
   "cell_type": "code",
   "execution_count": 12,
   "metadata": {},
   "outputs": [],
   "source": [
    "# Scentless mayweed\n",
    "\n",
    "mayweed = list(data_dir.glob('Scentless Mayweed/*'))\n",
    "#Image.open(str(mayweed[0]))"
   ]
  },
  {
   "cell_type": "code",
   "execution_count": 13,
   "metadata": {},
   "outputs": [],
   "source": [
    "# Shepherd's purse\n",
    "\n",
    "shepherd = list(data_dir.glob('Shepherds Purse/*'))\n",
    "#Image.open(str(shepherd[0]))"
   ]
  },
  {
   "cell_type": "code",
   "execution_count": 14,
   "metadata": {},
   "outputs": [],
   "source": [
    "# Small-flowered cranesbill\n",
    "\n",
    "cranesbill = list(data_dir.glob('Small-flowered Cranesbill/*'))\n",
    "#Image.open(str(cranesbill[0]))"
   ]
  },
  {
   "cell_type": "code",
   "execution_count": 15,
   "metadata": {},
   "outputs": [],
   "source": [
    "# Sugar beet\n",
    "\n",
    "sugar_beet = list(data_dir.glob('Sugar Beet/*'))\n",
    "#Image.open(str(sugar_beet[0]))"
   ]
  },
  {
   "cell_type": "code",
   "execution_count": 16,
   "metadata": {},
   "outputs": [],
   "source": [
    "# Converting images into numpy arrays, greyscaling, and gaussian blurring\n",
    "\n",
    "data = []\n",
    "labels = []\n",
    "\n",
    "for i in black_grass:\n",
    "    image = load_img(i, color_mode='rgb', target_size=(256, 256))\n",
    "    image = np.array(image)\n",
    "    image = cv2.cvtColor(image, cv2.COLOR_BGR2GRAY)\n",
    "    image = cv2.GaussianBlur(image, (5,5), 0)\n",
    "    data.append(image)\n",
    "    labels.append(0)\n",
    "    \n",
    "for i in charlock:\n",
    "    image = load_img(i, color_mode='rgb', target_size=(256, 256))\n",
    "    image = np.array(image)\n",
    "    image = cv2.cvtColor(image, cv2.COLOR_BGR2GRAY)\n",
    "    image = cv2.GaussianBlur(image, (5,5), 0)\n",
    "    data.append(image)\n",
    "    labels.append(1)\n",
    "    \n",
    "for i in cleavers:\n",
    "    image = load_img(i, color_mode='rgb', target_size=(256, 256))\n",
    "    image = np.array(image)\n",
    "    image = cv2.cvtColor(image, cv2.COLOR_BGR2GRAY)\n",
    "    image = cv2.GaussianBlur(image, (5,5), 0)\n",
    "    data.append(image)\n",
    "    labels.append(2)\n",
    "    \n",
    "for i in chickweed:\n",
    "    image = load_img(i, color_mode='rgb', target_size=(256, 256))\n",
    "    image = np.array(image)\n",
    "    image = cv2.cvtColor(image, cv2.COLOR_BGR2GRAY)\n",
    "    image = cv2.GaussianBlur(image, (5,5), 0)\n",
    "    data.append(image)\n",
    "    labels.append(3)\n",
    "    \n",
    "for i in wheat:\n",
    "    image = load_img(i, color_mode='rgb', target_size=(256, 256))\n",
    "    image = np.array(image)\n",
    "    image = cv2.cvtColor(image, cv2.COLOR_BGR2GRAY)\n",
    "    image = cv2.GaussianBlur(image, (5,5), 0)\n",
    "    data.append(image)\n",
    "    labels.append(4)\n",
    "    \n",
    "for i in fat_hen:\n",
    "    image = load_img(i, color_mode='rgb', target_size=(256, 256))\n",
    "    image = np.array(image)\n",
    "    image = cv2.cvtColor(image, cv2.COLOR_BGR2GRAY)\n",
    "    image = cv2.GaussianBlur(image, (5,5), 0)\n",
    "    data.append(image)\n",
    "    labels.append(5)\n",
    "    \n",
    "for i in silky_bent:\n",
    "    image = load_img(i, color_mode='rgb', target_size=(256, 256))\n",
    "    image = np.array(image)\n",
    "    image = cv2.cvtColor(image, cv2.COLOR_BGR2GRAY)\n",
    "    image = cv2.GaussianBlur(image, (5,5), 0)\n",
    "    data.append(image)\n",
    "    labels.append(6)\n",
    "    \n",
    "for i in maize:\n",
    "    image = load_img(i, color_mode='rgb', target_size=(256, 256))\n",
    "    image = np.array(image)\n",
    "    image = cv2.cvtColor(image, cv2.COLOR_BGR2GRAY)\n",
    "    image = cv2.GaussianBlur(image, (5,5), 0)\n",
    "    data.append(image)\n",
    "    labels.append(7)\n",
    "    \n",
    "for i in mayweed:\n",
    "    image = load_img(i, color_mode='rgb', target_size=(256, 256))\n",
    "    image = np.array(image)\n",
    "    image = cv2.cvtColor(image, cv2.COLOR_BGR2GRAY)\n",
    "    image = cv2.GaussianBlur(image, (5,5), 0)\n",
    "    data.append(image)\n",
    "    labels.append(8)\n",
    "    \n",
    "for i in shepherd:\n",
    "    image = load_img(i, color_mode='rgb', target_size=(256, 256))\n",
    "    image = np.array(image)\n",
    "    image = cv2.cvtColor(image, cv2.COLOR_BGR2GRAY)\n",
    "    image = cv2.GaussianBlur(image, (5,5), 0)\n",
    "    data.append(image)\n",
    "    labels.append(9)\n",
    "\n",
    "for i in cranesbill:\n",
    "    image = load_img(i, color_mode='rgb', target_size=(256, 256))\n",
    "    image = np.array(image)\n",
    "    image = cv2.cvtColor(image, cv2.COLOR_BGR2GRAY)\n",
    "    image = cv2.GaussianBlur(image, (5,5), 0)\n",
    "    data.append(image)\n",
    "    labels.append(10)\n",
    "    \n",
    "for i in sugar_beet:\n",
    "    image = load_img(i, color_mode='rgb', target_size=(256, 256))\n",
    "    image = np.array(image)\n",
    "    image = cv2.cvtColor(image, cv2.COLOR_BGR2GRAY)\n",
    "    image = cv2.GaussianBlur(image, (5,5), 0)\n",
    "    data.append(image)\n",
    "    labels.append(11)"
   ]
  },
  {
   "cell_type": "code",
   "execution_count": 17,
   "metadata": {},
   "outputs": [
    {
     "data": {
      "image/png": "[encoded data removed]",
      "text/plain": [
       "<PIL.Image.Image image mode=L size=256x256 at 0x25BF3946B48>"
      ]
     },
     "execution_count": 17,
     "metadata": {},
     "output_type": "execute_result"
    }
   ],
   "source": [
    "# Visualize data after pre-processing\n",
    "\n",
    "Image.fromarray(data[0])"
   ]
  },
  {
   "cell_type": "code",
   "execution_count": 18,
   "metadata": {},
   "outputs": [
    {
     "data": {
      "image/png": "[encoded data removed]",
      "text/plain": [
       "<PIL.Image.Image image mode=L size=256x256 at 0x25BF38E5048>"
      ]
     },
     "execution_count": 18,
     "metadata": {},
     "output_type": "execute_result"
    }
   ],
   "source": [
    "Image.fromarray(data[50])"
   ]
  },
  {
   "cell_type": "code",
   "execution_count": 19,
   "metadata": {},
   "outputs": [
    {
     "data": {
      "image/png": "[encoded data removed]",
      "text/plain": [
       "<PIL.Image.Image image mode=L size=256x256 at 0x25BF3962288>"
      ]
     },
     "execution_count": 19,
     "metadata": {},
     "output_type": "execute_result"
    }
   ],
   "source": [
    "Image.fromarray(data[300])"
   ]
  },
  {
   "cell_type": "code",
   "execution_count": 20,
   "metadata": {},
   "outputs": [],
   "source": [
    "data = np.array(data)\n",
    "labels = np.array(labels)"
   ]
  },
  {
   "cell_type": "code",
   "execution_count": 213,
   "metadata": {},
   "outputs": [],
   "source": [
    "# Train/valid/test split\n",
    "\n",
    "X_train, X_test, y_train, y_test = train_test_split(data, labels, test_size=0.3, random_state=0)\n",
    "X_train, X_val, y_train, y_val = train_test_split(X_train, y_train, test_size=0.5, random_state=0)"
   ]
  },
  {
   "cell_type": "code",
   "execution_count": 214,
   "metadata": {},
   "outputs": [
    {
     "name": "stdout",
     "output_type": "stream",
     "text": [
      "(1662, 256, 256) (1662,)\n",
      "(1663, 256, 256) (1663,)\n",
      "(1425, 256, 256) (1425,)\n"
     ]
    }
   ],
   "source": [
    "# Checking shape of data\n",
    "\n",
    "print(X_train.shape, y_train.shape)\n",
    "print(X_val.shape, y_val.shape)\n",
    "print(X_test.shape, y_test.shape)"
   ]
  },
  {
   "cell_type": "code",
   "execution_count": 215,
   "metadata": {},
   "outputs": [],
   "source": [
    "# Reshaping train/val/test for compatibility with Keras model\n",
    "\n",
    "X_train = X_train.reshape(X_train.shape[0], 256, 256, 1)\n",
    "X_val = X_val.reshape(X_val.shape[0], 256, 256, 1)\n",
    "X_test = X_test.reshape(X_test.shape[0], 256, 256, 1)"
   ]
  },
  {
   "cell_type": "code",
   "execution_count": 216,
   "metadata": {},
   "outputs": [],
   "source": [
    "# Normalizing X_train\n",
    "\n",
    "X_train = X_train.astype('float32') / 255"
   ]
  },
  {
   "cell_type": "code",
   "execution_count": 217,
   "metadata": {},
   "outputs": [
    {
     "data": {
      "text/plain": [
       "(0.003921569, 1.0)"
      ]
     },
     "execution_count": 217,
     "metadata": {},
     "output_type": "execute_result"
    }
   ],
   "source": [
    "# Checking to see if normalization worked\n",
    "\n",
    "X_train.min(), X_train.max()"
   ]
  },
  {
   "cell_type": "code",
   "execution_count": 218,
   "metadata": {},
   "outputs": [],
   "source": [
    "# Normalizing X_val\n",
    "\n",
    "X_val = X_val.astype('float32') / 255"
   ]
  },
  {
   "cell_type": "code",
   "execution_count": 219,
   "metadata": {},
   "outputs": [],
   "source": [
    "# Normalizing X_test\n",
    "\n",
    "X_test = X_test.astype('float32') / 255"
   ]
  },
  {
   "cell_type": "code",
   "execution_count": 220,
   "metadata": {},
   "outputs": [],
   "source": [
    "# Converting labels into one-hot-vectors\n",
    "y_train = to_categorical(y_train)\n",
    "y_val = to_categorical(y_val)\n",
    "y_test = to_categorical(y_test)"
   ]
  },
  {
   "cell_type": "code",
   "execution_count": 221,
   "metadata": {},
   "outputs": [
    {
     "data": {
      "text/plain": [
       "(array([[0., 0., 0., ..., 0., 0., 1.],\n",
       "        [0., 0., 0., ..., 0., 0., 1.],\n",
       "        [0., 0., 0., ..., 0., 0., 0.],\n",
       "        ...,\n",
       "        [0., 0., 0., ..., 0., 0., 1.],\n",
       "        [0., 1., 0., ..., 0., 0., 0.],\n",
       "        [0., 0., 0., ..., 0., 0., 0.]], dtype=float32),\n",
       " array([[0., 0., 0., ..., 0., 0., 0.],\n",
       "        [0., 0., 0., ..., 0., 0., 0.],\n",
       "        [0., 0., 0., ..., 0., 0., 0.],\n",
       "        ...,\n",
       "        [0., 0., 0., ..., 0., 0., 0.],\n",
       "        [0., 0., 0., ..., 0., 0., 0.],\n",
       "        [0., 0., 0., ..., 0., 0., 0.]], dtype=float32),\n",
       " array([[0., 0., 0., ..., 1., 0., 0.],\n",
       "        [0., 0., 0., ..., 0., 0., 0.],\n",
       "        [0., 0., 0., ..., 0., 0., 0.],\n",
       "        ...,\n",
       "        [0., 0., 0., ..., 0., 0., 0.],\n",
       "        [0., 0., 0., ..., 0., 1., 0.],\n",
       "        [0., 0., 0., ..., 0., 1., 0.]], dtype=float32))"
      ]
     },
     "execution_count": 221,
     "metadata": {},
     "output_type": "execute_result"
    }
   ],
   "source": [
    "y_train, y_val, y_test"
   ]
  },
  {
   "cell_type": "code",
   "execution_count": 222,
   "metadata": {},
   "outputs": [
    {
     "data": {
      "text/plain": [
       "((1662, 12), (1663, 12), (1425, 12))"
      ]
     },
     "execution_count": 222,
     "metadata": {},
     "output_type": "execute_result"
    }
   ],
   "source": [
    "y_train.shape, y_val.shape, y_test.shape"
   ]
  },
  {
   "cell_type": "code",
   "execution_count": 223,
   "metadata": {},
   "outputs": [
    {
     "data": {
      "text/plain": [
       "array([0., 0., 0., 0., 0., 0., 0., 0., 0., 0., 0., 1.], dtype=float32)"
      ]
     },
     "execution_count": 223,
     "metadata": {},
     "output_type": "execute_result"
    }
   ],
   "source": [
    "# Printing label for y_train[0]\n",
    "\n",
    "y_train[0]"
   ]
  },
  {
   "cell_type": "code",
   "execution_count": 32,
   "metadata": {},
   "outputs": [],
   "source": [
    "# Creating model\n",
    "\n",
    "num_classes = 12\n",
    "\n",
    "model = Sequential()\n",
    "\n",
    "model.add(Conv2D(32, (5,5), padding='same', activation='relu', input_shape=X_train.shape[1:]))\n",
    "model.add(MaxPooling2D())\n",
    "model.add(Conv2D(64, (5,5), padding='same', activation='relu'))\n",
    "model.add(MaxPooling2D())\n",
    "model.add(Conv2D(64, (5,5), padding='same', activation='relu'))\n",
    "model.add(MaxPooling2D())\n",
    "model.add(Conv2D(64, (5,5), padding='same', activation='relu'))\n",
    "model.add(MaxPooling2D())\n",
    "model.add(Flatten())\n",
    "model.add(Dense(128, activation='relu'))\n",
    "model.add(Dense(num_classes, activation='softmax'))"
   ]
  },
  {
   "cell_type": "code",
   "execution_count": 33,
   "metadata": {},
   "outputs": [],
   "source": [
    "# Compiling model\n",
    "\n",
    "model.compile(optimizer='adam', loss='categorical_crossentropy', metrics=['accuracy'])"
   ]
  },
  {
   "cell_type": "code",
   "execution_count": 34,
   "metadata": {},
   "outputs": [
    {
     "name": "stdout",
     "output_type": "stream",
     "text": [
      "Model: \"sequential\"\n",
      "_________________________________________________________________\n",
      "Layer (type)                 Output Shape              Param #   \n",
      "=================================================================\n",
      "conv2d (Conv2D)              (None, 256, 256, 16)      416       \n",
      "_________________________________________________________________\n",
      "max_pooling2d (MaxPooling2D) (None, 128, 128, 16)      0         \n",
      "_________________________________________________________________\n",
      "conv2d_1 (Conv2D)            (None, 128, 128, 32)      12832     \n",
      "_________________________________________________________________\n",
      "max_pooling2d_1 (MaxPooling2 (None, 64, 64, 32)        0         \n",
      "_________________________________________________________________\n",
      "conv2d_2 (Conv2D)            (None, 64, 64, 64)        51264     \n",
      "_________________________________________________________________\n",
      "max_pooling2d_2 (MaxPooling2 (None, 32, 32, 64)        0         \n",
      "_________________________________________________________________\n",
      "flatten (Flatten)            (None, 65536)             0         \n",
      "_________________________________________________________________\n",
      "dense (Dense)                (None, 128)               8388736   \n",
      "_________________________________________________________________\n",
      "dense_1 (Dense)              (None, 12)                1548      \n",
      "=================================================================\n",
      "Total params: 8,454,796\n",
      "Trainable params: 8,454,796\n",
      "Non-trainable params: 0\n",
      "_________________________________________________________________\n"
     ]
    }
   ],
   "source": [
    "model.summary()"
   ]
  },
  {
   "cell_type": "code",
   "execution_count": 35,
   "metadata": {},
   "outputs": [
    {
     "name": "stdout",
     "output_type": "stream",
     "text": [
      "Epoch 1/5\n",
      "52/52 [==============================] - ETA: 4:40 - loss: 2.4915 - accuracy: 0.06 - ETA: 1:40 - loss: 2.5666 - accuracy: 0.06 - ETA: 1:42 - loss: 2.5788 - accuracy: 0.06 - ETA: 1:40 - loss: 2.5739 - accuracy: 0.07 - ETA: 1:38 - loss: 2.5672 - accuracy: 0.08 - ETA: 1:37 - loss: 2.5607 - accuracy: 0.08 - ETA: 1:35 - loss: 2.5551 - accuracy: 0.09 - ETA: 1:35 - loss: 2.5502 - accuracy: 0.09 - ETA: 1:33 - loss: 2.5462 - accuracy: 0.09 - ETA: 1:32 - loss: 2.5427 - accuracy: 0.09 - ETA: 1:30 - loss: 2.5394 - accuracy: 0.09 - ETA: 1:29 - loss: 2.5365 - accuracy: 0.10 - ETA: 1:27 - loss: 2.5337 - accuracy: 0.10 - ETA: 1:25 - loss: 2.5310 - accuracy: 0.10 - ETA: 1:23 - loss: 2.5286 - accuracy: 0.10 - ETA: 1:21 - loss: 2.5264 - accuracy: 0.10 - ETA: 1:20 - loss: 2.5246 - accuracy: 0.10 - ETA: 1:18 - loss: 2.5230 - accuracy: 0.10 - ETA: 1:16 - loss: 2.5216 - accuracy: 0.10 - ETA: 1:14 - loss: 2.5203 - accuracy: 0.10 - ETA: 1:12 - loss: 2.5190 - accuracy: 0.10 - ETA: 1:10 - loss: 2.5179 - accuracy: 0.10 - ETA: 1:08 - loss: 2.5168 - accuracy: 0.10 - ETA: 1:06 - loss: 2.5157 - accuracy: 0.10 - ETA: 1:04 - loss: 2.5146 - accuracy: 0.10 - ETA: 1:02 - loss: 2.5136 - accuracy: 0.10 - ETA: 1:00 - loss: 2.5126 - accuracy: 0.10 - ETA: 58s - loss: 2.5116 - accuracy: 0.1046 - ETA: 56s - loss: 2.5106 - accuracy: 0.104 - ETA: 53s - loss: 2.5096 - accuracy: 0.104 - ETA: 51s - loss: 2.5085 - accuracy: 0.104 - ETA: 49s - loss: 2.5075 - accuracy: 0.104 - ETA: 46s - loss: 2.5064 - accuracy: 0.104 - ETA: 44s - loss: 2.5054 - accuracy: 0.104 - ETA: 42s - loss: 2.5044 - accuracy: 0.104 - ETA: 39s - loss: 2.5034 - accuracy: 0.105 - ETA: 37s - loss: 2.5024 - accuracy: 0.105 - ETA: 34s - loss: 2.5013 - accuracy: 0.105 - ETA: 32s - loss: 2.5002 - accuracy: 0.105 - ETA: 30s - loss: 2.4992 - accuracy: 0.106 - ETA: 27s - loss: 2.4983 - accuracy: 0.106 - ETA: 25s - loss: 2.4974 - accuracy: 0.107 - ETA: 22s - loss: 2.4965 - accuracy: 0.107 - ETA: 20s - loss: 2.4957 - accuracy: 0.107 - ETA: 17s - loss: 2.4949 - accuracy: 0.108 - ETA: 15s - loss: 2.4942 - accuracy: 0.108 - ETA: 12s - loss: 2.4934 - accuracy: 0.108 - ETA: 10s - loss: 2.4927 - accuracy: 0.109 - ETA: 7s - loss: 2.4919 - accuracy: 0.109 - ETA: 5s - loss: 2.4912 - accuracy: 0.10 - ETA: 2s - loss: 2.4904 - accuracy: 0.11 - ETA: 0s - loss: 2.4897 - accuracy: 0.11 - 182s 3s/step - loss: 2.4890 - accuracy: 0.1108 - val_loss: 2.4275 - val_accuracy: 0.1365\n",
      "Epoch 2/5\n",
      "52/52 [==============================] - ETA: 2:23 - loss: 2.4115 - accuracy: 0.12 - ETA: 2:08 - loss: 2.4225 - accuracy: 0.11 - ETA: 2:11 - loss: 2.4226 - accuracy: 0.11 - ETA: 2:06 - loss: 2.4204 - accuracy: 0.12 - ETA: 2:03 - loss: 2.4189 - accuracy: 0.12 - ETA: 2:03 - loss: 2.4187 - accuracy: 0.12 - ETA: 2:00 - loss: 2.4191 - accuracy: 0.12 - ETA: 1:58 - loss: 2.4192 - accuracy: 0.12 - ETA: 1:56 - loss: 2.4194 - accuracy: 0.12 - ETA: 1:54 - loss: 2.4191 - accuracy: 0.12 - ETA: 1:51 - loss: 2.4188 - accuracy: 0.12 - ETA: 1:49 - loss: 2.4179 - accuracy: 0.12 - ETA: 1:47 - loss: 2.4179 - accuracy: 0.12 - ETA: 1:44 - loss: 2.4179 - accuracy: 0.12 - ETA: 1:42 - loss: 2.4179 - accuracy: 0.12 - ETA: 1:39 - loss: 2.4177 - accuracy: 0.12 - ETA: 1:36 - loss: 2.4174 - accuracy: 0.12 - ETA: 1:33 - loss: 2.4170 - accuracy: 0.12 - ETA: 1:30 - loss: 2.4167 - accuracy: 0.12 - ETA: 1:28 - loss: 2.4168 - accuracy: 0.12 - ETA: 1:25 - loss: 2.4170 - accuracy: 0.12 - ETA: 1:22 - loss: 2.4173 - accuracy: 0.12 - ETA: 1:20 - loss: 2.4175 - accuracy: 0.12 - ETA: 1:17 - loss: 2.4177 - accuracy: 0.12 - ETA: 1:14 - loss: 2.4179 - accuracy: 0.13 - ETA: 1:11 - loss: 2.4180 - accuracy: 0.13 - ETA: 1:08 - loss: 2.4182 - accuracy: 0.13 - ETA: 1:06 - loss: 2.4183 - accuracy: 0.13 - ETA: 1:03 - loss: 2.4182 - accuracy: 0.13 - ETA: 1:00 - loss: 2.4183 - accuracy: 0.13 - ETA: 57s - loss: 2.4184 - accuracy: 0.1319 - ETA: 55s - loss: 2.4185 - accuracy: 0.132 - ETA: 52s - loss: 2.4185 - accuracy: 0.132 - ETA: 49s - loss: 2.4185 - accuracy: 0.132 - ETA: 47s - loss: 2.4185 - accuracy: 0.132 - ETA: 44s - loss: 2.4185 - accuracy: 0.133 - ETA: 41s - loss: 2.4185 - accuracy: 0.133 - ETA: 38s - loss: 2.4186 - accuracy: 0.133 - ETA: 36s - loss: 2.4186 - accuracy: 0.133 - ETA: 33s - loss: 2.4187 - accuracy: 0.133 - ETA: 30s - loss: 2.4187 - accuracy: 0.133 - ETA: 27s - loss: 2.4187 - accuracy: 0.133 - ETA: 24s - loss: 2.4187 - accuracy: 0.133 - ETA: 22s - loss: 2.4187 - accuracy: 0.133 - ETA: 19s - loss: 2.4187 - accuracy: 0.134 - ETA: 16s - loss: 2.4187 - accuracy: 0.134 - ETA: 13s - loss: 2.4187 - accuracy: 0.134 - ETA: 11s - loss: 2.4187 - accuracy: 0.134 - ETA: 8s - loss: 2.4187 - accuracy: 0.134 - ETA: 5s - loss: 2.4188 - accuracy: 0.13 - ETA: 2s - loss: 2.4188 - accuracy: 0.13 - ETA: 0s - loss: 2.4187 - accuracy: 0.13 - 191s 4s/step - loss: 2.4187 - accuracy: 0.1347 - val_loss: 2.4095 - val_accuracy: 0.1545\n",
      "Epoch 3/5\n",
      "52/52 [==============================] - ETA: 2:25 - loss: 2.4312 - accuracy: 0.09 - ETA: 2:08 - loss: 2.4095 - accuracy: 0.10 - ETA: 2:12 - loss: 2.4068 - accuracy: 0.10 - ETA: 2:08 - loss: 2.4028 - accuracy: 0.10 - ETA: 2:08 - loss: 2.4043 - accuracy: 0.10 - ETA: 2:05 - loss: 2.4043 - accuracy: 0.10 - ETA: 2:02 - loss: 2.4037 - accuracy: 0.10 - ETA: 2:00 - loss: 2.4048 - accuracy: 0.11 - ETA: 1:57 - loss: 2.4054 - accuracy: 0.11 - ETA: 1:55 - loss: 2.4060 - accuracy: 0.11 - ETA: 1:52 - loss: 2.4062 - accuracy: 0.11 - ETA: 1:50 - loss: 2.4063 - accuracy: 0.11 - ETA: 1:47 - loss: 2.4064 - accuracy: 0.11 - ETA: 1:44 - loss: 2.4066 - accuracy: 0.11 - ETA: 1:42 - loss: 2.4069 - accuracy: 0.11 - ETA: 1:40 - loss: 2.4073 - accuracy: 0.11 - ETA: 1:39 - loss: 2.4076 - accuracy: 0.11 - ETA: 1:37 - loss: 2.4076 - accuracy: 0.11 - ETA: 1:34 - loss: 2.4079 - accuracy: 0.11 - ETA: 1:31 - loss: 2.4079 - accuracy: 0.11 - ETA: 1:28 - loss: 2.4077 - accuracy: 0.11 - ETA: 1:26 - loss: 2.4073 - accuracy: 0.11 - ETA: 1:23 - loss: 2.4070 - accuracy: 0.11 - ETA: 1:20 - loss: 2.4068 - accuracy: 0.11 - ETA: 1:18 - loss: 2.4065 - accuracy: 0.11 - ETA: 1:15 - loss: 2.4062 - accuracy: 0.11 - ETA: 1:13 - loss: 2.4060 - accuracy: 0.11 - ETA: 1:10 - loss: 2.4056 - accuracy: 0.11 - ETA: 1:08 - loss: 2.4051 - accuracy: 0.11 - ETA: 1:05 - loss: 2.4046 - accuracy: 0.11 - ETA: 1:02 - loss: 2.4041 - accuracy: 0.11 - ETA: 1:00 - loss: 2.4037 - accuracy: 0.12 - ETA: 57s - loss: 2.4032 - accuracy: 0.1203 - ETA: 54s - loss: 2.4027 - accuracy: 0.120 - ETA: 51s - loss: 2.4023 - accuracy: 0.120 - ETA: 47s - loss: 2.4019 - accuracy: 0.121 - ETA: 44s - loss: 2.4017 - accuracy: 0.121 - ETA: 41s - loss: 2.4013 - accuracy: 0.121 - ETA: 38s - loss: 2.4010 - accuracy: 0.121 - ETA: 35s - loss: 2.4006 - accuracy: 0.122 - ETA: 32s - loss: 2.4003 - accuracy: 0.122 - ETA: 29s - loss: 2.3999 - accuracy: 0.122 - ETA: 26s - loss: 2.3994 - accuracy: 0.122 - ETA: 24s - loss: 2.3990 - accuracy: 0.122 - ETA: 21s - loss: 2.3987 - accuracy: 0.123 - ETA: 18s - loss: 2.3983 - accuracy: 0.123 - ETA: 15s - loss: 2.3980 - accuracy: 0.123 - ETA: 12s - loss: 2.3976 - accuracy: 0.123 - ETA: 9s - loss: 2.3973 - accuracy: 0.124 - ETA: 6s - loss: 2.3969 - accuracy: 0.12 - ETA: 3s - loss: 2.3966 - accuracy: 0.12 - ETA: 0s - loss: 2.3963 - accuracy: 0.12 - 206s 4s/step - loss: 2.3960 - accuracy: 0.1250 - val_loss: 2.3604 - val_accuracy: 0.1545\n",
      "Epoch 4/5\n",
      "52/52 [==============================] - ETA: 2:30 - loss: 2.2869 - accuracy: 0.09 - ETA: 2:14 - loss: 2.2882 - accuracy: 0.09 - ETA: 2:26 - loss: 2.2885 - accuracy: 0.09 - ETA: 2:31 - loss: 2.2908 - accuracy: 0.11 - ETA: 2:31 - loss: 2.2974 - accuracy: 0.11 - ETA: 2:32 - loss: 2.3047 - accuracy: 0.12 - ETA: 2:29 - loss: 2.3080 - accuracy: 0.12 - ETA: 2:23 - loss: 2.3091 - accuracy: 0.12 - ETA: 2:19 - loss: 2.3066 - accuracy: 0.12 - ETA: 2:15 - loss: 2.3044 - accuracy: 0.13 - ETA: 2:12 - loss: 2.3041 - accuracy: 0.13 - ETA: 2:08 - loss: 2.3038 - accuracy: 0.13 - ETA: 2:06 - loss: 2.3044 - accuracy: 0.13 - ETA: 2:01 - loss: 2.3050 - accuracy: 0.14 - ETA: 1:57 - loss: 2.3056 - accuracy: 0.14 - ETA: 1:55 - loss: 2.3061 - accuracy: 0.14 - ETA: 1:52 - loss: 2.3064 - accuracy: 0.14 - ETA: 1:48 - loss: 2.3063 - accuracy: 0.14 - ETA: 1:45 - loss: 2.3064 - accuracy: 0.14 - ETA: 1:42 - loss: 2.3067 - accuracy: 0.14 - ETA: 1:38 - loss: 2.3067 - accuracy: 0.15 - ETA: 1:35 - loss: 2.3068 - accuracy: 0.15 - ETA: 1:32 - loss: 2.3073 - accuracy: 0.15 - ETA: 1:28 - loss: 2.3077 - accuracy: 0.15 - ETA: 1:25 - loss: 2.3082 - accuracy: 0.15 - ETA: 1:22 - loss: 2.3088 - accuracy: 0.15 - ETA: 1:19 - loss: 2.3093 - accuracy: 0.15 - ETA: 1:15 - loss: 2.3098 - accuracy: 0.15 - ETA: 1:12 - loss: 2.3104 - accuracy: 0.15 - ETA: 1:09 - loss: 2.3108 - accuracy: 0.15 - ETA: 1:05 - loss: 2.3112 - accuracy: 0.16 - ETA: 1:02 - loss: 2.3116 - accuracy: 0.16 - ETA: 58s - loss: 2.3119 - accuracy: 0.1613 - ETA: 55s - loss: 2.3122 - accuracy: 0.161 - ETA: 52s - loss: 2.3124 - accuracy: 0.162 - ETA: 49s - loss: 2.3126 - accuracy: 0.163 - ETA: 46s - loss: 2.3129 - accuracy: 0.163 - ETA: 42s - loss: 2.3132 - accuracy: 0.163 - ETA: 39s - loss: 2.3136 - accuracy: 0.164 - ETA: 36s - loss: 2.3138 - accuracy: 0.164 - ETA: 33s - loss: 2.3140 - accuracy: 0.164 - ETA: 30s - loss: 2.3142 - accuracy: 0.165 - ETA: 27s - loss: 2.3145 - accuracy: 0.165 - ETA: 24s - loss: 2.3147 - accuracy: 0.165 - ETA: 21s - loss: 2.3148 - accuracy: 0.165 - ETA: 18s - loss: 2.3149 - accuracy: 0.165 - ETA: 15s - loss: 2.3150 - accuracy: 0.166 - ETA: 12s - loss: 2.3150 - accuracy: 0.166 - ETA: 9s - loss: 2.3150 - accuracy: 0.166 - ETA: 6s - loss: 2.3150 - accuracy: 0.16 - ETA: 3s - loss: 2.3150 - accuracy: 0.16 - ETA: 0s - loss: 2.3150 - accuracy: 0.16 - 207s 4s/step - loss: 2.3150 - accuracy: 0.1671 - val_loss: 2.3389 - val_accuracy: 0.1702\n",
      "Epoch 5/5\n",
      "52/52 [==============================] - ETA: 2:23 - loss: 2.1807 - accuracy: 0.28 - ETA: 2:25 - loss: 2.2072 - accuracy: 0.25 - ETA: 2:22 - loss: 2.2033 - accuracy: 0.25 - ETA: 2:17 - loss: 2.2046 - accuracy: 0.24 - ETA: 2:13 - loss: 2.2148 - accuracy: 0.24 - ETA: 2:12 - loss: 2.2154 - accuracy: 0.24 - ETA: 2:09 - loss: 2.2190 - accuracy: 0.24 - ETA: 2:09 - loss: 2.2228 - accuracy: 0.24 - ETA: 2:06 - loss: 2.2292 - accuracy: 0.24 - ETA: 2:03 - loss: 2.2331 - accuracy: 0.23 - ETA: 2:02 - loss: 2.2355 - accuracy: 0.23 - ETA: 1:58 - loss: 2.2366 - accuracy: 0.23 - ETA: 1:56 - loss: 2.2383 - accuracy: 0.23 - ETA: 1:53 - loss: 2.2385 - accuracy: 0.23 - ETA: 1:50 - loss: 2.2383 - accuracy: 0.23 - ETA: 1:47 - loss: 2.2378 - accuracy: 0.23 - ETA: 1:45 - loss: 2.2368 - accuracy: 0.23 - ETA: 1:41 - loss: 2.2360 - accuracy: 0.23 - ETA: 1:38 - loss: 2.2352 - accuracy: 0.23 - ETA: 1:35 - loss: 2.2346 - accuracy: 0.23 - ETA: 1:32 - loss: 2.2337 - accuracy: 0.23 - ETA: 1:29 - loss: 2.2329 - accuracy: 0.23 - ETA: 1:26 - loss: 2.2321 - accuracy: 0.23 - ETA: 1:23 - loss: 2.2313 - accuracy: 0.23 - ETA: 1:19 - loss: 2.2302 - accuracy: 0.23 - ETA: 1:16 - loss: 2.2290 - accuracy: 0.23 - ETA: 1:13 - loss: 2.2281 - accuracy: 0.23 - ETA: 1:11 - loss: 2.2273 - accuracy: 0.23 - ETA: 1:08 - loss: 2.2266 - accuracy: 0.23 - ETA: 1:05 - loss: 2.2261 - accuracy: 0.23 - ETA: 1:02 - loss: 2.2254 - accuracy: 0.23 - ETA: 59s - loss: 2.2249 - accuracy: 0.2318 - ETA: 56s - loss: 2.2242 - accuracy: 0.231 - ETA: 53s - loss: 2.2237 - accuracy: 0.231 - ETA: 50s - loss: 2.2234 - accuracy: 0.231 - ETA: 47s - loss: 2.2230 - accuracy: 0.231 - ETA: 44s - loss: 2.2226 - accuracy: 0.231 - ETA: 41s - loss: 2.2221 - accuracy: 0.231 - ETA: 38s - loss: 2.2217 - accuracy: 0.231 - ETA: 35s - loss: 2.2212 - accuracy: 0.232 - ETA: 32s - loss: 2.2208 - accuracy: 0.232 - ETA: 29s - loss: 2.2204 - accuracy: 0.232 - ETA: 26s - loss: 2.2200 - accuracy: 0.232 - ETA: 23s - loss: 2.2197 - accuracy: 0.232 - ETA: 20s - loss: 2.2194 - accuracy: 0.232 - ETA: 17s - loss: 2.2191 - accuracy: 0.232 - ETA: 14s - loss: 2.2188 - accuracy: 0.232 - ETA: 11s - loss: 2.2184 - accuracy: 0.232 - ETA: 8s - loss: 2.2180 - accuracy: 0.232 - ETA: 5s - loss: 2.2175 - accuracy: 0.23 - ETA: 2s - loss: 2.2172 - accuracy: 0.23 - ETA: 0s - loss: 2.2169 - accuracy: 0.23 - 204s 4s/step - loss: 2.2165 - accuracy: 0.2325 - val_loss: 2.3279 - val_accuracy: 0.1846\n"
     ]
    },
    {
     "data": {
      "text/plain": [
       "<tensorflow.python.keras.callbacks.History at 0x25b9b91b108>"
      ]
     },
     "execution_count": 35,
     "metadata": {},
     "output_type": "execute_result"
    }
   ],
   "source": [
    "# Training model\n",
    "\n",
    "epochs = 5\n",
    "\n",
    "model.fit(X_train, y_train, validation_data=(X_val, y_val), epochs=epochs)"
   ]
  },
  {
   "cell_type": "code",
   "execution_count": 36,
   "metadata": {},
   "outputs": [
    {
     "name": "stdout",
     "output_type": "stream",
     "text": [
      "45/45 [==============================] - ETA: 48s - loss: 2.2058 - accuracy: 0.187 - ETA: 43s - loss: 2.2146 - accuracy: 0.234 - ETA: 42s - loss: 2.2573 - accuracy: 0.229 - ETA: 42s - loss: 2.2156 - accuracy: 0.234 - ETA: 40s - loss: 2.2851 - accuracy: 0.225 - ETA: 39s - loss: 2.2990 - accuracy: 0.213 - ETA: 38s - loss: 2.3138 - accuracy: 0.192 - ETA: 37s - loss: 2.3206 - accuracy: 0.187 - ETA: 36s - loss: 2.3190 - accuracy: 0.191 - ETA: 35s - loss: 2.3225 - accuracy: 0.184 - ETA: 34s - loss: 2.3210 - accuracy: 0.179 - ETA: 33s - loss: 2.3124 - accuracy: 0.174 - ETA: 32s - loss: 2.3232 - accuracy: 0.170 - ETA: 31s - loss: 2.3352 - accuracy: 0.176 - ETA: 30s - loss: 2.3379 - accuracy: 0.175 - ETA: 29s - loss: 2.3241 - accuracy: 0.175 - ETA: 28s - loss: 2.3307 - accuracy: 0.178 - ETA: 27s - loss: 2.3254 - accuracy: 0.182 - ETA: 26s - loss: 2.3200 - accuracy: 0.177 - ETA: 25s - loss: 2.3112 - accuracy: 0.179 - ETA: 24s - loss: 2.2976 - accuracy: 0.180 - ETA: 23s - loss: 2.2945 - accuracy: 0.179 - ETA: 22s - loss: 2.2915 - accuracy: 0.183 - ETA: 20s - loss: 2.2844 - accuracy: 0.186 - ETA: 19s - loss: 2.2808 - accuracy: 0.187 - ETA: 18s - loss: 2.2773 - accuracy: 0.187 - ETA: 17s - loss: 2.2746 - accuracy: 0.188 - ETA: 16s - loss: 2.2795 - accuracy: 0.185 - ETA: 15s - loss: 2.2859 - accuracy: 0.188 - ETA: 14s - loss: 2.2906 - accuracy: 0.186 - ETA: 13s - loss: 2.2907 - accuracy: 0.189 - ETA: 12s - loss: 2.2984 - accuracy: 0.185 - ETA: 11s - loss: 2.3023 - accuracy: 0.184 - ETA: 10s - loss: 2.3068 - accuracy: 0.183 - ETA: 9s - loss: 2.3161 - accuracy: 0.183 - ETA: 8s - loss: 2.3182 - accuracy: 0.18 - ETA: 7s - loss: 2.3181 - accuracy: 0.18 - ETA: 6s - loss: 2.3190 - accuracy: 0.18 - ETA: 5s - loss: 2.3151 - accuracy: 0.18 - ETA: 4s - loss: 2.3166 - accuracy: 0.18 - ETA: 3s - loss: 2.3157 - accuracy: 0.18 - ETA: 2s - loss: 2.3170 - accuracy: 0.18 - ETA: 1s - loss: 2.3152 - accuracy: 0.18 - ETA: 0s - loss: 2.3142 - accuracy: 0.18 - ETA: 0s - loss: 2.3151 - accuracy: 0.18 - 43s 948ms/step - loss: 2.3151 - accuracy: 0.1881\n"
     ]
    },
    {
     "data": {
      "text/plain": [
       "[2.315112352371216, 0.1880701780319214]"
      ]
     },
     "execution_count": 36,
     "metadata": {},
     "output_type": "execute_result"
    }
   ],
   "source": [
    "# Evaluate the model and print confusion matrix\n",
    "\n",
    "model.evaluate(X_test, y_test)"
   ]
  },
  {
   "cell_type": "code",
   "execution_count": 225,
   "metadata": {},
   "outputs": [
    {
     "data": {
      "text/plain": [
       "<AxesSubplot:>"
      ]
     },
     "execution_count": 225,
     "metadata": {},
     "output_type": "execute_result"
    },
    {
     "data": {
      "image/png": "[encoded data removed]",
      "text/plain": [
       "<Figure size 432x288 with 2 Axes>"
      ]
     },
     "metadata": {
      "needs_background": "light"
     },
     "output_type": "display_data"
    }
   ],
   "source": [
    "y_pred = model.predict(X_test)\n",
    "\n",
    "round_predicts = np.argmax(y_pred, axis=1)\n",
    "\n",
    "#for i in round_predicts:\n",
    "    #print(i)\n",
    "    \n",
    "le = LabelEncoder()\n",
    "\n",
    "round_predicts = le.fit_transform(round_predicts)\n",
    "\n",
    "\n",
    "\n",
    "y_test = np.argmax(y_test, axis=1)\n",
    "\n",
    "cm = confusion_matrix(y_test, round_predicts)\n",
    "\n",
    "sb.heatmap(cm, annot=True)"
   ]
  },
  {
   "cell_type": "code",
   "execution_count": 61,
   "metadata": {},
   "outputs": [],
   "source": [
    "# Visualize predictions\n",
    "\n",
    "y_pred_2 = np.argmax(model.predict(X_test[2].reshape(1, 256, 256, 1)))\n",
    "y_pred_3 = np.argmax(model.predict(X_test[3].reshape(1, 256, 256, 1)))\n",
    "y_pred_33 = np.argmax(model.predict(X_test[33].reshape(1, 256, 256, 1)))\n",
    "y_pred_36 = np.argmax(model.predict(X_test[36].reshape(1, 256, 256, 1)))\n",
    "y_pred_59 = np.argmax(model.predict(X_test[59].reshape(1, 256, 256, 1)))"
   ]
  },
  {
   "cell_type": "code",
   "execution_count": 59,
   "metadata": {},
   "outputs": [
    {
     "name": "stdout",
     "output_type": "stream",
     "text": [
      "Prediction for X_test[2]:  8\n"
     ]
    }
   ],
   "source": [
    "print(\"Prediction for X_test[2]: \", y_pred_2)"
   ]
  },
  {
   "cell_type": "code",
   "execution_count": 62,
   "metadata": {},
   "outputs": [
    {
     "name": "stdout",
     "output_type": "stream",
     "text": [
      "Prediction for X_test[3]:  6\n"
     ]
    }
   ],
   "source": [
    "print(\"Prediction for X_test[3]: \", y_pred_3)"
   ]
  },
  {
   "cell_type": "code",
   "execution_count": 63,
   "metadata": {},
   "outputs": [
    {
     "name": "stdout",
     "output_type": "stream",
     "text": [
      "Prediction for X_test[33]:  3\n"
     ]
    }
   ],
   "source": [
    "print(\"Prediction for X_test[33]: \", y_pred_33)"
   ]
  },
  {
   "cell_type": "code",
   "execution_count": 64,
   "metadata": {},
   "outputs": [
    {
     "name": "stdout",
     "output_type": "stream",
     "text": [
      "Prediction for X_test[36]:  8\n"
     ]
    }
   ],
   "source": [
    "print(\"Prediction for X_test[36]: \", y_pred_36)"
   ]
  },
  {
   "cell_type": "code",
   "execution_count": 65,
   "metadata": {},
   "outputs": [
    {
     "name": "stdout",
     "output_type": "stream",
     "text": [
      "Prediction for X_test[59]:  3\n"
     ]
    }
   ],
   "source": [
    "print(\"Prediction for X_test[59]: \", y_pred_59)"
   ]
  },
  {
   "cell_type": "code",
   "execution_count": null,
   "metadata": {},
   "outputs": [],
   "source": []
  }
 ],
 "metadata": {
  "kernelspec": {
   "display_name": "Python 3",
   "language": "python",
   "name": "python3"
  },
  "language_info": {
   "codemirror_mode": {
    "name": "ipython",
    "version": 3
   },
   "file_extension": ".py",
   "mimetype": "text/x-python",
   "name": "python",
   "nbconvert_exporter": "python",
   "pygments_lexer": "ipython3",
   "version": "3.7.4"
  }
 },
 "nbformat": 4,
 "nbformat_minor": 2
}
