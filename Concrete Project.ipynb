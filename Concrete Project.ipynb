{
 "cells": [
  {
   "cell_type": "markdown",
   "metadata": {},
   "source": [
    "# Concrete Strength Prediction Project"
   ]
  },
  {
   "cell_type": "markdown",
   "metadata": {},
   "source": [
    "### Objective\n",
    "#### To predict the strength of concrete using data from the file 'concrete.csv' by applying feature engineering and model tuning in order to obtain 85% to 95% accuracy."
   ]
  },
  {
   "cell_type": "markdown",
   "metadata": {},
   "source": [
    "Attribute Information:\n",
    "\n",
    "Given are the variable name, variable type, the measurement unit, and a brief description. The concrete compressive strength is the regression problem. The order of this listing corresponds to the order of numerals along the rows of the database."
   ]
  },
  {
   "cell_type": "code",
   "execution_count": 1,
   "metadata": {},
   "outputs": [],
   "source": [
    "#! pip install tabulate"
   ]
  },
  {
   "cell_type": "code",
   "execution_count": 2,
   "metadata": {},
   "outputs": [
    {
     "data": {
      "text/html": [
       "<table>\n",
       "<tbody>\n",
       "<tr><td>Name                                   </td><td>Data Type   </td><td>Measurement (kg = kilos, m3 = cubic meters)</td><td>Description    </td></tr>\n",
       "<tr><td>Cement (cement)                        </td><td>quantitative</td><td>kg in a m3 mixture                         </td><td>Input Variable </td></tr>\n",
       "<tr><td>Blast Furnace Slag (slag)              </td><td>quantitative</td><td>kg in a m3 mixture                         </td><td>Input Variable </td></tr>\n",
       "<tr><td>Fly Ash (ash)                          </td><td>quantitative</td><td>kg in a m3 mixture                         </td><td>Input Variable </td></tr>\n",
       "<tr><td>Water(water)                           </td><td>quantitative</td><td>kg in a m3 mixture                         </td><td>Input Variable </td></tr>\n",
       "<tr><td>Superplasticizer (superplastic)        </td><td>quantitative</td><td>kg in a m3 mixture                         </td><td>Input Variable </td></tr>\n",
       "<tr><td>Coarse Aggregate (coarseagg)           </td><td>quantitative</td><td>kg in a m3 mixture                         </td><td>Input Variable </td></tr>\n",
       "<tr><td>Fine Aggregate (fineagg)               </td><td>quantitative</td><td>kg in a m3 mixture                         </td><td>Input Variable </td></tr>\n",
       "<tr><td>Age(age)                               </td><td>quantitative</td><td>Day (1-365)                                </td><td>Input Variable </td></tr>\n",
       "<tr><td>Concrete compressive strength(strength)</td><td>quantitative</td><td>MPa (Megapascals)                          </td><td>Output Variable</td></tr>\n",
       "</tbody>\n",
       "</table>"
      ],
      "text/plain": [
       "<IPython.core.display.HTML object>"
      ]
     },
     "metadata": {},
     "output_type": "display_data"
    }
   ],
   "source": [
    "from IPython.display import HTML, display\n",
    "import tabulate\n",
    "\n",
    "table = [[\"Name\", \"Data Type\", \"Measurement (kg = kilos, m3 = cubic meters)\", \"Description\"],\n",
    "         [\"Cement (cement)\", \"quantitative\", \"kg in a m3 mixture\", \"Input Variable\"],\n",
    "         [\"Blast Furnace Slag (slag)\", \"quantitative\", \"kg in a m3 mixture\", \"Input Variable\"],\n",
    "         [\"Fly Ash (ash)\", \"quantitative\", \"kg in a m3 mixture\", \"Input Variable\"],\n",
    "         [\"Water(water)\", \"quantitative\", \"kg in a m3 mixture\", \"Input Variable\"],\n",
    "         [\"Superplasticizer (superplastic)\", \"quantitative\", \"kg in a m3 mixture\", \"Input Variable\"],\n",
    "         [\"Coarse Aggregate (coarseagg)\", \"quantitative\", \"kg in a m3 mixture\", \"Input Variable\"],\n",
    "         [\"Fine Aggregate (fineagg)\", \"quantitative\", \"kg in a m3 mixture\", \"Input Variable\"],\n",
    "         [\"Age(age)\", \"quantitative\", \"Day (1-365)\", \"Input Variable\"],\n",
    "         [\"Concrete compressive strength(strength)\", \"quantitative\", \"MPa (Megapascals)\", \"Output Variable\"]]\n",
    "\n",
    "display(HTML(tabulate.tabulate(table, tablefmt='html')))"
   ]
  },
  {
   "cell_type": "code",
   "execution_count": 3,
   "metadata": {},
   "outputs": [
    {
     "name": "stderr",
     "output_type": "stream",
     "text": [
      "C:\\Users\\William\\Anaconda3\\lib\\site-packages\\statsmodels\\tools\\_testing.py:19: FutureWarning: pandas.util.testing is deprecated. Use the functions in the public API at pandas.testing instead.\n",
      "  import pandas.util.testing as tm\n"
     ]
    }
   ],
   "source": [
    "# Importing libraries\n",
    "import numpy as np\n",
    "import pandas as pd\n",
    "import matplotlib.pyplot as plt\n",
    "import seaborn as sb\n",
    "%matplotlib inline\n",
    "from sklearn import preprocessing\n",
    "from sklearn.model_selection import train_test_split\n",
    "from sklearn.linear_model import LinearRegression\n",
    "from sklearn.tree import DecisionTreeRegressor\n",
    "from sklearn.ensemble import BaggingRegressor, AdaBoostRegressor, RandomForestRegressor\n",
    "from sklearn import tree\n",
    "from os import system\n"
   ]
  },
  {
   "cell_type": "code",
   "execution_count": 4,
   "metadata": {},
   "outputs": [],
   "source": [
    "# Importing dataset\n",
    "\n",
    "concrete = pd.read_csv('concrete.csv')"
   ]
  },
  {
   "cell_type": "code",
   "execution_count": 5,
   "metadata": {},
   "outputs": [
    {
     "data": {
      "text/html": [
       "<div>\n",
       "<style scoped>\n",
       "    .dataframe tbody tr th:only-of-type {\n",
       "        vertical-align: middle;\n",
       "    }\n",
       "\n",
       "    .dataframe tbody tr th {\n",
       "        vertical-align: top;\n",
       "    }\n",
       "\n",
       "    .dataframe thead th {\n",
       "        text-align: right;\n",
       "    }\n",
       "</style>\n",
       "<table border=\"1\" class=\"dataframe\">\n",
       "  <thead>\n",
       "    <tr style=\"text-align: right;\">\n",
       "      <th></th>\n",
       "      <th>cement</th>\n",
       "      <th>slag</th>\n",
       "      <th>ash</th>\n",
       "      <th>water</th>\n",
       "      <th>superplastic</th>\n",
       "      <th>coarseagg</th>\n",
       "      <th>fineagg</th>\n",
       "      <th>age</th>\n",
       "      <th>strength</th>\n",
       "    </tr>\n",
       "  </thead>\n",
       "  <tbody>\n",
       "    <tr>\n",
       "      <th>0</th>\n",
       "      <td>141.3</td>\n",
       "      <td>212.0</td>\n",
       "      <td>0.0</td>\n",
       "      <td>203.5</td>\n",
       "      <td>0.0</td>\n",
       "      <td>971.8</td>\n",
       "      <td>748.5</td>\n",
       "      <td>28</td>\n",
       "      <td>29.89</td>\n",
       "    </tr>\n",
       "    <tr>\n",
       "      <th>1</th>\n",
       "      <td>168.9</td>\n",
       "      <td>42.2</td>\n",
       "      <td>124.3</td>\n",
       "      <td>158.3</td>\n",
       "      <td>10.8</td>\n",
       "      <td>1080.8</td>\n",
       "      <td>796.2</td>\n",
       "      <td>14</td>\n",
       "      <td>23.51</td>\n",
       "    </tr>\n",
       "    <tr>\n",
       "      <th>2</th>\n",
       "      <td>250.0</td>\n",
       "      <td>0.0</td>\n",
       "      <td>95.7</td>\n",
       "      <td>187.4</td>\n",
       "      <td>5.5</td>\n",
       "      <td>956.9</td>\n",
       "      <td>861.2</td>\n",
       "      <td>28</td>\n",
       "      <td>29.22</td>\n",
       "    </tr>\n",
       "    <tr>\n",
       "      <th>3</th>\n",
       "      <td>266.0</td>\n",
       "      <td>114.0</td>\n",
       "      <td>0.0</td>\n",
       "      <td>228.0</td>\n",
       "      <td>0.0</td>\n",
       "      <td>932.0</td>\n",
       "      <td>670.0</td>\n",
       "      <td>28</td>\n",
       "      <td>45.85</td>\n",
       "    </tr>\n",
       "    <tr>\n",
       "      <th>4</th>\n",
       "      <td>154.8</td>\n",
       "      <td>183.4</td>\n",
       "      <td>0.0</td>\n",
       "      <td>193.3</td>\n",
       "      <td>9.1</td>\n",
       "      <td>1047.4</td>\n",
       "      <td>696.7</td>\n",
       "      <td>28</td>\n",
       "      <td>18.29</td>\n",
       "    </tr>\n",
       "  </tbody>\n",
       "</table>\n",
       "</div>"
      ],
      "text/plain": [
       "   cement   slag    ash  water  superplastic  coarseagg  fineagg  age  \\\n",
       "0   141.3  212.0    0.0  203.5           0.0      971.8    748.5   28   \n",
       "1   168.9   42.2  124.3  158.3          10.8     1080.8    796.2   14   \n",
       "2   250.0    0.0   95.7  187.4           5.5      956.9    861.2   28   \n",
       "3   266.0  114.0    0.0  228.0           0.0      932.0    670.0   28   \n",
       "4   154.8  183.4    0.0  193.3           9.1     1047.4    696.7   28   \n",
       "\n",
       "   strength  \n",
       "0     29.89  \n",
       "1     23.51  \n",
       "2     29.22  \n",
       "3     45.85  \n",
       "4     18.29  "
      ]
     },
     "execution_count": 5,
     "metadata": {},
     "output_type": "execute_result"
    }
   ],
   "source": [
    "# Displaying first 5 rows\n",
    "\n",
    "concrete.head(5)"
   ]
  },
  {
   "cell_type": "code",
   "execution_count": 6,
   "metadata": {},
   "outputs": [
    {
     "name": "stdout",
     "output_type": "stream",
     "text": [
      "<class 'pandas.core.frame.DataFrame'>\n",
      "RangeIndex: 1030 entries, 0 to 1029\n",
      "Data columns (total 9 columns):\n",
      " #   Column        Non-Null Count  Dtype  \n",
      "---  ------        --------------  -----  \n",
      " 0   cement        1030 non-null   float64\n",
      " 1   slag          1030 non-null   float64\n",
      " 2   ash           1030 non-null   float64\n",
      " 3   water         1030 non-null   float64\n",
      " 4   superplastic  1030 non-null   float64\n",
      " 5   coarseagg     1030 non-null   float64\n",
      " 6   fineagg       1030 non-null   float64\n",
      " 7   age           1030 non-null   int64  \n",
      " 8   strength      1030 non-null   float64\n",
      "dtypes: float64(8), int64(1)\n",
      "memory usage: 72.5 KB\n"
     ]
    }
   ],
   "source": [
    "# Checking datatypes\n",
    "\n",
    "concrete.info()"
   ]
  },
  {
   "cell_type": "code",
   "execution_count": 7,
   "metadata": {},
   "outputs": [
    {
     "name": "stdout",
     "output_type": "stream",
     "text": [
      "<class 'pandas.core.frame.DataFrame'>\n",
      "RangeIndex: 1030 entries, 0 to 1029\n",
      "Data columns (total 9 columns):\n",
      " #   Column        Non-Null Count  Dtype  \n",
      "---  ------        --------------  -----  \n",
      " 0   cement        1030 non-null   float64\n",
      " 1   slag          1030 non-null   float64\n",
      " 2   ash           1030 non-null   float64\n",
      " 3   water         1030 non-null   float64\n",
      " 4   superplastic  1030 non-null   float64\n",
      " 5   coarseagg     1030 non-null   float64\n",
      " 6   fineagg       1030 non-null   float64\n",
      " 7   age           1030 non-null   float64\n",
      " 8   strength      1030 non-null   float64\n",
      "dtypes: float64(9)\n",
      "memory usage: 72.5 KB\n"
     ]
    }
   ],
   "source": [
    "# Converting 'age' variable to 'float64' datatype\n",
    "\n",
    "concrete['age'] = concrete['age'].astype('float64')\n",
    "\n",
    "concrete.info()"
   ]
  },
  {
   "cell_type": "code",
   "execution_count": 8,
   "metadata": {},
   "outputs": [
    {
     "data": {
      "text/plain": [
       "(1030, 9)"
      ]
     },
     "execution_count": 8,
     "metadata": {},
     "output_type": "execute_result"
    }
   ],
   "source": [
    "# Checking shape\n",
    "\n",
    "concrete.shape"
   ]
  },
  {
   "cell_type": "markdown",
   "metadata": {},
   "source": [
    "### No null values present according to datatypes and shape."
   ]
  },
  {
   "cell_type": "markdown",
   "metadata": {},
   "source": [
    "## Exploratory Data Quality Report\n",
    "### Univariate Analysis"
   ]
  },
  {
   "cell_type": "code",
   "execution_count": 9,
   "metadata": {},
   "outputs": [
    {
     "data": {
      "text/html": [
       "<div>\n",
       "<style scoped>\n",
       "    .dataframe tbody tr th:only-of-type {\n",
       "        vertical-align: middle;\n",
       "    }\n",
       "\n",
       "    .dataframe tbody tr th {\n",
       "        vertical-align: top;\n",
       "    }\n",
       "\n",
       "    .dataframe thead th {\n",
       "        text-align: right;\n",
       "    }\n",
       "</style>\n",
       "<table border=\"1\" class=\"dataframe\">\n",
       "  <thead>\n",
       "    <tr style=\"text-align: right;\">\n",
       "      <th></th>\n",
       "      <th>count</th>\n",
       "      <th>mean</th>\n",
       "      <th>std</th>\n",
       "      <th>min</th>\n",
       "      <th>25%</th>\n",
       "      <th>50%</th>\n",
       "      <th>75%</th>\n",
       "      <th>max</th>\n",
       "    </tr>\n",
       "  </thead>\n",
       "  <tbody>\n",
       "    <tr>\n",
       "      <th>cement</th>\n",
       "      <td>1030.0</td>\n",
       "      <td>281.167864</td>\n",
       "      <td>104.506364</td>\n",
       "      <td>102.00</td>\n",
       "      <td>192.375</td>\n",
       "      <td>272.900</td>\n",
       "      <td>350.000</td>\n",
       "      <td>540.0</td>\n",
       "    </tr>\n",
       "    <tr>\n",
       "      <th>slag</th>\n",
       "      <td>1030.0</td>\n",
       "      <td>73.895825</td>\n",
       "      <td>86.279342</td>\n",
       "      <td>0.00</td>\n",
       "      <td>0.000</td>\n",
       "      <td>22.000</td>\n",
       "      <td>142.950</td>\n",
       "      <td>359.4</td>\n",
       "    </tr>\n",
       "    <tr>\n",
       "      <th>ash</th>\n",
       "      <td>1030.0</td>\n",
       "      <td>54.188350</td>\n",
       "      <td>63.997004</td>\n",
       "      <td>0.00</td>\n",
       "      <td>0.000</td>\n",
       "      <td>0.000</td>\n",
       "      <td>118.300</td>\n",
       "      <td>200.1</td>\n",
       "    </tr>\n",
       "    <tr>\n",
       "      <th>water</th>\n",
       "      <td>1030.0</td>\n",
       "      <td>181.567282</td>\n",
       "      <td>21.354219</td>\n",
       "      <td>121.80</td>\n",
       "      <td>164.900</td>\n",
       "      <td>185.000</td>\n",
       "      <td>192.000</td>\n",
       "      <td>247.0</td>\n",
       "    </tr>\n",
       "    <tr>\n",
       "      <th>superplastic</th>\n",
       "      <td>1030.0</td>\n",
       "      <td>6.204660</td>\n",
       "      <td>5.973841</td>\n",
       "      <td>0.00</td>\n",
       "      <td>0.000</td>\n",
       "      <td>6.400</td>\n",
       "      <td>10.200</td>\n",
       "      <td>32.2</td>\n",
       "    </tr>\n",
       "    <tr>\n",
       "      <th>coarseagg</th>\n",
       "      <td>1030.0</td>\n",
       "      <td>972.918932</td>\n",
       "      <td>77.753954</td>\n",
       "      <td>801.00</td>\n",
       "      <td>932.000</td>\n",
       "      <td>968.000</td>\n",
       "      <td>1029.400</td>\n",
       "      <td>1145.0</td>\n",
       "    </tr>\n",
       "    <tr>\n",
       "      <th>fineagg</th>\n",
       "      <td>1030.0</td>\n",
       "      <td>773.580485</td>\n",
       "      <td>80.175980</td>\n",
       "      <td>594.00</td>\n",
       "      <td>730.950</td>\n",
       "      <td>779.500</td>\n",
       "      <td>824.000</td>\n",
       "      <td>992.6</td>\n",
       "    </tr>\n",
       "    <tr>\n",
       "      <th>age</th>\n",
       "      <td>1030.0</td>\n",
       "      <td>45.662136</td>\n",
       "      <td>63.169912</td>\n",
       "      <td>1.00</td>\n",
       "      <td>7.000</td>\n",
       "      <td>28.000</td>\n",
       "      <td>56.000</td>\n",
       "      <td>365.0</td>\n",
       "    </tr>\n",
       "    <tr>\n",
       "      <th>strength</th>\n",
       "      <td>1030.0</td>\n",
       "      <td>35.817961</td>\n",
       "      <td>16.705742</td>\n",
       "      <td>2.33</td>\n",
       "      <td>23.710</td>\n",
       "      <td>34.445</td>\n",
       "      <td>46.135</td>\n",
       "      <td>82.6</td>\n",
       "    </tr>\n",
       "  </tbody>\n",
       "</table>\n",
       "</div>"
      ],
      "text/plain": [
       "               count        mean         std     min      25%      50%  \\\n",
       "cement        1030.0  281.167864  104.506364  102.00  192.375  272.900   \n",
       "slag          1030.0   73.895825   86.279342    0.00    0.000   22.000   \n",
       "ash           1030.0   54.188350   63.997004    0.00    0.000    0.000   \n",
       "water         1030.0  181.567282   21.354219  121.80  164.900  185.000   \n",
       "superplastic  1030.0    6.204660    5.973841    0.00    0.000    6.400   \n",
       "coarseagg     1030.0  972.918932   77.753954  801.00  932.000  968.000   \n",
       "fineagg       1030.0  773.580485   80.175980  594.00  730.950  779.500   \n",
       "age           1030.0   45.662136   63.169912    1.00    7.000   28.000   \n",
       "strength      1030.0   35.817961   16.705742    2.33   23.710   34.445   \n",
       "\n",
       "                   75%     max  \n",
       "cement         350.000   540.0  \n",
       "slag           142.950   359.4  \n",
       "ash            118.300   200.1  \n",
       "water          192.000   247.0  \n",
       "superplastic    10.200    32.2  \n",
       "coarseagg     1029.400  1145.0  \n",
       "fineagg        824.000   992.6  \n",
       "age             56.000   365.0  \n",
       "strength        46.135    82.6  "
      ]
     },
     "execution_count": 9,
     "metadata": {},
     "output_type": "execute_result"
    }
   ],
   "source": [
    "# Displaying statistical summary\n",
    "\n",
    "concrete.describe().T"
   ]
  },
  {
   "cell_type": "code",
   "execution_count": 10,
   "metadata": {},
   "outputs": [
    {
     "name": "stdout",
     "output_type": "stream",
     "text": [
      "Duplicate Rows: \n"
     ]
    },
    {
     "data": {
      "text/html": [
       "<div>\n",
       "<style scoped>\n",
       "    .dataframe tbody tr th:only-of-type {\n",
       "        vertical-align: middle;\n",
       "    }\n",
       "\n",
       "    .dataframe tbody tr th {\n",
       "        vertical-align: top;\n",
       "    }\n",
       "\n",
       "    .dataframe thead th {\n",
       "        text-align: right;\n",
       "    }\n",
       "</style>\n",
       "<table border=\"1\" class=\"dataframe\">\n",
       "  <thead>\n",
       "    <tr style=\"text-align: right;\">\n",
       "      <th></th>\n",
       "      <th>cement</th>\n",
       "      <th>slag</th>\n",
       "      <th>ash</th>\n",
       "      <th>water</th>\n",
       "      <th>superplastic</th>\n",
       "      <th>coarseagg</th>\n",
       "      <th>fineagg</th>\n",
       "      <th>age</th>\n",
       "      <th>strength</th>\n",
       "    </tr>\n",
       "  </thead>\n",
       "  <tbody>\n",
       "    <tr>\n",
       "      <th>278</th>\n",
       "      <td>425.0</td>\n",
       "      <td>106.3</td>\n",
       "      <td>0.0</td>\n",
       "      <td>153.5</td>\n",
       "      <td>16.5</td>\n",
       "      <td>852.1</td>\n",
       "      <td>887.1</td>\n",
       "      <td>3.0</td>\n",
       "      <td>33.40</td>\n",
       "    </tr>\n",
       "    <tr>\n",
       "      <th>298</th>\n",
       "      <td>425.0</td>\n",
       "      <td>106.3</td>\n",
       "      <td>0.0</td>\n",
       "      <td>153.5</td>\n",
       "      <td>16.5</td>\n",
       "      <td>852.1</td>\n",
       "      <td>887.1</td>\n",
       "      <td>3.0</td>\n",
       "      <td>33.40</td>\n",
       "    </tr>\n",
       "    <tr>\n",
       "      <th>400</th>\n",
       "      <td>362.6</td>\n",
       "      <td>189.0</td>\n",
       "      <td>0.0</td>\n",
       "      <td>164.9</td>\n",
       "      <td>11.6</td>\n",
       "      <td>944.7</td>\n",
       "      <td>755.8</td>\n",
       "      <td>3.0</td>\n",
       "      <td>35.30</td>\n",
       "    </tr>\n",
       "    <tr>\n",
       "      <th>420</th>\n",
       "      <td>362.6</td>\n",
       "      <td>189.0</td>\n",
       "      <td>0.0</td>\n",
       "      <td>164.9</td>\n",
       "      <td>11.6</td>\n",
       "      <td>944.7</td>\n",
       "      <td>755.8</td>\n",
       "      <td>3.0</td>\n",
       "      <td>35.30</td>\n",
       "    </tr>\n",
       "    <tr>\n",
       "      <th>463</th>\n",
       "      <td>362.6</td>\n",
       "      <td>189.0</td>\n",
       "      <td>0.0</td>\n",
       "      <td>164.9</td>\n",
       "      <td>11.6</td>\n",
       "      <td>944.7</td>\n",
       "      <td>755.8</td>\n",
       "      <td>56.0</td>\n",
       "      <td>77.30</td>\n",
       "    </tr>\n",
       "    <tr>\n",
       "      <th>468</th>\n",
       "      <td>252.0</td>\n",
       "      <td>0.0</td>\n",
       "      <td>0.0</td>\n",
       "      <td>185.0</td>\n",
       "      <td>0.0</td>\n",
       "      <td>1111.0</td>\n",
       "      <td>784.0</td>\n",
       "      <td>28.0</td>\n",
       "      <td>19.69</td>\n",
       "    </tr>\n",
       "    <tr>\n",
       "      <th>482</th>\n",
       "      <td>425.0</td>\n",
       "      <td>106.3</td>\n",
       "      <td>0.0</td>\n",
       "      <td>153.5</td>\n",
       "      <td>16.5</td>\n",
       "      <td>852.1</td>\n",
       "      <td>887.1</td>\n",
       "      <td>91.0</td>\n",
       "      <td>65.20</td>\n",
       "    </tr>\n",
       "    <tr>\n",
       "      <th>493</th>\n",
       "      <td>362.6</td>\n",
       "      <td>189.0</td>\n",
       "      <td>0.0</td>\n",
       "      <td>164.9</td>\n",
       "      <td>11.6</td>\n",
       "      <td>944.7</td>\n",
       "      <td>755.8</td>\n",
       "      <td>91.0</td>\n",
       "      <td>79.30</td>\n",
       "    </tr>\n",
       "    <tr>\n",
       "      <th>517</th>\n",
       "      <td>425.0</td>\n",
       "      <td>106.3</td>\n",
       "      <td>0.0</td>\n",
       "      <td>153.5</td>\n",
       "      <td>16.5</td>\n",
       "      <td>852.1</td>\n",
       "      <td>887.1</td>\n",
       "      <td>56.0</td>\n",
       "      <td>64.30</td>\n",
       "    </tr>\n",
       "    <tr>\n",
       "      <th>525</th>\n",
       "      <td>362.6</td>\n",
       "      <td>189.0</td>\n",
       "      <td>0.0</td>\n",
       "      <td>164.9</td>\n",
       "      <td>11.6</td>\n",
       "      <td>944.7</td>\n",
       "      <td>755.8</td>\n",
       "      <td>28.0</td>\n",
       "      <td>71.30</td>\n",
       "    </tr>\n",
       "    <tr>\n",
       "      <th>527</th>\n",
       "      <td>425.0</td>\n",
       "      <td>106.3</td>\n",
       "      <td>0.0</td>\n",
       "      <td>153.5</td>\n",
       "      <td>16.5</td>\n",
       "      <td>852.1</td>\n",
       "      <td>887.1</td>\n",
       "      <td>91.0</td>\n",
       "      <td>65.20</td>\n",
       "    </tr>\n",
       "    <tr>\n",
       "      <th>576</th>\n",
       "      <td>362.6</td>\n",
       "      <td>189.0</td>\n",
       "      <td>0.0</td>\n",
       "      <td>164.9</td>\n",
       "      <td>11.6</td>\n",
       "      <td>944.7</td>\n",
       "      <td>755.8</td>\n",
       "      <td>7.0</td>\n",
       "      <td>55.90</td>\n",
       "    </tr>\n",
       "    <tr>\n",
       "      <th>577</th>\n",
       "      <td>425.0</td>\n",
       "      <td>106.3</td>\n",
       "      <td>0.0</td>\n",
       "      <td>153.5</td>\n",
       "      <td>16.5</td>\n",
       "      <td>852.1</td>\n",
       "      <td>887.1</td>\n",
       "      <td>28.0</td>\n",
       "      <td>60.29</td>\n",
       "    </tr>\n",
       "    <tr>\n",
       "      <th>604</th>\n",
       "      <td>362.6</td>\n",
       "      <td>189.0</td>\n",
       "      <td>0.0</td>\n",
       "      <td>164.9</td>\n",
       "      <td>11.6</td>\n",
       "      <td>944.7</td>\n",
       "      <td>755.8</td>\n",
       "      <td>56.0</td>\n",
       "      <td>77.30</td>\n",
       "    </tr>\n",
       "    <tr>\n",
       "      <th>733</th>\n",
       "      <td>362.6</td>\n",
       "      <td>189.0</td>\n",
       "      <td>0.0</td>\n",
       "      <td>164.9</td>\n",
       "      <td>11.6</td>\n",
       "      <td>944.7</td>\n",
       "      <td>755.8</td>\n",
       "      <td>91.0</td>\n",
       "      <td>79.30</td>\n",
       "    </tr>\n",
       "    <tr>\n",
       "      <th>738</th>\n",
       "      <td>362.6</td>\n",
       "      <td>189.0</td>\n",
       "      <td>0.0</td>\n",
       "      <td>164.9</td>\n",
       "      <td>11.6</td>\n",
       "      <td>944.7</td>\n",
       "      <td>755.8</td>\n",
       "      <td>28.0</td>\n",
       "      <td>71.30</td>\n",
       "    </tr>\n",
       "    <tr>\n",
       "      <th>766</th>\n",
       "      <td>362.6</td>\n",
       "      <td>189.0</td>\n",
       "      <td>0.0</td>\n",
       "      <td>164.9</td>\n",
       "      <td>11.6</td>\n",
       "      <td>944.7</td>\n",
       "      <td>755.8</td>\n",
       "      <td>91.0</td>\n",
       "      <td>79.30</td>\n",
       "    </tr>\n",
       "    <tr>\n",
       "      <th>830</th>\n",
       "      <td>425.0</td>\n",
       "      <td>106.3</td>\n",
       "      <td>0.0</td>\n",
       "      <td>153.5</td>\n",
       "      <td>16.5</td>\n",
       "      <td>852.1</td>\n",
       "      <td>887.1</td>\n",
       "      <td>7.0</td>\n",
       "      <td>49.20</td>\n",
       "    </tr>\n",
       "    <tr>\n",
       "      <th>880</th>\n",
       "      <td>425.0</td>\n",
       "      <td>106.3</td>\n",
       "      <td>0.0</td>\n",
       "      <td>153.5</td>\n",
       "      <td>16.5</td>\n",
       "      <td>852.1</td>\n",
       "      <td>887.1</td>\n",
       "      <td>56.0</td>\n",
       "      <td>64.30</td>\n",
       "    </tr>\n",
       "    <tr>\n",
       "      <th>884</th>\n",
       "      <td>425.0</td>\n",
       "      <td>106.3</td>\n",
       "      <td>0.0</td>\n",
       "      <td>153.5</td>\n",
       "      <td>16.5</td>\n",
       "      <td>852.1</td>\n",
       "      <td>887.1</td>\n",
       "      <td>7.0</td>\n",
       "      <td>49.20</td>\n",
       "    </tr>\n",
       "    <tr>\n",
       "      <th>892</th>\n",
       "      <td>362.6</td>\n",
       "      <td>189.0</td>\n",
       "      <td>0.0</td>\n",
       "      <td>164.9</td>\n",
       "      <td>11.6</td>\n",
       "      <td>944.7</td>\n",
       "      <td>755.8</td>\n",
       "      <td>56.0</td>\n",
       "      <td>77.30</td>\n",
       "    </tr>\n",
       "    <tr>\n",
       "      <th>933</th>\n",
       "      <td>362.6</td>\n",
       "      <td>189.0</td>\n",
       "      <td>0.0</td>\n",
       "      <td>164.9</td>\n",
       "      <td>11.6</td>\n",
       "      <td>944.7</td>\n",
       "      <td>755.8</td>\n",
       "      <td>7.0</td>\n",
       "      <td>55.90</td>\n",
       "    </tr>\n",
       "    <tr>\n",
       "      <th>943</th>\n",
       "      <td>362.6</td>\n",
       "      <td>189.0</td>\n",
       "      <td>0.0</td>\n",
       "      <td>164.9</td>\n",
       "      <td>11.6</td>\n",
       "      <td>944.7</td>\n",
       "      <td>755.8</td>\n",
       "      <td>3.0</td>\n",
       "      <td>35.30</td>\n",
       "    </tr>\n",
       "    <tr>\n",
       "      <th>967</th>\n",
       "      <td>362.6</td>\n",
       "      <td>189.0</td>\n",
       "      <td>0.0</td>\n",
       "      <td>164.9</td>\n",
       "      <td>11.6</td>\n",
       "      <td>944.7</td>\n",
       "      <td>755.8</td>\n",
       "      <td>28.0</td>\n",
       "      <td>71.30</td>\n",
       "    </tr>\n",
       "    <tr>\n",
       "      <th>992</th>\n",
       "      <td>425.0</td>\n",
       "      <td>106.3</td>\n",
       "      <td>0.0</td>\n",
       "      <td>153.5</td>\n",
       "      <td>16.5</td>\n",
       "      <td>852.1</td>\n",
       "      <td>887.1</td>\n",
       "      <td>28.0</td>\n",
       "      <td>60.29</td>\n",
       "    </tr>\n",
       "  </tbody>\n",
       "</table>\n",
       "</div>"
      ],
      "text/plain": [
       "     cement   slag  ash  water  superplastic  coarseagg  fineagg   age  \\\n",
       "278   425.0  106.3  0.0  153.5          16.5      852.1    887.1   3.0   \n",
       "298   425.0  106.3  0.0  153.5          16.5      852.1    887.1   3.0   \n",
       "400   362.6  189.0  0.0  164.9          11.6      944.7    755.8   3.0   \n",
       "420   362.6  189.0  0.0  164.9          11.6      944.7    755.8   3.0   \n",
       "463   362.6  189.0  0.0  164.9          11.6      944.7    755.8  56.0   \n",
       "468   252.0    0.0  0.0  185.0           0.0     1111.0    784.0  28.0   \n",
       "482   425.0  106.3  0.0  153.5          16.5      852.1    887.1  91.0   \n",
       "493   362.6  189.0  0.0  164.9          11.6      944.7    755.8  91.0   \n",
       "517   425.0  106.3  0.0  153.5          16.5      852.1    887.1  56.0   \n",
       "525   362.6  189.0  0.0  164.9          11.6      944.7    755.8  28.0   \n",
       "527   425.0  106.3  0.0  153.5          16.5      852.1    887.1  91.0   \n",
       "576   362.6  189.0  0.0  164.9          11.6      944.7    755.8   7.0   \n",
       "577   425.0  106.3  0.0  153.5          16.5      852.1    887.1  28.0   \n",
       "604   362.6  189.0  0.0  164.9          11.6      944.7    755.8  56.0   \n",
       "733   362.6  189.0  0.0  164.9          11.6      944.7    755.8  91.0   \n",
       "738   362.6  189.0  0.0  164.9          11.6      944.7    755.8  28.0   \n",
       "766   362.6  189.0  0.0  164.9          11.6      944.7    755.8  91.0   \n",
       "830   425.0  106.3  0.0  153.5          16.5      852.1    887.1   7.0   \n",
       "880   425.0  106.3  0.0  153.5          16.5      852.1    887.1  56.0   \n",
       "884   425.0  106.3  0.0  153.5          16.5      852.1    887.1   7.0   \n",
       "892   362.6  189.0  0.0  164.9          11.6      944.7    755.8  56.0   \n",
       "933   362.6  189.0  0.0  164.9          11.6      944.7    755.8   7.0   \n",
       "943   362.6  189.0  0.0  164.9          11.6      944.7    755.8   3.0   \n",
       "967   362.6  189.0  0.0  164.9          11.6      944.7    755.8  28.0   \n",
       "992   425.0  106.3  0.0  153.5          16.5      852.1    887.1  28.0   \n",
       "\n",
       "     strength  \n",
       "278     33.40  \n",
       "298     33.40  \n",
       "400     35.30  \n",
       "420     35.30  \n",
       "463     77.30  \n",
       "468     19.69  \n",
       "482     65.20  \n",
       "493     79.30  \n",
       "517     64.30  \n",
       "525     71.30  \n",
       "527     65.20  \n",
       "576     55.90  \n",
       "577     60.29  \n",
       "604     77.30  \n",
       "733     79.30  \n",
       "738     71.30  \n",
       "766     79.30  \n",
       "830     49.20  \n",
       "880     64.30  \n",
       "884     49.20  \n",
       "892     77.30  \n",
       "933     55.90  \n",
       "943     35.30  \n",
       "967     71.30  \n",
       "992     60.29  "
      ]
     },
     "execution_count": 10,
     "metadata": {},
     "output_type": "execute_result"
    }
   ],
   "source": [
    "# Checking for duplicates\n",
    "\n",
    "duplicate = concrete[concrete.duplicated()]\n",
    "\n",
    "print(\"Duplicate Rows: \")\n",
    "duplicate"
   ]
  },
  {
   "cell_type": "code",
   "execution_count": 11,
   "metadata": {},
   "outputs": [
    {
     "name": "stdout",
     "output_type": "stream",
     "text": [
      "Duplicate Rows: \n"
     ]
    },
    {
     "data": {
      "text/html": [
       "<div>\n",
       "<style scoped>\n",
       "    .dataframe tbody tr th:only-of-type {\n",
       "        vertical-align: middle;\n",
       "    }\n",
       "\n",
       "    .dataframe tbody tr th {\n",
       "        vertical-align: top;\n",
       "    }\n",
       "\n",
       "    .dataframe thead th {\n",
       "        text-align: right;\n",
       "    }\n",
       "</style>\n",
       "<table border=\"1\" class=\"dataframe\">\n",
       "  <thead>\n",
       "    <tr style=\"text-align: right;\">\n",
       "      <th></th>\n",
       "      <th>cement</th>\n",
       "      <th>slag</th>\n",
       "      <th>ash</th>\n",
       "      <th>water</th>\n",
       "      <th>superplastic</th>\n",
       "      <th>coarseagg</th>\n",
       "      <th>fineagg</th>\n",
       "      <th>age</th>\n",
       "      <th>strength</th>\n",
       "    </tr>\n",
       "  </thead>\n",
       "  <tbody>\n",
       "  </tbody>\n",
       "</table>\n",
       "</div>"
      ],
      "text/plain": [
       "Empty DataFrame\n",
       "Columns: [cement, slag, ash, water, superplastic, coarseagg, fineagg, age, strength]\n",
       "Index: []"
      ]
     },
     "execution_count": 11,
     "metadata": {},
     "output_type": "execute_result"
    }
   ],
   "source": [
    "# Dropping duplicates\n",
    "\n",
    "concrete = concrete.drop_duplicates()\n",
    "\n",
    "duplicate = concrete[concrete.duplicated()]\n",
    "\n",
    "print(\"Duplicate Rows: \")\n",
    "duplicate"
   ]
  },
  {
   "cell_type": "code",
   "execution_count": 12,
   "metadata": {},
   "outputs": [
    {
     "data": {
      "text/plain": [
       "(array([  21,   44,   64,   66,  133,  149,  156,  157,  159,  198,  232,\n",
       "         256,  262,  263,  270,  291,  296,  311,  321,  359,  391,  444,\n",
       "         460,  477,  527,  553,  559,  588,  609,  618,  699,  706,  728,\n",
       "         738,  739,  799,  820,  832,  860,  880,  897,  898,  928,  932,\n",
       "         934,  966,  970, 1001, 1003], dtype=int64),\n",
       " array([1, 4, 7, 3, 7, 7, 4, 7, 7, 7, 4, 7, 7, 3, 7, 4, 7, 7, 7, 7, 7, 7,\n",
       "        7, 7, 4, 1, 7, 7, 7, 7, 7, 7, 4, 7, 7, 4, 4, 7, 7, 7, 1, 7, 7, 4,\n",
       "        7, 1, 7, 4, 7], dtype=int64))"
      ]
     },
     "execution_count": 12,
     "metadata": {},
     "output_type": "execute_result"
    }
   ],
   "source": [
    "# Checking for outliers using z-score\n",
    "from scipy import stats\n",
    "z = np.abs(stats.zscore(concrete))\n",
    "\n",
    "threshold = 3\n",
    "\n",
    "np.where(z > threshold)"
   ]
  },
  {
   "cell_type": "code",
   "execution_count": 13,
   "metadata": {},
   "outputs": [
    {
     "data": {
      "text/plain": [
       "((1005, 9), (956, 9))"
      ]
     },
     "execution_count": 13,
     "metadata": {},
     "output_type": "execute_result"
    }
   ],
   "source": [
    "# Displaying shape of dataframe with and without outliers\n",
    "\n",
    "concrete_without = concrete[(z < threshold).all(axis=1)] # Selecting only rows without a single outlier\n",
    "\n",
    "concrete.shape, concrete_without.shape"
   ]
  },
  {
   "cell_type": "code",
   "execution_count": 14,
   "metadata": {},
   "outputs": [],
   "source": [
    "concrete2 = concrete.copy()\n",
    "\n",
    "for i,j in zip(np.where(z > threshold)[0], np.where(z > threshold)[1]):\n",
    "    concrete2.iloc[i,j] = concrete.iloc[:, j].median()"
   ]
  },
  {
   "cell_type": "code",
   "execution_count": 15,
   "metadata": {},
   "outputs": [
    {
     "data": {
      "text/plain": [
       "(array([ 51,  54,  93,  99, 103, 129, 144, 152, 177, 199, 207, 257, 273,\n",
       "        300, 310, 357, 368, 443, 496, 509, 528, 568, 571, 581, 606, 608,\n",
       "        628, 682, 707, 759, 794, 839, 843, 879, 927, 947, 961, 992],\n",
       "       dtype=int64),\n",
       " array([7, 4, 7, 7, 7, 4, 7, 7, 4, 7, 7, 4, 4, 7, 7, 7, 7, 4, 4, 4, 7, 7,\n",
       "        4, 7, 7, 7, 7, 7, 7, 7, 4, 4, 7, 7, 4, 7, 7, 7], dtype=int64))"
      ]
     },
     "execution_count": 15,
     "metadata": {},
     "output_type": "execute_result"
    }
   ],
   "source": [
    "z = np.abs(stats.zscore(concrete2))\n",
    "np.where(z > threshold)"
   ]
  },
  {
   "cell_type": "code",
   "execution_count": 16,
   "metadata": {},
   "outputs": [
    {
     "data": {
      "text/plain": [
       "((1005, 9), (1005, 9))"
      ]
     },
     "execution_count": 16,
     "metadata": {},
     "output_type": "execute_result"
    }
   ],
   "source": [
    "concrete.shape, concrete2.shape"
   ]
  },
  {
   "cell_type": "code",
   "execution_count": 17,
   "metadata": {
    "scrolled": false
   },
   "outputs": [
    {
     "data": {
      "image/png": "[encoded data removed]",
      "text/plain": [
       "<Figure size 432x288 with 1 Axes>"
      ]
     },
     "metadata": {
      "needs_background": "light"
     },
     "output_type": "display_data"
    },
    {
     "data": {
      "image/png": "[encoded data removed]",
      "text/plain": [
       "<Figure size 432x288 with 1 Axes>"
      ]
     },
     "metadata": {
      "needs_background": "light"
     },
     "output_type": "display_data"
    },
    {
     "data": {
      "image/png": "[encoded data removed]",
      "text/plain": [
       "<Figure size 432x288 with 1 Axes>"
      ]
     },
     "metadata": {
      "needs_background": "light"
     },
     "output_type": "display_data"
    },
    {
     "data": {
      "image/png": "[encoded data removed]",
      "text/plain": [
       "<Figure size 432x288 with 1 Axes>"
      ]
     },
     "metadata": {
      "needs_background": "light"
     },
     "output_type": "display_data"
    },
    {
     "data": {
      "image/png": "[encoded data removed]",
      "text/plain": [
       "<Figure size 432x288 with 1 Axes>"
      ]
     },
     "metadata": {
      "needs_background": "light"
     },
     "output_type": "display_data"
    },
    {
     "data": {
      "image/png": "[encoded data removed]",
      "text/plain": [
       "<Figure size 432x288 with 1 Axes>"
      ]
     },
     "metadata": {
      "needs_background": "light"
     },
     "output_type": "display_data"
    },
    {
     "data": {
      "image/png": "[encoded data removed]",
      "text/plain": [
       "<Figure size 432x288 with 1 Axes>"
      ]
     },
     "metadata": {
      "needs_background": "light"
     },
     "output_type": "display_data"
    },
    {
     "data": {
      "image/png": "[encoded data removed]",
      "text/plain": [
       "<Figure size 432x288 with 1 Axes>"
      ]
     },
     "metadata": {
      "needs_background": "light"
     },
     "output_type": "display_data"
    },
    {
     "data": {
      "image/png": "[encoded data removed]",
      "text/plain": [
       "<Figure size 432x288 with 1 Axes>"
      ]
     },
     "metadata": {
      "needs_background": "light"
     },
     "output_type": "display_data"
    }
   ],
   "source": [
    "# Visualizing individual variables using seaborn\n",
    "\n",
    "for i in concrete2.columns:\n",
    "    sb.distplot(concrete[i])\n",
    "    plt.show()"
   ]
  },
  {
   "cell_type": "markdown",
   "metadata": {},
   "source": [
    "### Bivariate Analysis"
   ]
  },
  {
   "cell_type": "code",
   "execution_count": 18,
   "metadata": {},
   "outputs": [
    {
     "data": {
      "image/png": "[encoded data removed]",
      "text/plain": [
       "<Figure size 720x720 with 2 Axes>"
      ]
     },
     "metadata": {
      "needs_background": "light"
     },
     "output_type": "display_data"
    }
   ],
   "source": [
    "# Displaying correlation heatmap\n",
    "fig, ax = plt.subplots(figsize=(10,10))\n",
    "sb.heatmap(concrete.corr(), ax=ax, annot=True, linewidths=0.05, fmt='.2f', cmap='magma')\n",
    "plt.show()"
   ]
  },
  {
   "cell_type": "code",
   "execution_count": 19,
   "metadata": {},
   "outputs": [
    {
     "name": "stdout",
     "output_type": "stream",
     "text": [
      "Before removing outliers: \n",
      "cement          0.564959\n",
      "slag            0.855225\n",
      "ash             0.497231\n",
      "water           0.034433\n",
      "superplastic    0.980604\n",
      "coarseagg      -0.065256\n",
      "fineagg        -0.252353\n",
      "age             3.253974\n",
      "strength        0.395696\n",
      "dtype: float64\n",
      "\n",
      "After removing outliers: \n",
      "cement          0.564959\n",
      "slag            0.811762\n",
      "ash             0.497231\n",
      "water          -0.004922\n",
      "superplastic    0.513287\n",
      "coarseagg      -0.065256\n",
      "fineagg        -0.252353\n",
      "age             2.013181\n",
      "strength        0.395696\n",
      "dtype: float64\n"
     ]
    }
   ],
   "source": [
    "# Checking skewness\n",
    "\n",
    "print(\"Before removing outliers: \")\n",
    "print(concrete.skew())\n",
    "print()\n",
    "print(\"After removing outliers: \")\n",
    "print(concrete2.skew())"
   ]
  },
  {
   "cell_type": "code",
   "execution_count": 20,
   "metadata": {
    "scrolled": false
   },
   "outputs": [
    {
     "data": {
      "image/png": "[encoded data removed]",
      "text/plain": [
       "<Figure size 432x432 with 3 Axes>"
      ]
     },
     "metadata": {
      "needs_background": "light"
     },
     "output_type": "display_data"
    },
    {
     "data": {
      "image/png": "[encoded data removed]",
      "text/plain": [
       "<Figure size 432x432 with 3 Axes>"
      ]
     },
     "metadata": {
      "needs_background": "light"
     },
     "output_type": "display_data"
    },
    {
     "data": {
      "image/png": "[encoded data removed]",
      "text/plain": [
       "<Figure size 432x432 with 3 Axes>"
      ]
     },
     "metadata": {
      "needs_background": "light"
     },
     "output_type": "display_data"
    },
    {
     "data": {
      "image/png": "[encoded data removed]",
      "text/plain": [
       "<Figure size 432x432 with 3 Axes>"
      ]
     },
     "metadata": {
      "needs_background": "light"
     },
     "output_type": "display_data"
    },
    {
     "data": {
      "image/png": "[encoded data removed]",
      "text/plain": [
       "<Figure size 432x432 with 3 Axes>"
      ]
     },
     "metadata": {
      "needs_background": "light"
     },
     "output_type": "display_data"
    },
    {
     "data": {
      "image/png": "[encoded data removed]",
      "text/plain": [
       "<Figure size 432x432 with 3 Axes>"
      ]
     },
     "metadata": {
      "needs_background": "light"
     },
     "output_type": "display_data"
    },
    {
     "data": {
      "image/png": "[encoded data removed]",
      "text/plain": [
       "<Figure size 432x432 with 3 Axes>"
      ]
     },
     "metadata": {
      "needs_background": "light"
     },
     "output_type": "display_data"
    },
    {
     "data": {
      "image/png": "[encoded data removed]",
      "text/plain": [
       "<Figure size 432x432 with 3 Axes>"
      ]
     },
     "metadata": {
      "needs_background": "light"
     },
     "output_type": "display_data"
    }
   ],
   "source": [
    "# Displaying boxplots to view relationship between strength variable and other variables\n",
    "\n",
    "cols = [col for col in concrete.columns if col != 'strength']\n",
    "\n",
    "for col in cols:\n",
    "    sb.jointplot(concrete[col], concrete['strength'], kind='kde')\n",
    "    plt.show()"
   ]
  },
  {
   "cell_type": "markdown",
   "metadata": {},
   "source": [
    "### Observations:\n",
    "\n",
    "### Based on the bivariate visualizations, it's difficult to determine much of a relationship between the 'strength' variable and the other variables. There seems to be a positive correlation between the cement and strength variables, and a positively skewed relationship between age and strength. That is, after about 50 days of age, the concrete seems to rapidly lose strength."
   ]
  },
  {
   "cell_type": "markdown",
   "metadata": {},
   "source": [
    "### Feature Engineering"
   ]
  },
  {
   "cell_type": "code",
   "execution_count": 21,
   "metadata": {},
   "outputs": [],
   "source": [
    "# Preparing data model\n",
    "\n",
    "cols = [col for col in concrete.columns if col != 'strength']\n",
    "X = concrete[cols]\n",
    "y = concrete['strength']\n",
    "\n",
    "X_train_1, X_test, y_train_1, y_test = train_test_split(X, y, test_size=0.2, random_state=7)\n",
    "\n",
    "X_train, X_val, y_train, y_val = train_test_split(X, y, test_size=0.25, random_state=7)"
   ]
  },
  {
   "cell_type": "code",
   "execution_count": 48,
   "metadata": {},
   "outputs": [
    {
     "data": {
      "text/html": [
       "<div>\n",
       "<style scoped>\n",
       "    .dataframe tbody tr th:only-of-type {\n",
       "        vertical-align: middle;\n",
       "    }\n",
       "\n",
       "    .dataframe tbody tr th {\n",
       "        vertical-align: top;\n",
       "    }\n",
       "\n",
       "    .dataframe thead th {\n",
       "        text-align: right;\n",
       "    }\n",
       "</style>\n",
       "<table border=\"1\" class=\"dataframe\">\n",
       "  <thead>\n",
       "    <tr style=\"text-align: right;\">\n",
       "      <th></th>\n",
       "      <th>cement</th>\n",
       "      <th>slag</th>\n",
       "      <th>ash</th>\n",
       "      <th>water</th>\n",
       "      <th>superplastic</th>\n",
       "      <th>coarseagg</th>\n",
       "      <th>fineagg</th>\n",
       "      <th>age</th>\n",
       "    </tr>\n",
       "  </thead>\n",
       "  <tbody>\n",
       "    <tr>\n",
       "      <th>958</th>\n",
       "      <td>200.0</td>\n",
       "      <td>133.0</td>\n",
       "      <td>0.0</td>\n",
       "      <td>192.0</td>\n",
       "      <td>0.0</td>\n",
       "      <td>965.4</td>\n",
       "      <td>806.2</td>\n",
       "      <td>7.0</td>\n",
       "    </tr>\n",
       "    <tr>\n",
       "      <th>127</th>\n",
       "      <td>290.2</td>\n",
       "      <td>193.5</td>\n",
       "      <td>0.0</td>\n",
       "      <td>185.7</td>\n",
       "      <td>0.0</td>\n",
       "      <td>998.2</td>\n",
       "      <td>704.3</td>\n",
       "      <td>7.0</td>\n",
       "    </tr>\n",
       "    <tr>\n",
       "      <th>377</th>\n",
       "      <td>289.0</td>\n",
       "      <td>0.0</td>\n",
       "      <td>0.0</td>\n",
       "      <td>192.0</td>\n",
       "      <td>0.0</td>\n",
       "      <td>913.2</td>\n",
       "      <td>895.3</td>\n",
       "      <td>90.0</td>\n",
       "    </tr>\n",
       "    <tr>\n",
       "      <th>881</th>\n",
       "      <td>277.1</td>\n",
       "      <td>0.0</td>\n",
       "      <td>97.4</td>\n",
       "      <td>160.6</td>\n",
       "      <td>11.8</td>\n",
       "      <td>973.9</td>\n",
       "      <td>875.6</td>\n",
       "      <td>14.0</td>\n",
       "    </tr>\n",
       "    <tr>\n",
       "      <th>721</th>\n",
       "      <td>500.0</td>\n",
       "      <td>0.0</td>\n",
       "      <td>0.0</td>\n",
       "      <td>200.0</td>\n",
       "      <td>0.0</td>\n",
       "      <td>1125.0</td>\n",
       "      <td>613.0</td>\n",
       "      <td>180.0</td>\n",
       "    </tr>\n",
       "  </tbody>\n",
       "</table>\n",
       "</div>"
      ],
      "text/plain": [
       "     cement   slag   ash  water  superplastic  coarseagg  fineagg    age\n",
       "958   200.0  133.0   0.0  192.0           0.0      965.4    806.2    7.0\n",
       "127   290.2  193.5   0.0  185.7           0.0      998.2    704.3    7.0\n",
       "377   289.0    0.0   0.0  192.0           0.0      913.2    895.3   90.0\n",
       "881   277.1    0.0  97.4  160.6          11.8      973.9    875.6   14.0\n",
       "721   500.0    0.0   0.0  200.0           0.0     1125.0    613.0  180.0"
      ]
     },
     "execution_count": 48,
     "metadata": {},
     "output_type": "execute_result"
    }
   ],
   "source": [
    "X_train_1.head()"
   ]
  },
  {
   "cell_type": "code",
   "execution_count": 49,
   "metadata": {},
   "outputs": [
    {
     "data": {
      "text/plain": [
       "((804, 8), (201, 8), (804,), (201,))"
      ]
     },
     "execution_count": 49,
     "metadata": {},
     "output_type": "execute_result"
    }
   ],
   "source": [
    "X_train_1.shape, X_test.shape, y_train_1.shape, y_test.shape"
   ]
  },
  {
   "cell_type": "code",
   "execution_count": 50,
   "metadata": {},
   "outputs": [
    {
     "data": {
      "text/plain": [
       "((753, 8), (252, 8), (753,), (252,))"
      ]
     },
     "execution_count": 50,
     "metadata": {},
     "output_type": "execute_result"
    }
   ],
   "source": [
    "X_train.shape, X_val.shape, y_train.shape, y_val.shape"
   ]
  },
  {
   "cell_type": "code",
   "execution_count": 54,
   "metadata": {},
   "outputs": [
    {
     "data": {
      "text/plain": [
       "array([[ 1.01310623, -0.8170186 , -0.8844206 , ..., -0.11434486,\n",
       "        -0.01307398, -0.25556675],\n",
       "       [-1.67074726,  1.05166286, -0.8844206 , ..., -0.47616389,\n",
       "         1.05496416, -0.6051284 ],\n",
       "       [-0.65035916, -0.8170186 ,  1.85396255, ...,  0.89562479,\n",
       "         0.09745555, -0.67171157],\n",
       "       ...,\n",
       "       [ 0.37099889,  1.62814649, -0.8844206 , ..., -1.59676165,\n",
       "         1.44492227, -0.6051284 ],\n",
       "       [ 0.25654471, -0.8170186 , -0.8844206 , ..., -0.08831472,\n",
       "         0.59545938,  2.27459377],\n",
       "       [-0.66490842, -0.8170186 ,  1.07740614, ...,  1.43965483,\n",
       "         0.44022127, -0.48860785]])"
      ]
     },
     "execution_count": 54,
     "metadata": {},
     "output_type": "execute_result"
    }
   ],
   "source": [
    "# Scaling the training/validation/test data\n",
    "from sklearn.preprocessing import StandardScaler\n",
    "scaler = StandardScaler()\n",
    "\n",
    "scaler.fit_transform(X_train)\n",
    "\n",
    "scaler.fit_transform(X_val)\n",
    "\n",
    "scaler.fit_transform(X_test)"
   ]
  },
  {
   "cell_type": "code",
   "execution_count": 55,
   "metadata": {},
   "outputs": [],
   "source": [
    "from sklearn.metrics import mean_absolute_error, mean_squared_error, r2_score\n",
    "\n",
    "def scoring(model, test_features, test_labels):\n",
    "    predictions = model.predict(test_features)\n",
    "    mae = mean_absolute_error(test_labels, predictions)\n",
    "    mse = mean_squared_error(test_labels, predictions)\n",
    "    r2 = r2_score(test_labels, predictions)\n",
    "    errors = abs(predictions - test_labels)\n",
    "    mape = 100 * np.mean(errors / test_labels)\n",
    "    accuracy = 100 - mape\n",
    "    print(\"Model Performance\")\n",
    "    print(\"Mean Absolute Error: {:0.4f}.\".format(mae))\n",
    "    print(\"Mean Squared Error: {:0.4f}.\".format(mse))\n",
    "    print(\"R^2 Score: {:0.4f}.\".format(mae))\n",
    "    print(\"Accuracy: {:0.2f}.\".format(accuracy))"
   ]
  },
  {
   "cell_type": "code",
   "execution_count": 58,
   "metadata": {},
   "outputs": [
    {
     "name": "stdout",
     "output_type": "stream",
     "text": [
      "Model Performance\n",
      "Mean Absolute Error: 13.2363.\n",
      "Mean Squared Error: 260.5541.\n",
      "R^2 Score: -0.0067.\n",
      "Accuracy: 42.04.\n"
     ]
    }
   ],
   "source": [
    "# Creating baseline performance report\n",
    "\n",
    "baseline_y = [y_train.median()] * len(y_val)\n",
    "\n",
    "base_predictions = baseline_y\n",
    "base_mae = mean_absolute_error(y_val, base_predictions)\n",
    "base_mse = mean_squared_error(y_val, base_predictions)\n",
    "base_r2 = r2_score(y_val, base_predictions)\n",
    "base_errors = abs(base_predictions - y_val)\n",
    "base_mape = 100 * np.mean(base_errors / y_val)\n",
    "base_accuracy = 100 - base_mape\n",
    "\n",
    "print(\"Model Performance\")\n",
    "print(\"Mean Absolute Error: {:0.4f}.\".format(base_mae))\n",
    "print(\"Mean Squared Error: {:0.4f}.\".format(base_mse))\n",
    "print(\"R^2 Score: {:0.4f}.\".format(base_r2))\n",
    "print(\"Accuracy: {:0.2f}.\".format(base_accuracy))"
   ]
  },
  {
   "cell_type": "code",
   "execution_count": 61,
   "metadata": {},
   "outputs": [
    {
     "data": {
      "text/plain": [
       "Text(0, 0.5, 'Coefficients')"
      ]
     },
     "execution_count": 61,
     "metadata": {},
     "output_type": "execute_result"
    },
    {
     "data": {
      "image/png": "[encoded data removed]",
      "text/plain": [
       "<Figure size 720x432 with 1 Axes>"
      ]
     },
     "metadata": {
      "needs_background": "light"
     },
     "output_type": "display_data"
    }
   ],
   "source": [
    "# Building lasso regression model\n",
    "from sklearn.linear_model import Lasso\n",
    "\n",
    "lasso = Lasso(alpha=0.1)\n",
    "\n",
    "# Fitting model to training data\n",
    "\n",
    "lasso.fit(X_train, y_train)\n",
    "\n",
    "# Extracting coefficients\n",
    "\n",
    "lasso_coef = lasso.coef_\n",
    "\n",
    "# Plotting coefficients\n",
    "\n",
    "plt.figure(figsize=(10, 6))\n",
    "plt.plot(range(len(X_train.columns)), lasso_coef)\n",
    "plt.xticks(range(len(X_train.columns)), X_train.columns, rotation=60)\n",
    "plt.axhline(0.0, linestyle='--', color='r')\n",
    "plt.ylabel('Coefficients')"
   ]
  },
  {
   "cell_type": "markdown",
   "metadata": {},
   "source": [
    "### Observations: the coefficients for variables \"coarseagg\" and \"fineagg\" are close to zero, so they will be dropped for the purposes of model building."
   ]
  },
  {
   "cell_type": "code",
   "execution_count": 62,
   "metadata": {},
   "outputs": [
    {
     "name": "stderr",
     "output_type": "stream",
     "text": [
      "C:\\Users\\William\\Anaconda3\\lib\\site-packages\\pandas\\core\\frame.py:4169: SettingWithCopyWarning: \n",
      "A value is trying to be set on a copy of a slice from a DataFrame\n",
      "\n",
      "See the caveats in the documentation: https://pandas.pydata.org/pandas-docs/stable/user_guide/indexing.html#returning-a-view-versus-a-copy\n",
      "  errors=errors,\n"
     ]
    }
   ],
   "source": [
    "# Creating a list of columns to drop\n",
    "\n",
    "cols_to_drop = ['coarseagg', 'fineagg']\n",
    "\n",
    "# Dropping columns from training, validation, and test data\n",
    "\n",
    "X_train_1.drop(columns=cols_to_drop, inplace=True)\n",
    "X_train.drop(columns=cols_to_drop, inplace=True)\n",
    "X_val.drop(columns=cols_to_drop, inplace=True)\n",
    "X_test.drop(columns=cols_to_drop, inplace=True)"
   ]
  },
  {
   "cell_type": "markdown",
   "metadata": {},
   "source": [
    "### Creating and Tuning the Models"
   ]
  },
  {
   "cell_type": "code",
   "execution_count": 65,
   "metadata": {},
   "outputs": [],
   "source": [
    "# Building linear regression model\n",
    "\n",
    "model = LinearRegression()"
   ]
  },
  {
   "cell_type": "code",
   "execution_count": 66,
   "metadata": {},
   "outputs": [
    {
     "name": "stdout",
     "output_type": "stream",
     "text": [
      "Model Performance\n",
      "Mean Absolute Error: 7.5868.\n",
      "Mean Squared Error: 89.2328.\n",
      "R^2 Score: 7.5868.\n",
      "Accuracy: 69.15.\n"
     ]
    }
   ],
   "source": [
    "# Fitting lr model to training data\n",
    "\n",
    "mlr = model.fit(X_train, y_train)\n",
    "\n",
    "# Evaluating performance\n",
    "\n",
    "scoring(mlr, X_val, y_val)"
   ]
  },
  {
   "cell_type": "code",
   "execution_count": 67,
   "metadata": {},
   "outputs": [
    {
     "name": "stdout",
     "output_type": "stream",
     "text": [
      "Model Performance\n",
      "Mean Absolute Error: 3.3699.\n",
      "Mean Squared Error: 19.9148.\n",
      "R^2 Score: 3.3699.\n",
      "Accuracy: 87.69.\n"
     ]
    }
   ],
   "source": [
    "# Building Random Forest model\n",
    "\n",
    "rf_model = RandomForestRegressor(random_state=7)\n",
    "\n",
    "# Fitting model to training data\n",
    "\n",
    "rf = rf_model.fit(X_train, y_train)\n",
    "\n",
    "# Evaluating performance\n",
    "\n",
    "scoring(rf, X_val, y_val)"
   ]
  },
  {
   "cell_type": "code",
   "execution_count": 68,
   "metadata": {},
   "outputs": [
    {
     "name": "stdout",
     "output_type": "stream",
     "text": [
      "Model Performance\n",
      "Mean Absolute Error: 3.6965.\n",
      "Mean Squared Error: 24.2345.\n",
      "R^2 Score: 3.6965.\n",
      "Accuracy: 86.95.\n"
     ]
    }
   ],
   "source": [
    "# Building Bagging model\n",
    "\n",
    "bg_model = BaggingRegressor(random_state=7)\n",
    "\n",
    "# Fitting model to training data\n",
    "\n",
    "bg = bg_model.fit(X_train, y_train)\n",
    "\n",
    "# Evaluating performance\n",
    "\n",
    "scoring(bg, X_val, y_val)"
   ]
  },
  {
   "cell_type": "code",
   "execution_count": 69,
   "metadata": {},
   "outputs": [
    {
     "name": "stdout",
     "output_type": "stream",
     "text": [
      "Model Performance\n",
      "Mean Absolute Error: 6.2966.\n",
      "Mean Squared Error: 56.7012.\n",
      "R^2 Score: 6.2966.\n",
      "Accuracy: 72.94.\n"
     ]
    }
   ],
   "source": [
    "# Building Boosting model\n",
    "\n",
    "ab_model = AdaBoostRegressor(random_state=7)\n",
    "\n",
    "# Fitting model to training data\n",
    "\n",
    "ab = ab_model.fit(X_train, y_train)\n",
    "\n",
    "# Evaluating performance\n",
    "\n",
    "scoring(ab, X_val, y_val)"
   ]
  },
  {
   "cell_type": "code",
   "execution_count": 71,
   "metadata": {},
   "outputs": [],
   "source": [
    "# Importing KFold and Cross-Validation\n",
    "from sklearn.model_selection import KFold\n",
    "from sklearn.model_selection import cross_val_score"
   ]
  },
  {
   "cell_type": "code",
   "execution_count": 77,
   "metadata": {},
   "outputs": [],
   "source": [
    "# Defining a function that compares the cross-validation performance of the previously run models\n",
    "\n",
    "def cv_comparison(models, X, y, cv):\n",
    "    # Creating a dataframe to contain all averages and measures\n",
    "    cv_accuracies = pd.DataFrame()\n",
    "    maes = []\n",
    "    mses = []\n",
    "    r2s = []\n",
    "    accs = []\n",
    "    # Loop through the models, run a CV on each model, and add the average scores and CV scores to the dataframe\n",
    "    for model in models:\n",
    "        mae = -np.round(cross_val_score(model, X, y, scoring='neg_mean_absolute_error', cv=cv), 4)\n",
    "        maes.append(mae)\n",
    "        mae_avg = round(mae.mean(), 4)\n",
    "        mse = -np.round(cross_val_score(model, X, y, scoring='neg_mean_squared_error', cv=cv), 4)\n",
    "        mses.append(mse)\n",
    "        mse_avg = round(mse.mean(), 4)\n",
    "        r2 = np.round(cross_val_score(model, X, y, scoring='r2', cv=cv), 4)\n",
    "        r2s.append(r2)\n",
    "        r2_avg = round(r2.mean(), 4)\n",
    "        acc = np.round((100 - (100 * (mae * len(X))) / sum(y)), 4)\n",
    "        accs.append(acc)\n",
    "        acc_avg = round(acc.mean(), 4)\n",
    "        cv_accuracies[str(model)] = [mae_avg, mse_avg, r2_avg, acc_avg]\n",
    "    cv_accuracies.index = ['Mean Absolute Error', 'Mean Squared Error', 'R^2 Error', 'Accuracy']\n",
    "    return cv_accuracies, maes, mses, r2s, accs"
   ]
  },
  {
   "cell_type": "code",
   "execution_count": 129,
   "metadata": {},
   "outputs": [
    {
     "data": {
      "text/html": [
       "<div>\n",
       "<style scoped>\n",
       "    .dataframe tbody tr th:only-of-type {\n",
       "        vertical-align: middle;\n",
       "    }\n",
       "\n",
       "    .dataframe tbody tr th {\n",
       "        vertical-align: top;\n",
       "    }\n",
       "\n",
       "    .dataframe thead th {\n",
       "        text-align: right;\n",
       "    }\n",
       "</style>\n",
       "<table border=\"1\" class=\"dataframe\">\n",
       "  <thead>\n",
       "    <tr style=\"text-align: right;\">\n",
       "      <th></th>\n",
       "      <th>Linear Regression</th>\n",
       "      <th>Random Forest</th>\n",
       "      <th>Bagging</th>\n",
       "      <th>AdaBoost</th>\n",
       "    </tr>\n",
       "  </thead>\n",
       "  <tbody>\n",
       "    <tr>\n",
       "      <th>Mean Absolute Error</th>\n",
       "      <td>8.3946</td>\n",
       "      <td>4.1007</td>\n",
       "      <td>4.3194</td>\n",
       "      <td>6.5113</td>\n",
       "    </tr>\n",
       "    <tr>\n",
       "      <th>Mean Squared Error</th>\n",
       "      <td>111.7545</td>\n",
       "      <td>33.0355</td>\n",
       "      <td>35.7156</td>\n",
       "      <td>66.0780</td>\n",
       "    </tr>\n",
       "    <tr>\n",
       "      <th>R^2 Error</th>\n",
       "      <td>0.5750</td>\n",
       "      <td>0.8756</td>\n",
       "      <td>0.8653</td>\n",
       "      <td>0.7493</td>\n",
       "    </tr>\n",
       "    <tr>\n",
       "      <th>Accuracy</th>\n",
       "      <td>76.1917</td>\n",
       "      <td>88.3700</td>\n",
       "      <td>87.7498</td>\n",
       "      <td>81.5333</td>\n",
       "    </tr>\n",
       "  </tbody>\n",
       "</table>\n",
       "</div>"
      ],
      "text/plain": [
       "                     Linear Regression  Random Forest  Bagging  AdaBoost\n",
       "Mean Absolute Error             8.3946         4.1007   4.3194    6.5113\n",
       "Mean Squared Error            111.7545        33.0355  35.7156   66.0780\n",
       "R^2 Error                       0.5750         0.8756   0.8653    0.7493\n",
       "Accuracy                       76.1917        88.3700  87.7498   81.5333"
      ]
     },
     "execution_count": 129,
     "metadata": {},
     "output_type": "execute_result"
    }
   ],
   "source": [
    "# Create models to be tested\n",
    "\n",
    "lr2 = LinearRegression()\n",
    "rf2 = RandomForestRegressor(random_state=7)\n",
    "bg2 = BaggingRegressor(random_state=7)\n",
    "ab2 = AdaBoostRegressor(random_state=7)\n",
    "\n",
    "# Putting models in a list to be used for Cross-Validation\n",
    "\n",
    "models = [lr2, rf2, bg2, ab2]\n",
    "\n",
    "# Running cross-validation on models\n",
    "\n",
    "comp, maes, mses, r2s, accs = cv_comparison(models, X_train_1, y_train_1, 4)\n",
    "comp.columns = ['Linear Regression', 'Random Forest', 'Bagging', 'AdaBoost']\n",
    "comp"
   ]
  },
  {
   "cell_type": "code",
   "execution_count": 98,
   "metadata": {},
   "outputs": [],
   "source": [
    "# Creating hyperparameter grid for Random Forest\n",
    "\n",
    "# Number of trees in Random Forest\n",
    "\n",
    "rf_n_estimators = [int(x) for x in np.linspace(200, 1000, 5)]\n",
    "rf_n_estimators.append(1500)\n",
    "rf_n_estimators.append(2000)\n",
    "\n",
    "# Max number of levels in tree\n",
    "\n",
    "rf_max_depth = [int(x) for x in np.linspace(5, 55, 11)]\n",
    "\n",
    "# Adding default as possible value\n",
    "\n",
    "rf_max_depth.append(None)\n",
    "\n",
    "# Number of features to consider at every split\n",
    "\n",
    "rf_max_features = ['auto', 'sqrt', 'log2']\n",
    "\n",
    "# Criterion to split on\n",
    "\n",
    "rf_criterion = ['mse', 'mae']\n",
    "\n",
    "# Minimum number of samples required to split a node\n",
    "\n",
    "rf_min_samples_split = [int(x) for x in np.linspace(2, 10, 9)]\n",
    "\n",
    "# Minimum decrease in impurity required for split to happen\n",
    "\n",
    "rf_min_impurity_decrease = [0.0, 0.5, 0.1]\n",
    "\n",
    "# Method of selecting samples for training each tree\n",
    "\n",
    "rf_bootstrap = [True, False]\n",
    "\n",
    "# Creating the grid\n",
    "\n",
    "rf_grid = {'n_estimators': rf_n_estimators,\n",
    "           'max_depth': rf_max_depth,\n",
    "           'max_features': rf_max_features,\n",
    "           'criterion': rf_criterion,\n",
    "           'min_samples_split': rf_min_samples_split,\n",
    "           'min_impurity_decrease': rf_min_impurity_decrease,\n",
    "           'bootstrap': rf_bootstrap}"
   ]
  },
  {
   "cell_type": "code",
   "execution_count": 99,
   "metadata": {},
   "outputs": [
    {
     "data": {
      "text/plain": [
       "{'n_estimators': [200, 400, 600, 800, 1000, 1500, 2000],\n",
       " 'max_depth': [5, 10, 15, 20, 25, 30, 35, 40, 45, 50, 55, None],\n",
       " 'max_features': ['auto', 'sqrt', 'log2'],\n",
       " 'criterion': ['mse', 'mae'],\n",
       " 'min_samples_split': [2, 3, 4, 5, 6, 7, 8, 9, 10],\n",
       " 'min_impurity_decrease': [0.0, 0.5, 0.1],\n",
       " 'bootstrap': [True, False]}"
      ]
     },
     "execution_count": 99,
     "metadata": {},
     "output_type": "execute_result"
    }
   ],
   "source": [
    "rf_grid"
   ]
  },
  {
   "cell_type": "code",
   "execution_count": 100,
   "metadata": {},
   "outputs": [
    {
     "name": "stdout",
     "output_type": "stream",
     "text": [
      "Fitting 5 folds for each of 200 candidates, totalling 1000 fits\n"
     ]
    },
    {
     "name": "stderr",
     "output_type": "stream",
     "text": [
      "[Parallel(n_jobs=-1)]: Using backend LokyBackend with 4 concurrent workers.\n",
      "[Parallel(n_jobs=-1)]: Done  33 tasks      | elapsed:   32.3s\n",
      "[Parallel(n_jobs=-1)]: Done 154 tasks      | elapsed:  4.7min\n",
      "[Parallel(n_jobs=-1)]: Done 357 tasks      | elapsed: 10.2min\n",
      "[Parallel(n_jobs=-1)]: Done 640 tasks      | elapsed: 16.9min\n",
      "[Parallel(n_jobs=-1)]: Done 1000 out of 1000 | elapsed: 27.0min finished\n"
     ]
    },
    {
     "data": {
      "text/plain": [
       "{'n_estimators': 200,\n",
       " 'min_samples_split': 4,\n",
       " 'min_impurity_decrease': 0.0,\n",
       " 'max_features': 'log2',\n",
       " 'max_depth': 25,\n",
       " 'criterion': 'mse',\n",
       " 'bootstrap': False}"
      ]
     },
     "execution_count": 100,
     "metadata": {},
     "output_type": "execute_result"
    }
   ],
   "source": [
    "# Hyperparameter Tuning for Random Forest using RandomizedSearchCV\n",
    "from sklearn.model_selection import RandomizedSearchCV\n",
    "\n",
    "# Creating model to be tuned\n",
    "\n",
    "rf_3 = RandomForestRegressor()\n",
    "\n",
    "# Creating randomized Random Forest\n",
    "\n",
    "rf_random = RandomizedSearchCV(estimator=rf_3, param_distributions=rf_grid, n_iter=200, cv=5, verbose=2, random_state=7, n_jobs=-1)\n",
    "\n",
    "# Fitting the random search model\n",
    "\n",
    "rf_random.fit(X_train_1, y_train_1)\n",
    "\n",
    "# View best parameters\n",
    "\n",
    "rf_random.best_params_"
   ]
  },
  {
   "cell_type": "code",
   "execution_count": 119,
   "metadata": {},
   "outputs": [
    {
     "data": {
      "text/plain": [
       "{'n_estimators': [200, 400, 600, 800, 1000, 1200, 1400, 1600, 1800, 2000],\n",
       " 'max_samples': [5, 10, 15, 20, 25, 30, 35, 40, 45, 50, 55],\n",
       " 'max_features': [3, 6, 9, 12, 15, 18, 21, 24, 27, 30, 33],\n",
       " 'bootstrap': [True, False]}"
      ]
     },
     "execution_count": 119,
     "metadata": {},
     "output_type": "execute_result"
    }
   ],
   "source": [
    "# Creating hyperparameter grid for Bagging\n",
    "\n",
    "# Number of estimators\n",
    "\n",
    "bg_n_estimators = [int(x) for x in np.linspace(200, 2000, 10)]\n",
    "\n",
    "# Max number of samples\n",
    "\n",
    "bg_max_samples = [int(x) for x in np.linspace(5, 55, 11)]\n",
    "\n",
    "# Max number of features\n",
    "\n",
    "bg_max_features = [int(x) for x in np.linspace(3, 33, 11)]\n",
    "\n",
    "# Method of selecting samples\n",
    "\n",
    "bg_bootstrap = [True, False]\n",
    "\n",
    "bg_grid = {'n_estimators': bg_n_estimators,\n",
    "           'max_samples': bg_max_samples,\n",
    "           'max_features': bg_max_features,\n",
    "           'bootstrap': bg_bootstrap}\n",
    "\n",
    "bg_grid"
   ]
  },
  {
   "cell_type": "code",
   "execution_count": 120,
   "metadata": {},
   "outputs": [
    {
     "name": "stdout",
     "output_type": "stream",
     "text": [
      "Fitting 5 folds for each of 200 candidates, totalling 1000 fits\n"
     ]
    },
    {
     "name": "stderr",
     "output_type": "stream",
     "text": [
      "[Parallel(n_jobs=-1)]: Using backend LokyBackend with 4 concurrent workers.\n",
      "[Parallel(n_jobs=-1)]: Done  33 tasks      | elapsed:    8.5s\n",
      "[Parallel(n_jobs=-1)]: Done 499 tasks      | elapsed:   47.7s\n",
      "[Parallel(n_jobs=-1)]: Done 1000 out of 1000 | elapsed:  1.7min finished\n"
     ]
    },
    {
     "data": {
      "text/plain": [
       "{'n_estimators': 2000, 'max_samples': 55, 'max_features': 6, 'bootstrap': True}"
      ]
     },
     "execution_count": 120,
     "metadata": {},
     "output_type": "execute_result"
    }
   ],
   "source": [
    "# Creating model to be tuned\n",
    "\n",
    "bg_3 = BaggingRegressor()\n",
    "\n",
    "# Creating random search Bagging\n",
    "\n",
    "bg_random = RandomizedSearchCV(estimator=bg_3, param_distributions=bg_grid, n_iter=200, cv=5, verbose=2, random_state=7, n_jobs=-1)\n",
    "\n",
    "# Fitting random search model\n",
    "\n",
    "bg_random.fit(X_train_1, y_train_1)\n",
    "\n",
    "bg_random.best_params_"
   ]
  },
  {
   "cell_type": "code",
   "execution_count": 113,
   "metadata": {},
   "outputs": [
    {
     "data": {
      "text/plain": [
       "{'n_estimators': [200, 400, 600, 800, 1000, 1200, 1400, 1600, 1800, 2000],\n",
       " 'learning_rate': [0.1, 0.2, 0.30000000000000004, 0.4, 0.5, 0.6],\n",
       " 'loss': ['linear', 'square', 'exponential']}"
      ]
     },
     "execution_count": 113,
     "metadata": {},
     "output_type": "execute_result"
    }
   ],
   "source": [
    "# Creating hyperparameter grid for AdaBoost\n",
    "\n",
    "# Number of trees in Random Forest\n",
    "\n",
    "ab_n_estimators = [int(x) for x in np.linspace(200, 2000, 10)]\n",
    "\n",
    "# Learning rate\n",
    "\n",
    "ab_learning_rate = [x for x in np.linspace(0.1, 0.6, 6)]\n",
    "\n",
    "# Minimum loss function to update the weights\n",
    "\n",
    "ab_loss = ['linear', 'square', 'exponential']\n",
    "\n",
    "# Creating the grid\n",
    "\n",
    "ab_grid = {'n_estimators': ab_n_estimators,\n",
    "           'learning_rate': ab_learning_rate,\n",
    "           'loss': ab_loss}\n",
    "ab_grid"
   ]
  },
  {
   "cell_type": "code",
   "execution_count": 114,
   "metadata": {},
   "outputs": [
    {
     "name": "stderr",
     "output_type": "stream",
     "text": [
      "C:\\Users\\William\\Anaconda3\\lib\\site-packages\\sklearn\\model_selection\\_search.py:282: UserWarning: The total space of parameters 180 is smaller than n_iter=200. Running 180 iterations. For exhaustive searches, use GridSearchCV.\n",
      "  % (grid_size, self.n_iter, grid_size), UserWarning)\n",
      "[Parallel(n_jobs=-1)]: Using backend LokyBackend with 4 concurrent workers.\n"
     ]
    },
    {
     "name": "stdout",
     "output_type": "stream",
     "text": [
      "Fitting 5 folds for each of 180 candidates, totalling 900 fits\n"
     ]
    },
    {
     "name": "stderr",
     "output_type": "stream",
     "text": [
      "[Parallel(n_jobs=-1)]: Done  33 tasks      | elapsed:   13.1s\n",
      "[Parallel(n_jobs=-1)]: Done 154 tasks      | elapsed:  1.4min\n",
      "[Parallel(n_jobs=-1)]: Done 357 tasks      | elapsed:  3.1min\n",
      "[Parallel(n_jobs=-1)]: Done 640 tasks      | elapsed:  5.5min\n",
      "[Parallel(n_jobs=-1)]: Done 900 out of 900 | elapsed:  7.8min finished\n"
     ]
    },
    {
     "data": {
      "text/plain": [
       "{'n_estimators': 200, 'loss': 'linear', 'learning_rate': 0.5}"
      ]
     },
     "execution_count": 114,
     "metadata": {},
     "output_type": "execute_result"
    }
   ],
   "source": [
    "# Creating model to be tuned\n",
    "\n",
    "ab_3 = AdaBoostRegressor()\n",
    "\n",
    "# Creating random search AdaBoost\n",
    "\n",
    "ab_random = RandomizedSearchCV(estimator=ab_3, param_distributions=ab_grid, n_iter=200, cv=5, verbose=2, random_state=7, n_jobs=-1)\n",
    "\n",
    "# Fitting the model\n",
    "\n",
    "ab_random.fit(X_train_1, y_train_1)\n",
    "\n",
    "# Get best parameters\n",
    "\n",
    "ab_random.best_params_"
   ]
  },
  {
   "cell_type": "code",
   "execution_count": 121,
   "metadata": {},
   "outputs": [
    {
     "data": {
      "text/plain": [
       "AdaBoostRegressor(learning_rate=0.5, n_estimators=200)"
      ]
     },
     "execution_count": 121,
     "metadata": {},
     "output_type": "execute_result"
    }
   ],
   "source": [
    "## Final model evaluation\n",
    "\n",
    "# Creating the final linear regression\n",
    "lr_final = LinearRegression()\n",
    "\n",
    "# Creating the final Random Forest\n",
    "rf_final = RandomForestRegressor(n_estimators=200,\n",
    "                                 min_samples_split=4,\n",
    "                                 min_impurity_decrease=0.0,\n",
    "                                 max_features='log2',\n",
    "                                 max_depth=25,\n",
    "                                 criterion='mse',\n",
    "                                 bootstrap=False)\n",
    "\n",
    "# Creating the final Bagging\n",
    "bg_final = BaggingRegressor(n_estimators=2000,\n",
    "                            max_samples=55,\n",
    "                            max_features=6,\n",
    "                            bootstrap=True)\n",
    "\n",
    "# Creating the final AdaBoost\n",
    "ab_final = AdaBoostRegressor(n_estimators=200, \n",
    "                             loss='linear', \n",
    "                             learning_rate=0.5)\n",
    "\n",
    "# Training models using 80% of data\n",
    "\n",
    "lr_final.fit(X_train_1, y_train_1)\n",
    "rf_final.fit(X_train_1, y_train_1)\n",
    "bg_final.fit(X_train_1, y_train_1)\n",
    "ab_final.fit(X_train_1, y_train_1)"
   ]
  },
  {
   "cell_type": "code",
   "execution_count": 118,
   "metadata": {},
   "outputs": [],
   "source": [
    "# Defining function that compares all final models\n",
    "\n",
    "def final_comparison(models, test_features, test_labels):\n",
    "    scores = pd.DataFrame()\n",
    "    for model in models:\n",
    "        predictions = model.predict(test_features)\n",
    "        mae = round(mean_absolute_error(test_labels, predictions), 4)\n",
    "        mse = round(mean_squared_error(test_labels, predictions), 4)\n",
    "        r2 = round(r2_score(test_labels, predictions), 4)\n",
    "        errors = abs(predictions - test_labels)\n",
    "        mape = 100 * np.mean(errors / test_labels)\n",
    "        accuracy = round(100 - mape, 4)\n",
    "        scores[str(model)] = [mae, mse, r2, accuracy]\n",
    "    scores.index = ['Mean Absolute Error', 'Mean Squared Error', 'R^2 Error', 'Accuracy']\n",
    "    return scores    "
   ]
  },
  {
   "cell_type": "code",
   "execution_count": 122,
   "metadata": {},
   "outputs": [],
   "source": [
    "# Calling final comparison on all four models\n",
    "\n",
    "final_scores = final_comparison([lr_final, rf_final, bg_final, ab_final], X_test, y_test)\n",
    "\n",
    "# Adjusting column headers\n",
    "\n",
    "final_scores.columns = ['Linear Regression', 'Random Forest', 'Bagging', 'AdaBoost']"
   ]
  },
  {
   "cell_type": "code",
   "execution_count": 131,
   "metadata": {},
   "outputs": [
    {
     "data": {
      "text/html": [
       "<div>\n",
       "<style scoped>\n",
       "    .dataframe tbody tr th:only-of-type {\n",
       "        vertical-align: middle;\n",
       "    }\n",
       "\n",
       "    .dataframe tbody tr th {\n",
       "        vertical-align: top;\n",
       "    }\n",
       "\n",
       "    .dataframe thead th {\n",
       "        text-align: right;\n",
       "    }\n",
       "</style>\n",
       "<table border=\"1\" class=\"dataframe\">\n",
       "  <thead>\n",
       "    <tr style=\"text-align: right;\">\n",
       "      <th></th>\n",
       "      <th>Linear Regression</th>\n",
       "      <th>Random Forest</th>\n",
       "      <th>Bagging</th>\n",
       "      <th>AdaBoost</th>\n",
       "    </tr>\n",
       "  </thead>\n",
       "  <tbody>\n",
       "    <tr>\n",
       "      <th>Mean Absolute Error</th>\n",
       "      <td>8.3946</td>\n",
       "      <td>4.1007</td>\n",
       "      <td>4.3194</td>\n",
       "      <td>6.5113</td>\n",
       "    </tr>\n",
       "    <tr>\n",
       "      <th>Mean Squared Error</th>\n",
       "      <td>111.7545</td>\n",
       "      <td>33.0355</td>\n",
       "      <td>35.7156</td>\n",
       "      <td>66.0780</td>\n",
       "    </tr>\n",
       "    <tr>\n",
       "      <th>R^2 Error</th>\n",
       "      <td>0.5750</td>\n",
       "      <td>0.8756</td>\n",
       "      <td>0.8653</td>\n",
       "      <td>0.7493</td>\n",
       "    </tr>\n",
       "    <tr>\n",
       "      <th>Accuracy</th>\n",
       "      <td>76.1917</td>\n",
       "      <td>88.3700</td>\n",
       "      <td>87.7498</td>\n",
       "      <td>81.5333</td>\n",
       "    </tr>\n",
       "  </tbody>\n",
       "</table>\n",
       "</div>"
      ],
      "text/plain": [
       "                     Linear Regression  Random Forest  Bagging  AdaBoost\n",
       "Mean Absolute Error             8.3946         4.1007   4.3194    6.5113\n",
       "Mean Squared Error            111.7545        33.0355  35.7156   66.0780\n",
       "R^2 Error                       0.5750         0.8756   0.8653    0.7493\n",
       "Accuracy                       76.1917        88.3700  87.7498   81.5333"
      ]
     },
     "execution_count": 131,
     "metadata": {},
     "output_type": "execute_result"
    }
   ],
   "source": [
    "comp"
   ]
  },
  {
   "cell_type": "code",
   "execution_count": 130,
   "metadata": {},
   "outputs": [
    {
     "data": {
      "text/html": [
       "<div>\n",
       "<style scoped>\n",
       "    .dataframe tbody tr th:only-of-type {\n",
       "        vertical-align: middle;\n",
       "    }\n",
       "\n",
       "    .dataframe tbody tr th {\n",
       "        vertical-align: top;\n",
       "    }\n",
       "\n",
       "    .dataframe thead th {\n",
       "        text-align: right;\n",
       "    }\n",
       "</style>\n",
       "<table border=\"1\" class=\"dataframe\">\n",
       "  <thead>\n",
       "    <tr style=\"text-align: right;\">\n",
       "      <th></th>\n",
       "      <th>Linear Regression</th>\n",
       "      <th>Random Forest</th>\n",
       "      <th>Bagging</th>\n",
       "      <th>AdaBoost</th>\n",
       "    </tr>\n",
       "  </thead>\n",
       "  <tbody>\n",
       "    <tr>\n",
       "      <th>Mean Absolute Error</th>\n",
       "      <td>7.7420</td>\n",
       "      <td>2.9699</td>\n",
       "      <td>5.7185</td>\n",
       "      <td>6.1123</td>\n",
       "    </tr>\n",
       "    <tr>\n",
       "      <th>Mean Squared Error</th>\n",
       "      <td>90.6942</td>\n",
       "      <td>17.0130</td>\n",
       "      <td>51.5631</td>\n",
       "      <td>53.2722</td>\n",
       "    </tr>\n",
       "    <tr>\n",
       "      <th>R^2 Error</th>\n",
       "      <td>0.6591</td>\n",
       "      <td>0.9360</td>\n",
       "      <td>0.8062</td>\n",
       "      <td>0.7997</td>\n",
       "    </tr>\n",
       "    <tr>\n",
       "      <th>Accuracy</th>\n",
       "      <td>68.4477</td>\n",
       "      <td>88.2229</td>\n",
       "      <td>77.7341</td>\n",
       "      <td>72.3705</td>\n",
       "    </tr>\n",
       "  </tbody>\n",
       "</table>\n",
       "</div>"
      ],
      "text/plain": [
       "                     Linear Regression  Random Forest  Bagging  AdaBoost\n",
       "Mean Absolute Error             7.7420         2.9699   5.7185    6.1123\n",
       "Mean Squared Error             90.6942        17.0130  51.5631   53.2722\n",
       "R^2 Error                       0.6591         0.9360   0.8062    0.7997\n",
       "Accuracy                       68.4477        88.2229  77.7341   72.3705"
      ]
     },
     "execution_count": 130,
     "metadata": {},
     "output_type": "execute_result"
    }
   ],
   "source": [
    "final_scores"
   ]
  },
  {
   "cell_type": "markdown",
   "metadata": {},
   "source": [
    "# Conclusion\n",
    "\n",
    "### The model with the best performance is the Random Forest Regressor.\n",
    "\n",
    "### The Mean Absolute Error, Mean Squared Error, and R-Squared errors of all except one model (Bagging) decreased, although the accuracy went down slightly in every model. Perhaps further hyperparameter tuning might improve the models, but the Random Forest Regressor did produce almost 88.2% accuracy, meaning the model was off by 11.8%."
   ]
  },
  {
   "cell_type": "markdown",
   "metadata": {},
   "source": [
    "#### Note: this analysis was inspired in large measure by the following article by Jonas Benner:\n",
    "\n",
    "#### Cross-Validation and Hyperparameter Tuning: How to Optimize Your Machine Learning Model\n",
    "#### https://towardsdatascience.com/cross-validation-and-hyperparameter-tuning-how-to-optimise-your-machine-learning-model-13f005af9d7d"
   ]
  },
  {
   "cell_type": "code",
   "execution_count": null,
   "metadata": {},
   "outputs": [],
   "source": []
  }
 ],
 "metadata": {
  "kernelspec": {
   "display_name": "Python 3",
   "language": "python",
   "name": "python3"
  },
  "language_info": {
   "codemirror_mode": {
    "name": "ipython",
    "version": 3
   },
   "file_extension": ".py",
   "mimetype": "text/x-python",
   "name": "python",
   "nbconvert_exporter": "python",
   "pygments_lexer": "ipython3",
   "version": "3.7.4"
  }
 },
 "nbformat": 4,
 "nbformat_minor": 2
}
