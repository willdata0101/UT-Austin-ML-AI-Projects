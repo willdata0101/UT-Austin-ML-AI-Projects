{
  "nbformat": 4,
  "nbformat_minor": 0,
  "metadata": {
    "colab": {
      "name": "NLP Project.ipynb",
      "provenance": [],
      "authorship_tag": "ABX9TyNXJrq8dJIEeiZvO3Eag5OE",
      "include_colab_link": true
    },
    "kernelspec": {
      "name": "python3",
      "display_name": "Python 3"
    },
    "language_info": {
      "name": "python"
    },
    "accelerator": "GPU"
  },
  "cells": [
    {
      "cell_type": "markdown",
      "metadata": {
        "id": "view-in-github",
        "colab_type": "text"
      },
      "source": [
        "<a href=\"https://colab.research.google.com/github/willdata0101/UT-Austin-ML-AI-Projects/blob/main/NLP_Project.ipynb\" target=\"_parent\"><img src=\"https://colab.research.google.com/assets/colab-badge.svg\" alt=\"Open In Colab\"/></a>"
      ]
    },
    {
      "cell_type": "code",
      "metadata": {
        "id": "gxkOw7UbtMnh",
        "colab": {
          "base_uri": "https://localhost:8080/"
        },
        "outputId": "1e3d7308-5aa9-43e5-83c6-a56951e36f16"
      },
      "source": [
        "# Importing libraries\n",
        "!pip install contractions\n",
        "!pip install vaderSentiment\n",
        "import numpy as np\n",
        "import pandas as pd\n",
        "import matplotlib.pyplot as plt\n",
        "import seaborn as sb\n",
        "\n",
        "from random import randint, uniform\n",
        "from scipy.stats import truncnorm, loguniform\n",
        "\n",
        "from bs4 import BeautifulSoup\n",
        "import unicodedata\n",
        "import nltk\n",
        "nltk.download('wordnet')\n",
        "nltk.download('stopwords')\n",
        "from nltk.tokenize.toktok import ToktokTokenizer\n",
        "from nltk.corpus import stopwords\n",
        "from nltk.stem import WordNetLemmatizer\n",
        "import contractions\n",
        "import spacy\n",
        "import re\n",
        "\n",
        "from sklearn.feature_extraction.text import CountVectorizer\n",
        "from sklearn.feature_extraction.text import TfidfVectorizer\n",
        "\n",
        "from sklearn.ensemble import RandomForestClassifier\n",
        "from sklearn.model_selection import cross_val_score\n",
        "from sklearn.metrics import accuracy_score, confusion_matrix\n",
        "\n",
        "from sklearn.model_selection import RandomizedSearchCV"
      ],
      "execution_count": null,
      "outputs": [
        {
          "output_type": "stream",
          "text": [
            "Collecting contractions\n",
            "  Downloading https://files.pythonhosted.org/packages/0a/04/d5e0bb9f2cef5d15616ebf68087a725c5dbdd71bd422bcfb35d709f98ce7/contractions-0.0.48-py2.py3-none-any.whl\n",
            "Collecting textsearch>=0.0.21\n",
            "  Downloading https://files.pythonhosted.org/packages/d3/fe/021d7d76961b5ceb9f8d022c4138461d83beff36c3938dc424586085e559/textsearch-0.0.21-py2.py3-none-any.whl\n",
            "Collecting anyascii\n",
            "\u001b[?25l  Downloading https://files.pythonhosted.org/packages/09/c7/61370d9e3c349478e89a5554c1e5d9658e1e3116cc4f2528f568909ebdf1/anyascii-0.1.7-py3-none-any.whl (260kB)\n",
            "\u001b[K     |████████████████████████████████| 266kB 20.4MB/s \n",
            "\u001b[?25hCollecting pyahocorasick\n",
            "\u001b[?25l  Downloading https://files.pythonhosted.org/packages/7f/c2/eae730037ae1cbbfaa229d27030d1d5e34a1e41114b21447d1202ae9c220/pyahocorasick-1.4.2.tar.gz (321kB)\n",
            "\u001b[K     |████████████████████████████████| 327kB 45.8MB/s \n",
            "\u001b[?25hBuilding wheels for collected packages: pyahocorasick\n",
            "  Building wheel for pyahocorasick (setup.py) ... \u001b[?25l\u001b[?25hdone\n",
            "  Created wheel for pyahocorasick: filename=pyahocorasick-1.4.2-cp37-cp37m-linux_x86_64.whl size=85395 sha256=8c2f5e652f318f08f9842481956c26e19eb186a3f6f228b994942c0763c65711\n",
            "  Stored in directory: /root/.cache/pip/wheels/3a/03/34/77e3ece0bba8b86bfac88a79f923b36d805cad63caeba38842\n",
            "Successfully built pyahocorasick\n",
            "Installing collected packages: anyascii, pyahocorasick, textsearch, contractions\n",
            "Successfully installed anyascii-0.1.7 contractions-0.0.48 pyahocorasick-1.4.2 textsearch-0.0.21\n",
            "Collecting vaderSentiment\n",
            "\u001b[?25l  Downloading https://files.pythonhosted.org/packages/76/fc/310e16254683c1ed35eeb97386986d6c00bc29df17ce280aed64d55537e9/vaderSentiment-3.3.2-py2.py3-none-any.whl (125kB)\n",
            "\u001b[K     |████████████████████████████████| 133kB 18.3MB/s \n",
            "\u001b[?25hRequirement already satisfied: requests in /usr/local/lib/python3.7/dist-packages (from vaderSentiment) (2.23.0)\n",
            "Requirement already satisfied: certifi>=2017.4.17 in /usr/local/lib/python3.7/dist-packages (from requests->vaderSentiment) (2020.12.5)\n",
            "Requirement already satisfied: urllib3!=1.25.0,!=1.25.1,<1.26,>=1.21.1 in /usr/local/lib/python3.7/dist-packages (from requests->vaderSentiment) (1.24.3)\n",
            "Requirement already satisfied: idna<3,>=2.5 in /usr/local/lib/python3.7/dist-packages (from requests->vaderSentiment) (2.10)\n",
            "Requirement already satisfied: chardet<4,>=3.0.2 in /usr/local/lib/python3.7/dist-packages (from requests->vaderSentiment) (3.0.4)\n",
            "Installing collected packages: vaderSentiment\n",
            "Successfully installed vaderSentiment-3.3.2\n",
            "[nltk_data] Downloading package wordnet to /root/nltk_data...\n",
            "[nltk_data]   Unzipping corpora/wordnet.zip.\n",
            "[nltk_data] Downloading package stopwords to /root/nltk_data...\n",
            "[nltk_data]   Unzipping corpora/stopwords.zip.\n"
          ],
          "name": "stdout"
        }
      ]
    },
    {
      "cell_type": "code",
      "metadata": {
        "id": "nekIgc-lu0Ky"
      },
      "source": [
        "# Importing dataset\n",
        "\n",
        "data = pd.read_csv('Tweets.csv')"
      ],
      "execution_count": null,
      "outputs": []
    },
    {
      "cell_type": "code",
      "metadata": {
        "colab": {
          "base_uri": "https://localhost:8080/",
          "height": 445
        },
        "id": "wZy4hVQlwFS5",
        "outputId": "d79cf458-a8b1-4345-bf02-ab5edf8e784c"
      },
      "source": [
        "data.head()"
      ],
      "execution_count": null,
      "outputs": [
        {
          "output_type": "execute_result",
          "data": {
            "text/html": [
              "<div>\n",
              "<style scoped>\n",
              "    .dataframe tbody tr th:only-of-type {\n",
              "        vertical-align: middle;\n",
              "    }\n",
              "\n",
              "    .dataframe tbody tr th {\n",
              "        vertical-align: top;\n",
              "    }\n",
              "\n",
              "    .dataframe thead th {\n",
              "        text-align: right;\n",
              "    }\n",
              "</style>\n",
              "<table border=\"1\" class=\"dataframe\">\n",
              "  <thead>\n",
              "    <tr style=\"text-align: right;\">\n",
              "      <th></th>\n",
              "      <th>tweet_id</th>\n",
              "      <th>airline_sentiment</th>\n",
              "      <th>airline_sentiment_confidence</th>\n",
              "      <th>negativereason</th>\n",
              "      <th>negativereason_confidence</th>\n",
              "      <th>airline</th>\n",
              "      <th>airline_sentiment_gold</th>\n",
              "      <th>name</th>\n",
              "      <th>negativereason_gold</th>\n",
              "      <th>retweet_count</th>\n",
              "      <th>text</th>\n",
              "      <th>tweet_coord</th>\n",
              "      <th>tweet_created</th>\n",
              "      <th>tweet_location</th>\n",
              "      <th>user_timezone</th>\n",
              "    </tr>\n",
              "  </thead>\n",
              "  <tbody>\n",
              "    <tr>\n",
              "      <th>0</th>\n",
              "      <td>570306133677760513</td>\n",
              "      <td>neutral</td>\n",
              "      <td>1.0000</td>\n",
              "      <td>NaN</td>\n",
              "      <td>NaN</td>\n",
              "      <td>Virgin America</td>\n",
              "      <td>NaN</td>\n",
              "      <td>cairdin</td>\n",
              "      <td>NaN</td>\n",
              "      <td>0</td>\n",
              "      <td>@VirginAmerica What @dhepburn said.</td>\n",
              "      <td>NaN</td>\n",
              "      <td>2015-02-24 11:35:52 -0800</td>\n",
              "      <td>NaN</td>\n",
              "      <td>Eastern Time (US &amp; Canada)</td>\n",
              "    </tr>\n",
              "    <tr>\n",
              "      <th>1</th>\n",
              "      <td>570301130888122368</td>\n",
              "      <td>positive</td>\n",
              "      <td>0.3486</td>\n",
              "      <td>NaN</td>\n",
              "      <td>0.0000</td>\n",
              "      <td>Virgin America</td>\n",
              "      <td>NaN</td>\n",
              "      <td>jnardino</td>\n",
              "      <td>NaN</td>\n",
              "      <td>0</td>\n",
              "      <td>@VirginAmerica plus you've added commercials t...</td>\n",
              "      <td>NaN</td>\n",
              "      <td>2015-02-24 11:15:59 -0800</td>\n",
              "      <td>NaN</td>\n",
              "      <td>Pacific Time (US &amp; Canada)</td>\n",
              "    </tr>\n",
              "    <tr>\n",
              "      <th>2</th>\n",
              "      <td>570301083672813571</td>\n",
              "      <td>neutral</td>\n",
              "      <td>0.6837</td>\n",
              "      <td>NaN</td>\n",
              "      <td>NaN</td>\n",
              "      <td>Virgin America</td>\n",
              "      <td>NaN</td>\n",
              "      <td>yvonnalynn</td>\n",
              "      <td>NaN</td>\n",
              "      <td>0</td>\n",
              "      <td>@VirginAmerica I didn't today... Must mean I n...</td>\n",
              "      <td>NaN</td>\n",
              "      <td>2015-02-24 11:15:48 -0800</td>\n",
              "      <td>Lets Play</td>\n",
              "      <td>Central Time (US &amp; Canada)</td>\n",
              "    </tr>\n",
              "    <tr>\n",
              "      <th>3</th>\n",
              "      <td>570301031407624196</td>\n",
              "      <td>negative</td>\n",
              "      <td>1.0000</td>\n",
              "      <td>Bad Flight</td>\n",
              "      <td>0.7033</td>\n",
              "      <td>Virgin America</td>\n",
              "      <td>NaN</td>\n",
              "      <td>jnardino</td>\n",
              "      <td>NaN</td>\n",
              "      <td>0</td>\n",
              "      <td>@VirginAmerica it's really aggressive to blast...</td>\n",
              "      <td>NaN</td>\n",
              "      <td>2015-02-24 11:15:36 -0800</td>\n",
              "      <td>NaN</td>\n",
              "      <td>Pacific Time (US &amp; Canada)</td>\n",
              "    </tr>\n",
              "    <tr>\n",
              "      <th>4</th>\n",
              "      <td>570300817074462722</td>\n",
              "      <td>negative</td>\n",
              "      <td>1.0000</td>\n",
              "      <td>Can't Tell</td>\n",
              "      <td>1.0000</td>\n",
              "      <td>Virgin America</td>\n",
              "      <td>NaN</td>\n",
              "      <td>jnardino</td>\n",
              "      <td>NaN</td>\n",
              "      <td>0</td>\n",
              "      <td>@VirginAmerica and it's a really big bad thing...</td>\n",
              "      <td>NaN</td>\n",
              "      <td>2015-02-24 11:14:45 -0800</td>\n",
              "      <td>NaN</td>\n",
              "      <td>Pacific Time (US &amp; Canada)</td>\n",
              "    </tr>\n",
              "  </tbody>\n",
              "</table>\n",
              "</div>"
            ],
            "text/plain": [
              "             tweet_id  ...               user_timezone\n",
              "0  570306133677760513  ...  Eastern Time (US & Canada)\n",
              "1  570301130888122368  ...  Pacific Time (US & Canada)\n",
              "2  570301083672813571  ...  Central Time (US & Canada)\n",
              "3  570301031407624196  ...  Pacific Time (US & Canada)\n",
              "4  570300817074462722  ...  Pacific Time (US & Canada)\n",
              "\n",
              "[5 rows x 15 columns]"
            ]
          },
          "metadata": {
            "tags": []
          },
          "execution_count": 3
        }
      ]
    },
    {
      "cell_type": "code",
      "metadata": {
        "colab": {
          "base_uri": "https://localhost:8080/"
        },
        "id": "olrvjLmuwLTA",
        "outputId": "2c162438-e8ef-4c2e-ed42-df6f174cc973"
      },
      "source": [
        "# Print shape of data\n",
        "\n",
        "data.shape"
      ],
      "execution_count": null,
      "outputs": [
        {
          "output_type": "execute_result",
          "data": {
            "text/plain": [
              "(14640, 15)"
            ]
          },
          "metadata": {
            "tags": []
          },
          "execution_count": 4
        }
      ]
    },
    {
      "cell_type": "code",
      "metadata": {
        "colab": {
          "base_uri": "https://localhost:8080/",
          "height": 173
        },
        "id": "Bentcl_Mwbmv",
        "outputId": "5e015cf7-55d9-4151-fd4c-619e0525090f"
      },
      "source": [
        "# Data description\n",
        "\n",
        "data.describe().T"
      ],
      "execution_count": null,
      "outputs": [
        {
          "output_type": "execute_result",
          "data": {
            "text/html": [
              "<div>\n",
              "<style scoped>\n",
              "    .dataframe tbody tr th:only-of-type {\n",
              "        vertical-align: middle;\n",
              "    }\n",
              "\n",
              "    .dataframe tbody tr th {\n",
              "        vertical-align: top;\n",
              "    }\n",
              "\n",
              "    .dataframe thead th {\n",
              "        text-align: right;\n",
              "    }\n",
              "</style>\n",
              "<table border=\"1\" class=\"dataframe\">\n",
              "  <thead>\n",
              "    <tr style=\"text-align: right;\">\n",
              "      <th></th>\n",
              "      <th>count</th>\n",
              "      <th>mean</th>\n",
              "      <th>std</th>\n",
              "      <th>min</th>\n",
              "      <th>25%</th>\n",
              "      <th>50%</th>\n",
              "      <th>75%</th>\n",
              "      <th>max</th>\n",
              "    </tr>\n",
              "  </thead>\n",
              "  <tbody>\n",
              "    <tr>\n",
              "      <th>tweet_id</th>\n",
              "      <td>14640.0</td>\n",
              "      <td>5.692184e+17</td>\n",
              "      <td>7.791112e+14</td>\n",
              "      <td>5.675883e+17</td>\n",
              "      <td>5.685592e+17</td>\n",
              "      <td>5.694779e+17</td>\n",
              "      <td>5.698905e+17</td>\n",
              "      <td>5.703106e+17</td>\n",
              "    </tr>\n",
              "    <tr>\n",
              "      <th>airline_sentiment_confidence</th>\n",
              "      <td>14640.0</td>\n",
              "      <td>9.001689e-01</td>\n",
              "      <td>1.628300e-01</td>\n",
              "      <td>3.350000e-01</td>\n",
              "      <td>6.923000e-01</td>\n",
              "      <td>1.000000e+00</td>\n",
              "      <td>1.000000e+00</td>\n",
              "      <td>1.000000e+00</td>\n",
              "    </tr>\n",
              "    <tr>\n",
              "      <th>negativereason_confidence</th>\n",
              "      <td>10522.0</td>\n",
              "      <td>6.382983e-01</td>\n",
              "      <td>3.304398e-01</td>\n",
              "      <td>0.000000e+00</td>\n",
              "      <td>3.606000e-01</td>\n",
              "      <td>6.706000e-01</td>\n",
              "      <td>1.000000e+00</td>\n",
              "      <td>1.000000e+00</td>\n",
              "    </tr>\n",
              "    <tr>\n",
              "      <th>retweet_count</th>\n",
              "      <td>14640.0</td>\n",
              "      <td>8.265027e-02</td>\n",
              "      <td>7.457782e-01</td>\n",
              "      <td>0.000000e+00</td>\n",
              "      <td>0.000000e+00</td>\n",
              "      <td>0.000000e+00</td>\n",
              "      <td>0.000000e+00</td>\n",
              "      <td>4.400000e+01</td>\n",
              "    </tr>\n",
              "  </tbody>\n",
              "</table>\n",
              "</div>"
            ],
            "text/plain": [
              "                                count          mean  ...           75%           max\n",
              "tweet_id                      14640.0  5.692184e+17  ...  5.698905e+17  5.703106e+17\n",
              "airline_sentiment_confidence  14640.0  9.001689e-01  ...  1.000000e+00  1.000000e+00\n",
              "negativereason_confidence     10522.0  6.382983e-01  ...  1.000000e+00  1.000000e+00\n",
              "retweet_count                 14640.0  8.265027e-02  ...  0.000000e+00  4.400000e+01\n",
              "\n",
              "[4 rows x 8 columns]"
            ]
          },
          "metadata": {
            "tags": []
          },
          "execution_count": 5
        }
      ]
    },
    {
      "cell_type": "code",
      "metadata": {
        "id": "gUd1LtaHwjNn"
      },
      "source": [
        "# Drop all cols except 'text' and 'airline_sentiment'\n",
        "\n",
        "data = data[['text', 'airline_sentiment']]"
      ],
      "execution_count": null,
      "outputs": []
    },
    {
      "cell_type": "code",
      "metadata": {
        "colab": {
          "base_uri": "https://localhost:8080/",
          "height": 419
        },
        "id": "WUTkFX3bx0WX",
        "outputId": "77bbfa04-9250-4a4d-9356-35cf7e3e7740"
      },
      "source": [
        "data"
      ],
      "execution_count": null,
      "outputs": [
        {
          "output_type": "execute_result",
          "data": {
            "text/html": [
              "<div>\n",
              "<style scoped>\n",
              "    .dataframe tbody tr th:only-of-type {\n",
              "        vertical-align: middle;\n",
              "    }\n",
              "\n",
              "    .dataframe tbody tr th {\n",
              "        vertical-align: top;\n",
              "    }\n",
              "\n",
              "    .dataframe thead th {\n",
              "        text-align: right;\n",
              "    }\n",
              "</style>\n",
              "<table border=\"1\" class=\"dataframe\">\n",
              "  <thead>\n",
              "    <tr style=\"text-align: right;\">\n",
              "      <th></th>\n",
              "      <th>text</th>\n",
              "      <th>airline_sentiment</th>\n",
              "    </tr>\n",
              "  </thead>\n",
              "  <tbody>\n",
              "    <tr>\n",
              "      <th>0</th>\n",
              "      <td>@VirginAmerica What @dhepburn said.</td>\n",
              "      <td>neutral</td>\n",
              "    </tr>\n",
              "    <tr>\n",
              "      <th>1</th>\n",
              "      <td>@VirginAmerica plus you've added commercials t...</td>\n",
              "      <td>positive</td>\n",
              "    </tr>\n",
              "    <tr>\n",
              "      <th>2</th>\n",
              "      <td>@VirginAmerica I didn't today... Must mean I n...</td>\n",
              "      <td>neutral</td>\n",
              "    </tr>\n",
              "    <tr>\n",
              "      <th>3</th>\n",
              "      <td>@VirginAmerica it's really aggressive to blast...</td>\n",
              "      <td>negative</td>\n",
              "    </tr>\n",
              "    <tr>\n",
              "      <th>4</th>\n",
              "      <td>@VirginAmerica and it's a really big bad thing...</td>\n",
              "      <td>negative</td>\n",
              "    </tr>\n",
              "    <tr>\n",
              "      <th>...</th>\n",
              "      <td>...</td>\n",
              "      <td>...</td>\n",
              "    </tr>\n",
              "    <tr>\n",
              "      <th>14635</th>\n",
              "      <td>@AmericanAir thank you we got on a different f...</td>\n",
              "      <td>positive</td>\n",
              "    </tr>\n",
              "    <tr>\n",
              "      <th>14636</th>\n",
              "      <td>@AmericanAir leaving over 20 minutes Late Flig...</td>\n",
              "      <td>negative</td>\n",
              "    </tr>\n",
              "    <tr>\n",
              "      <th>14637</th>\n",
              "      <td>@AmericanAir Please bring American Airlines to...</td>\n",
              "      <td>neutral</td>\n",
              "    </tr>\n",
              "    <tr>\n",
              "      <th>14638</th>\n",
              "      <td>@AmericanAir you have my money, you change my ...</td>\n",
              "      <td>negative</td>\n",
              "    </tr>\n",
              "    <tr>\n",
              "      <th>14639</th>\n",
              "      <td>@AmericanAir we have 8 ppl so we need 2 know h...</td>\n",
              "      <td>neutral</td>\n",
              "    </tr>\n",
              "  </tbody>\n",
              "</table>\n",
              "<p>14640 rows × 2 columns</p>\n",
              "</div>"
            ],
            "text/plain": [
              "                                                    text airline_sentiment\n",
              "0                    @VirginAmerica What @dhepburn said.           neutral\n",
              "1      @VirginAmerica plus you've added commercials t...          positive\n",
              "2      @VirginAmerica I didn't today... Must mean I n...           neutral\n",
              "3      @VirginAmerica it's really aggressive to blast...          negative\n",
              "4      @VirginAmerica and it's a really big bad thing...          negative\n",
              "...                                                  ...               ...\n",
              "14635  @AmericanAir thank you we got on a different f...          positive\n",
              "14636  @AmericanAir leaving over 20 minutes Late Flig...          negative\n",
              "14637  @AmericanAir Please bring American Airlines to...           neutral\n",
              "14638  @AmericanAir you have my money, you change my ...          negative\n",
              "14639  @AmericanAir we have 8 ppl so we need 2 know h...           neutral\n",
              "\n",
              "[14640 rows x 2 columns]"
            ]
          },
          "metadata": {
            "tags": []
          },
          "execution_count": 7
        }
      ]
    },
    {
      "cell_type": "code",
      "metadata": {
        "colab": {
          "base_uri": "https://localhost:8080/"
        },
        "id": "K8F-CF1Ix20f",
        "outputId": "d591bdee-ca8b-401e-a5f7-dafda48ccea5"
      },
      "source": [
        "# Check shape of data\n",
        "\n",
        "data.shape"
      ],
      "execution_count": null,
      "outputs": [
        {
          "output_type": "execute_result",
          "data": {
            "text/plain": [
              "(14640, 2)"
            ]
          },
          "metadata": {
            "tags": []
          },
          "execution_count": 8
        }
      ]
    },
    {
      "cell_type": "code",
      "metadata": {
        "colab": {
          "base_uri": "https://localhost:8080/",
          "height": 204
        },
        "id": "Cq8WeqWVy34H",
        "outputId": "6d6025da-e046-4ae7-f043-0c5723f1800f"
      },
      "source": [
        "# Print first 5 rows\n",
        "\n",
        "data.head()"
      ],
      "execution_count": null,
      "outputs": [
        {
          "output_type": "execute_result",
          "data": {
            "text/html": [
              "<div>\n",
              "<style scoped>\n",
              "    .dataframe tbody tr th:only-of-type {\n",
              "        vertical-align: middle;\n",
              "    }\n",
              "\n",
              "    .dataframe tbody tr th {\n",
              "        vertical-align: top;\n",
              "    }\n",
              "\n",
              "    .dataframe thead th {\n",
              "        text-align: right;\n",
              "    }\n",
              "</style>\n",
              "<table border=\"1\" class=\"dataframe\">\n",
              "  <thead>\n",
              "    <tr style=\"text-align: right;\">\n",
              "      <th></th>\n",
              "      <th>text</th>\n",
              "      <th>airline_sentiment</th>\n",
              "    </tr>\n",
              "  </thead>\n",
              "  <tbody>\n",
              "    <tr>\n",
              "      <th>0</th>\n",
              "      <td>@VirginAmerica What @dhepburn said.</td>\n",
              "      <td>neutral</td>\n",
              "    </tr>\n",
              "    <tr>\n",
              "      <th>1</th>\n",
              "      <td>@VirginAmerica plus you've added commercials t...</td>\n",
              "      <td>positive</td>\n",
              "    </tr>\n",
              "    <tr>\n",
              "      <th>2</th>\n",
              "      <td>@VirginAmerica I didn't today... Must mean I n...</td>\n",
              "      <td>neutral</td>\n",
              "    </tr>\n",
              "    <tr>\n",
              "      <th>3</th>\n",
              "      <td>@VirginAmerica it's really aggressive to blast...</td>\n",
              "      <td>negative</td>\n",
              "    </tr>\n",
              "    <tr>\n",
              "      <th>4</th>\n",
              "      <td>@VirginAmerica and it's a really big bad thing...</td>\n",
              "      <td>negative</td>\n",
              "    </tr>\n",
              "  </tbody>\n",
              "</table>\n",
              "</div>"
            ],
            "text/plain": [
              "                                                text airline_sentiment\n",
              "0                @VirginAmerica What @dhepburn said.           neutral\n",
              "1  @VirginAmerica plus you've added commercials t...          positive\n",
              "2  @VirginAmerica I didn't today... Must mean I n...           neutral\n",
              "3  @VirginAmerica it's really aggressive to blast...          negative\n",
              "4  @VirginAmerica and it's a really big bad thing...          negative"
            ]
          },
          "metadata": {
            "tags": []
          },
          "execution_count": 9
        }
      ]
    },
    {
      "cell_type": "code",
      "metadata": {
        "colab": {
          "base_uri": "https://localhost:8080/"
        },
        "id": "BNKiBByronFb",
        "outputId": "82206476-0f15-432e-9a44-906dc3f3ce4b"
      },
      "source": [
        "data.info()"
      ],
      "execution_count": null,
      "outputs": [
        {
          "output_type": "stream",
          "text": [
            "<class 'pandas.core.frame.DataFrame'>\n",
            "RangeIndex: 14640 entries, 0 to 14639\n",
            "Data columns (total 2 columns):\n",
            " #   Column             Non-Null Count  Dtype \n",
            "---  ------             --------------  ----- \n",
            " 0   text               14640 non-null  object\n",
            " 1   airline_sentiment  14640 non-null  object\n",
            "dtypes: object(2)\n",
            "memory usage: 228.9+ KB\n"
          ],
          "name": "stdout"
        }
      ]
    },
    {
      "cell_type": "code",
      "metadata": {
        "colab": {
          "base_uri": "https://localhost:8080/"
        },
        "id": "xib-eJ25RY1a",
        "outputId": "62cdfc93-f203-42cb-ca10-f3e9e5c5eca6"
      },
      "source": [
        "# VADER Analysis of tweets with hashtags vs. without hashtags\n",
        "\n",
        "from vaderSentiment.vaderSentiment import SentimentIntensityAnalyzer\n",
        "\n",
        "sent_analyzer = SentimentIntensityAnalyzer()\n",
        "\n",
        "substring = '???'\n",
        "\n",
        "hash_text = [text for text in data['text'] if substring in text]\n",
        "\n",
        "hash_text[:11]"
      ],
      "execution_count": null,
      "outputs": [
        {
          "output_type": "execute_result",
          "data": {
            "text/plain": [
              "['@VirginAmerica why are your first fares in May over three times more than other carriers when all seats are available to select???',\n",
              " '@VirginAmerica seriously, though. will there not be direct flights from SFO-FLL in may???',\n",
              " \"@united ZCC82U Cancelled Flight flight 16h in advance??? Need connect flight reschedule so the link isn't helping. Help!? Gf waited months to see me.\",\n",
              " \"@united ok. To top things off, you've lost my luggage. Could you get ANY worse??? #UnitedAirlines\",\n",
              " '@United flight delayed-no one remembered to turn the heat on flight 559 leaving ORD-seriously???',\n",
              " '@united LHR arrival lounge #fail. Waited 20 mins for shower then left to find hotel. U know how many passengers u carry. Planning???',\n",
              " '@united  gate agent at EWR \" if you are disabled or in a wheel chair, it\\'s time to board, please step\". STEP UP??? Lol',\n",
              " \"@united looks like today will be my 6th consecutive delayed flight from you...do I win a prize??? @Southwest Air why don't you fly to SBA? 😭\",\n",
              " '@united Is flight 746 going to sit on the tarmac FOREVER?????????',\n",
              " '@united WHERE IS MY FUCKING BAG?!?! Where the fuck is my fucking bag??? TELL ME NOW OR GIVE ME A NUMBER TO CALL A HUMAN. SAN68059M',\n",
              " \"@united what about the poor customer service at checkin at Kansas KCI?!? That's it???\"]"
            ]
          },
          "metadata": {
            "tags": []
          },
          "execution_count": 11
        }
      ]
    },
    {
      "cell_type": "code",
      "metadata": {
        "colab": {
          "base_uri": "https://localhost:8080/"
        },
        "id": "Jcth-_c6Tv5Z",
        "outputId": "f26d8303-1d43-4089-9371-e013bf66eeb3"
      },
      "source": [
        "neg_scores = 0\n",
        "neu_scores = 0\n",
        "pos_scores = 0\n",
        "\n",
        "scores_dict_with = {}\n",
        "\n",
        "for text in hash_text:\n",
        "  scores_dict_with[text] = sent_analyzer.polarity_scores(text)\n",
        "  neg_scores = sum(i['neg'] >= 0.5 for i in scores_dict_with.values())\n",
        "  neu_scores = sum(i['neu'] >= 0.5 for i in scores_dict_with.values())\n",
        "  pos_scores = sum(i['pos'] >= 0.5 for i in scores_dict_with.values())\n",
        "\n",
        "print(\"With hashtags:\")\n",
        "\n",
        "print(\"Negative score count:\", neg_scores)\n",
        "print(\"Neutral score count:\", neu_scores)\n",
        "print(\"Positive score count:\", pos_scores)\n",
        "\n",
        "neg_scores_wo = 0\n",
        "neu_scores_wo = 0\n",
        "pos_scores_wo = 0\n",
        "\n",
        "data_wo_hash = data['text'].copy()\n",
        "\n",
        "data_wo_hash = [text for text in data_wo_hash if substring not in data_wo_hash]\n",
        "\n",
        "scores_dict_without = {}\n",
        "\n",
        "for text in data['text']:\n",
        "  scores_dict_without[text] = sent_analyzer.polarity_scores(text)\n",
        "  neg_scores_wo = sum(i['neg'] >= 0.5 for i in scores_dict_without.values())\n",
        "  neu_scores_wo = sum(i['neu'] >= 0.5 for i in scores_dict_without.values())\n",
        "  pos_scores_wo = sum(i['pos'] >= 0.5 for i in scores_dict_without.values())\n",
        "\n",
        "print()\n",
        "print(\"Without hashtags:\")\n",
        "print(\"Negative score count:\", neg_scores_wo)\n",
        "print(\"Neutral score count:\", neu_scores_wo)\n",
        "print(\"Positive score count:\", pos_scores_wo)\n"
      ],
      "execution_count": null,
      "outputs": [
        {
          "output_type": "stream",
          "text": [
            "With hashtags:\n",
            "Negative score count: 1\n",
            "Neutral score count: 129\n",
            "Positive score count: 1\n",
            "\n",
            "Without hashtags:\n",
            "Negative score count: 54\n",
            "Neutral score count: 13453\n",
            "Positive score count: 640\n"
          ],
          "name": "stdout"
        }
      ]
    },
    {
      "cell_type": "code",
      "metadata": {
        "id": "n2r_KBz0y55T"
      },
      "source": [
        "# Text Pre-processing\n",
        "\n",
        "# Remove HTML tags\n",
        "\n",
        "def strip_tags(text):\n",
        "  soup = BeautifulSoup(text, \"html.parser\")\n",
        "  clean_text = soup.get_text()\n",
        "  return clean_text\n",
        "\n",
        "# Before clean"
      ],
      "execution_count": null,
      "outputs": []
    },
    {
      "cell_type": "code",
      "metadata": {
        "id": "-ijm1a3D2dfZ"
      },
      "source": [
        "data['text'] = [strip_tags(text) for text in data['text']]"
      ],
      "execution_count": null,
      "outputs": []
    },
    {
      "cell_type": "code",
      "metadata": {
        "colab": {
          "base_uri": "https://localhost:8080/"
        },
        "id": "61d-uQRO27jQ",
        "outputId": "e321478b-ae1b-4a42-986a-c5e6467451a8"
      },
      "source": [
        "data['text'].head(40)"
      ],
      "execution_count": null,
      "outputs": [
        {
          "output_type": "execute_result",
          "data": {
            "text/plain": [
              "0                   @VirginAmerica What @dhepburn said.\n",
              "1     @VirginAmerica plus you've added commercials t...\n",
              "2     @VirginAmerica I didn't today... Must mean I n...\n",
              "3     @VirginAmerica it's really aggressive to blast...\n",
              "4     @VirginAmerica and it's a really big bad thing...\n",
              "5     @VirginAmerica seriously would pay $30 a fligh...\n",
              "6     @VirginAmerica yes, nearly every time I fly VX...\n",
              "7     @VirginAmerica Really missed a prime opportuni...\n",
              "8       @virginamerica Well, I didn't…but NOW I DO! :-D\n",
              "9     @VirginAmerica it was amazing, and arrived an ...\n",
              "10    @VirginAmerica did you know that suicide is th...\n",
              "11    @VirginAmerica I <3 pretty graphics. so much b...\n",
              "12    @VirginAmerica This is such a great deal! Alre...\n",
              "13    @VirginAmerica @virginmedia I'm flying your #f...\n",
              "14                               @VirginAmerica Thanks!\n",
              "15        @VirginAmerica SFO-PDX schedule is still MIA.\n",
              "16    @VirginAmerica So excited for my first cross c...\n",
              "17    @VirginAmerica  I flew from NYC to SFO last we...\n",
              "18                      I ❤️ flying @VirginAmerica. ☺️👍\n",
              "19    @VirginAmerica you know what would be amazingl...\n",
              "20    @VirginAmerica why are your first fares in May...\n",
              "21    @VirginAmerica I love this graphic. http://t.c...\n",
              "22    @VirginAmerica I love the hipster innovation. ...\n",
              "23    @VirginAmerica will you be making BOS>LAS non ...\n",
              "24    @VirginAmerica you guys messed up my seating.....\n",
              "25    @VirginAmerica status match program.  I applie...\n",
              "26    @VirginAmerica What happened 2 ur vegan food o...\n",
              "27    @VirginAmerica do you miss me? Don't worry we'...\n",
              "28    @VirginAmerica amazing to me that we can't get...\n",
              "29    @VirginAmerica LAX to EWR - Middle seat on a r...\n",
              "30    @VirginAmerica hi! I just bked a cool birthday...\n",
              "31    @VirginAmerica Are the hours of operation for ...\n",
              "32    @VirginAmerica help, left expensive headphones...\n",
              "33    @VirginAmerica awaiting my return phone call, ...\n",
              "34    @VirginAmerica this is great news!  America co...\n",
              "35    Nice RT @VirginAmerica: Vibe with the moodligh...\n",
              "36    @VirginAmerica Moodlighting is the only way to...\n",
              "37    @VirginAmerica @freddieawards Done and done! B...\n",
              "38    @VirginAmerica when can I book my flight to Ha...\n",
              "39    @VirginAmerica Your chat support is not workin...\n",
              "Name: text, dtype: object"
            ]
          },
          "metadata": {
            "tags": []
          },
          "execution_count": 15
        }
      ]
    },
    {
      "cell_type": "code",
      "metadata": {
        "id": "meZpeqH0xzvQ"
      },
      "source": [
        "# Cleaning the text\n",
        "\n",
        "def exp_cont(text):\n",
        "  return contractions.fix(text)\n",
        "\n",
        "for i, row in data.iterrows():\n",
        "  text = data.at[i, 'text']\n",
        "  text = exp_cont(text)\n",
        "  data.at[i, 'text'] = text"
      ],
      "execution_count": null,
      "outputs": []
    },
    {
      "cell_type": "code",
      "metadata": {
        "id": "3K8uOozs280f",
        "colab": {
          "base_uri": "https://localhost:8080/"
        },
        "outputId": "845ab3c9-0aba-4354-882f-2b28a8874cd4"
      },
      "source": [
        "# Tokenization\n",
        "\n",
        "def tokenize(text):\n",
        "  tokenizer = ToktokTokenizer()\n",
        "  for w in text:\n",
        "    tokens = tokenizer.tokenize(text)\n",
        "    return tokens\n",
        "\n",
        "data['text'] = data['text'].apply(tokenize)\n",
        "\n",
        "data['text']"
      ],
      "execution_count": null,
      "outputs": [
        {
          "output_type": "execute_result",
          "data": {
            "text/plain": [
              "0               [@VirginAmerica, What, @dhepburn, said, .]\n",
              "1        [@VirginAmerica, plus, you, have, added, comme...\n",
              "2        [@VirginAmerica, I, did, not, today, ..., Must...\n",
              "3        [@VirginAmerica, it, is, really, aggressive, t...\n",
              "4        [@VirginAmerica, and, it, is, a, really, big, ...\n",
              "                               ...                        \n",
              "14635    [@AmericanAir, thank, you, we, got, on, a, dif...\n",
              "14636    [@AmericanAir, leaving, over, 20, minutes, Lat...\n",
              "14637    [@AmericanAir, Please, bring, American, Airlin...\n",
              "14638    [@AmericanAir, you, have, my, money, ,, you, c...\n",
              "14639    [@AmericanAir, we, have, 8, ppl, so, we, need,...\n",
              "Name: text, Length: 14640, dtype: object"
            ]
          },
          "metadata": {
            "tags": []
          },
          "execution_count": 17
        }
      ]
    },
    {
      "cell_type": "code",
      "metadata": {
        "id": "-5VMS8kA6zTf"
      },
      "source": [
        "# Removal of special characters, punctuation, and numbers\n",
        "\n",
        "def remove_characters(text):\n",
        "  text = str(text)\n",
        "  text = re.sub(r'[^a-zA-Z\\s]', '', text)\n",
        "  return text\n",
        "\n",
        "data['text'] = [remove_characters(text) for text in data['text']]"
      ],
      "execution_count": null,
      "outputs": []
    },
    {
      "cell_type": "code",
      "metadata": {
        "colab": {
          "base_uri": "https://localhost:8080/"
        },
        "id": "LZCHxWef8SIV",
        "outputId": "46521cf3-d26a-4bdc-8a43-1e2101821019"
      },
      "source": [
        "data['text'].head()"
      ],
      "execution_count": null,
      "outputs": [
        {
          "output_type": "execute_result",
          "data": {
            "text/plain": [
              "0                    VirginAmerica What dhepburn said \n",
              "1    VirginAmerica plus you have added commercials ...\n",
              "2    VirginAmerica I did not today  Must mean I nee...\n",
              "3    VirginAmerica it is really aggressive to blast...\n",
              "4    VirginAmerica and it is a really big bad thing...\n",
              "Name: text, dtype: object"
            ]
          },
          "metadata": {
            "tags": []
          },
          "execution_count": 19
        }
      ]
    },
    {
      "cell_type": "code",
      "metadata": {
        "id": "AamkXWUX1pys"
      },
      "source": [
        "# Conversion to lowercase\n",
        "\n",
        "data['text'] = [text.lower() for text in data['text']]"
      ],
      "execution_count": null,
      "outputs": []
    },
    {
      "cell_type": "code",
      "metadata": {
        "colab": {
          "base_uri": "https://localhost:8080/"
        },
        "id": "F9KVWAam3nSZ",
        "outputId": "6d98445b-6a8a-46c1-8caa-35dc85e3dc39"
      },
      "source": [
        "data['text'].head()"
      ],
      "execution_count": null,
      "outputs": [
        {
          "output_type": "execute_result",
          "data": {
            "text/plain": [
              "0                    virginamerica what dhepburn said \n",
              "1    virginamerica plus you have added commercials ...\n",
              "2    virginamerica i did not today  must mean i nee...\n",
              "3    virginamerica it is really aggressive to blast...\n",
              "4    virginamerica and it is a really big bad thing...\n",
              "Name: text, dtype: object"
            ]
          },
          "metadata": {
            "tags": []
          },
          "execution_count": 21
        }
      ]
    },
    {
      "cell_type": "code",
      "metadata": {
        "id": "b3TTsfnYLZwR"
      },
      "source": [
        "# Removing stopwords\n",
        "\n",
        "stopword_list = stopwords.words('english')\n",
        "\n",
        "stopword_list.remove('no')\n",
        "stopword_list.remove('not')\n",
        "\n",
        "data['text'] = [word for word in data['text'] if word not in stopword_list]"
      ],
      "execution_count": null,
      "outputs": []
    },
    {
      "cell_type": "code",
      "metadata": {
        "id": "TIqn2UZ130v-"
      },
      "source": [
        "# Lemmatization with Spacy\n",
        "\n",
        "nlp = spacy.load('en_core_web_sm')\n",
        "\n",
        "def lemmatize(text):\n",
        "  text = nlp(text)\n",
        "  text = ' '.join([word.lemma_ if word.lemma_ != '-PRON-' else word.text for word in text])\n",
        "  return text\n",
        "\n",
        "data['text'] = [lemmatize(text) for text in data['text']]"
      ],
      "execution_count": null,
      "outputs": []
    },
    {
      "cell_type": "code",
      "metadata": {
        "colab": {
          "base_uri": "https://localhost:8080/"
        },
        "id": "gwuELRdh5FyB",
        "outputId": "4639336c-c096-4fda-ed21-81edb992b928"
      },
      "source": [
        "data['text'].head()"
      ],
      "execution_count": null,
      "outputs": [
        {
          "output_type": "execute_result",
          "data": {
            "text/plain": [
              "0                      virginamerica what dhepburn say\n",
              "1    virginamerica plus you have add commercial to ...\n",
              "2    virginamerica i do not today   must mean i nee...\n",
              "3    virginamerica it be really aggressive to blast...\n",
              "4    virginamerica and it be a really big bad thing...\n",
              "Name: text, dtype: object"
            ]
          },
          "metadata": {
            "tags": []
          },
          "execution_count": 24
        }
      ]
    },
    {
      "cell_type": "code",
      "metadata": {
        "id": "LmMslwzy6sf4"
      },
      "source": [
        "# Vectorization with CountVectorizer\n",
        "\n",
        "text = data['text']\n",
        "\n",
        "vectorizer = CountVectorizer()\n",
        "\n",
        "vect = vectorizer.fit_transform(text)"
      ],
      "execution_count": null,
      "outputs": []
    },
    {
      "cell_type": "code",
      "metadata": {
        "colab": {
          "base_uri": "https://localhost:8080/"
        },
        "id": "tQ_GSSZy0M6w",
        "outputId": "e8f96dc4-c5c5-4f3f-dd8b-98795e9d8edd"
      },
      "source": [
        "vect.shape"
      ],
      "execution_count": null,
      "outputs": [
        {
          "output_type": "execute_result",
          "data": {
            "text/plain": [
              "(14640, 12142)"
            ]
          },
          "metadata": {
            "tags": []
          },
          "execution_count": 87
        }
      ]
    },
    {
      "cell_type": "code",
      "metadata": {
        "id": "TJjzQ-mC3CQH"
      },
      "source": [
        "train_array = vect.toarray()"
      ],
      "execution_count": null,
      "outputs": []
    },
    {
      "cell_type": "code",
      "metadata": {
        "id": "TJrdHXi7gTDS"
      },
      "source": [
        "# Train/test split\n",
        "from sklearn.model_selection import train_test_split\n",
        "\n",
        "X_train, X_test, y_train, y_test = train_test_split(train_array, data['airline_sentiment'], test_size=0.3, random_state=1)"
      ],
      "execution_count": null,
      "outputs": []
    },
    {
      "cell_type": "code",
      "metadata": {
        "id": "UcxtbFJP4fq9"
      },
      "source": [
        "# Building Random Forest model\n",
        "\n",
        "rf = RandomForestClassifier()\n",
        "\n",
        "model_params = {\n",
        "    'n_estimators': [randint(5, 500)],\n",
        "    'max_depth': [randint(10, 100)]\n",
        "}\n",
        "\n",
        "random_search = RandomizedSearchCV(rf, model_params, n_iter=1, cv=5, random_state=1, n_jobs=-1, verbose=True)\n",
        "\n",
        "rs_model = random_search.fit(X_train, y_train)\n",
        "\n",
        "from pprint import pprint\n",
        "pprint(rs_model.best_params_)"
      ],
      "execution_count": null,
      "outputs": []
    },
    {
      "cell_type": "code",
      "metadata": {
        "colab": {
          "base_uri": "https://localhost:8080/"
        },
        "id": "ZaTX26zw6YPQ",
        "outputId": "b81ead05-2a84-46a1-aa0a-ed70a079cd6a"
      },
      "source": [
        "rf = RandomForestClassifier(max_depth=42, n_estimators=253, verbose=True, random_state=1)\n",
        "\n",
        "rf.fit(X_train, y_train)"
      ],
      "execution_count": null,
      "outputs": [
        {
          "output_type": "stream",
          "text": [
            "[Parallel(n_jobs=1)]: Using backend SequentialBackend with 1 concurrent workers.\n",
            "[Parallel(n_jobs=1)]: Done 253 out of 253 | elapsed:  1.1min finished\n"
          ],
          "name": "stderr"
        },
        {
          "output_type": "execute_result",
          "data": {
            "text/plain": [
              "RandomForestClassifier(bootstrap=True, ccp_alpha=0.0, class_weight=None,\n",
              "                       criterion='gini', max_depth=42, max_features='auto',\n",
              "                       max_leaf_nodes=None, max_samples=None,\n",
              "                       min_impurity_decrease=0.0, min_impurity_split=None,\n",
              "                       min_samples_leaf=1, min_samples_split=2,\n",
              "                       min_weight_fraction_leaf=0.0, n_estimators=253,\n",
              "                       n_jobs=None, oob_score=False, random_state=1,\n",
              "                       verbose=True, warm_start=False)"
            ]
          },
          "metadata": {
            "tags": []
          },
          "execution_count": 101
        }
      ]
    },
    {
      "cell_type": "code",
      "metadata": {
        "colab": {
          "base_uri": "https://localhost:8080/"
        },
        "id": "MrOjw5GtFacj",
        "outputId": "4ee54845-b2ba-486d-982a-f4b12d05ce98"
      },
      "source": [
        "# Accuracy score\n",
        "\n",
        "y_pred = rf.predict(X_test)\n",
        "\n",
        "acc = accuracy_score(y_test, y_pred)"
      ],
      "execution_count": null,
      "outputs": [
        {
          "output_type": "stream",
          "text": [
            "[Parallel(n_jobs=1)]: Using backend SequentialBackend with 1 concurrent workers.\n",
            "[Parallel(n_jobs=1)]: Done 253 out of 253 | elapsed:    0.6s finished\n"
          ],
          "name": "stderr"
        }
      ]
    },
    {
      "cell_type": "code",
      "metadata": {
        "colab": {
          "base_uri": "https://localhost:8080/"
        },
        "id": "oFphTyrNFxUw",
        "outputId": "15953ac0-bceb-4243-ef21-4a8f1eb12362"
      },
      "source": [
        "print(\"Accuracy for CountVectorizer: \", acc)"
      ],
      "execution_count": null,
      "outputs": [
        {
          "output_type": "stream",
          "text": [
            "Accuracy for CountVectorizer:  0.7033242258652095\n"
          ],
          "name": "stdout"
        }
      ]
    },
    {
      "cell_type": "code",
      "metadata": {
        "colab": {
          "base_uri": "https://localhost:8080/"
        },
        "id": "sa-lPKzI6eE1",
        "outputId": "fa97402c-c898-4d18-9c5c-909f8fadcfdd"
      },
      "source": [
        "# Evaluating model\n",
        "\n",
        "cv_score = np.mean(cross_val_score(rf, X_train, y_train, cv=5, n_jobs=-1, verbose=True))"
      ],
      "execution_count": null,
      "outputs": [
        {
          "output_type": "stream",
          "text": [
            "[Parallel(n_jobs=-1)]: Using backend LokyBackend with 2 concurrent workers.\n",
            "[Parallel(n_jobs=-1)]: Done   5 out of   5 | elapsed:  3.8min finished\n"
          ],
          "name": "stderr"
        }
      ]
    },
    {
      "cell_type": "code",
      "metadata": {
        "colab": {
          "base_uri": "https://localhost:8080/"
        },
        "id": "1Bn-dNu0gLo2",
        "outputId": "3c0477c9-1c3a-4515-cede-b03e43a2b331"
      },
      "source": [
        "print(\"Cross-validation score for CountVectorizer is: %.2f \" % cv_score)"
      ],
      "execution_count": null,
      "outputs": [
        {
          "output_type": "stream",
          "text": [
            "Cross-validation score for CountVectorizer is: 0.70 \n"
          ],
          "name": "stdout"
        }
      ]
    },
    {
      "cell_type": "code",
      "metadata": {
        "colab": {
          "base_uri": "https://localhost:8080/",
          "height": 282
        },
        "id": "NzX9y8KLrf40",
        "outputId": "b3b979db-a3e7-4172-c2e7-66c4adb9b482"
      },
      "source": [
        "# Confusion Matrix for CountVectorizer\n",
        "\n",
        "cm = confusion_matrix(y_test, y_pred)\n",
        "\n",
        "sb.heatmap(cm, annot=True, fmt='.0f')"
      ],
      "execution_count": null,
      "outputs": [
        {
          "output_type": "execute_result",
          "data": {
            "text/plain": [
              "<matplotlib.axes._subplots.AxesSubplot at 0x7f4049fbfad0>"
            ]
          },
          "metadata": {
            "tags": []
          },
          "execution_count": 38
        },
        {
          "output_type": "display_data",
          "data": {
            "image/png": "[encoded data removed]",
            "text/plain": [
              "<Figure size 432x288 with 2 Axes>"
            ]
          },
          "metadata": {
            "tags": [],
            "needs_background": "light"
          }
        }
      ]
    },
    {
      "cell_type": "code",
      "metadata": {
        "id": "h7p-T61a7u-G"
      },
      "source": [
        "# Vectorization with TF-IDF Vectorizer\n",
        "\n",
        "vectorizer_tf = TfidfVectorizer()"
      ],
      "execution_count": null,
      "outputs": []
    },
    {
      "cell_type": "code",
      "metadata": {
        "id": "xYJTvA31eEOt"
      },
      "source": [
        "vect_tf = vectorizer_tf.fit_transform(text)"
      ],
      "execution_count": null,
      "outputs": []
    },
    {
      "cell_type": "code",
      "metadata": {
        "colab": {
          "base_uri": "https://localhost:8080/"
        },
        "id": "276szQA8gozL",
        "outputId": "064b4c06-0a6d-48bd-bf4c-5dc212a5319a"
      },
      "source": [
        "vect_tf.shape"
      ],
      "execution_count": null,
      "outputs": [
        {
          "output_type": "execute_result",
          "data": {
            "text/plain": [
              "(14640, 12142)"
            ]
          },
          "metadata": {
            "tags": []
          },
          "execution_count": 41
        }
      ]
    },
    {
      "cell_type": "code",
      "metadata": {
        "colab": {
          "base_uri": "https://localhost:8080/"
        },
        "id": "Dqu4-Z7agu0T",
        "outputId": "aa0c181e-e262-42ba-edfd-79518983994e"
      },
      "source": [
        "vect_tf.toarray()"
      ],
      "execution_count": null,
      "outputs": [
        {
          "output_type": "execute_result",
          "data": {
            "text/plain": [
              "array([[0., 0., 0., ..., 0., 0., 0.],\n",
              "       [0., 0., 0., ..., 0., 0., 0.],\n",
              "       [0., 0., 0., ..., 0., 0., 0.],\n",
              "       ...,\n",
              "       [0., 0., 0., ..., 0., 0., 0.],\n",
              "       [0., 0., 0., ..., 0., 0., 0.],\n",
              "       [0., 0., 0., ..., 0., 0., 0.]])"
            ]
          },
          "metadata": {
            "tags": []
          },
          "execution_count": 42
        }
      ]
    },
    {
      "cell_type": "code",
      "metadata": {
        "id": "J_sX_L5GhEG7"
      },
      "source": [
        "# Building Random Forest model\n",
        "\n",
        "rf_tf = RandomForestClassifier(verbose=True, n_estimators=992, max_depth=42, criterion='entropy', n_jobs=-1)"
      ],
      "execution_count": null,
      "outputs": []
    },
    {
      "cell_type": "code",
      "metadata": {
        "colab": {
          "base_uri": "https://localhost:8080/"
        },
        "id": "U0BBvZhrhO3k",
        "outputId": "5194d215-46dc-41cb-e3e2-38a3d62a6abd"
      },
      "source": [
        "rf_tf.fit(X_train, y_train)"
      ],
      "execution_count": null,
      "outputs": [
        {
          "output_type": "stream",
          "text": [
            "[Parallel(n_jobs=-1)]: Using backend ThreadingBackend with 2 concurrent workers.\n",
            "[Parallel(n_jobs=-1)]: Done  46 tasks      | elapsed:    2.5s\n",
            "[Parallel(n_jobs=-1)]: Done 196 tasks      | elapsed:   10.4s\n",
            "[Parallel(n_jobs=-1)]: Done 253 out of 253 | elapsed:   13.3s finished\n"
          ],
          "name": "stderr"
        },
        {
          "output_type": "execute_result",
          "data": {
            "text/plain": [
              "RandomForestClassifier(bootstrap=True, ccp_alpha=0.0, class_weight=None,\n",
              "                       criterion='entropy', max_depth=42, max_features='auto',\n",
              "                       max_leaf_nodes=None, max_samples=None,\n",
              "                       min_impurity_decrease=0.0, min_impurity_split=None,\n",
              "                       min_samples_leaf=1, min_samples_split=2,\n",
              "                       min_weight_fraction_leaf=0.0, n_estimators=253,\n",
              "                       n_jobs=-1, oob_score=False, random_state=None,\n",
              "                       verbose=True, warm_start=False)"
            ]
          },
          "metadata": {
            "tags": []
          },
          "execution_count": 83
        }
      ]
    },
    {
      "cell_type": "code",
      "metadata": {
        "colab": {
          "base_uri": "https://localhost:8080/"
        },
        "id": "nWhbLWOuGJRQ",
        "outputId": "8438fcc9-2cbd-462e-edef-55c0ed15b10a"
      },
      "source": [
        "# Accuracy\n",
        "\n",
        "y_pred_tf = rf_tf.predict(X_test)\n",
        "\n",
        "acc_tf = accuracy_score(y_test, y_pred)"
      ],
      "execution_count": null,
      "outputs": [
        {
          "output_type": "stream",
          "text": [
            "[Parallel(n_jobs=2)]: Using backend ThreadingBackend with 2 concurrent workers.\n",
            "[Parallel(n_jobs=2)]: Done  46 tasks      | elapsed:    0.1s\n",
            "[Parallel(n_jobs=2)]: Done 196 tasks      | elapsed:    0.4s\n",
            "[Parallel(n_jobs=2)]: Done 253 out of 253 | elapsed:    0.5s finished\n"
          ],
          "name": "stderr"
        }
      ]
    },
    {
      "cell_type": "code",
      "metadata": {
        "colab": {
          "base_uri": "https://localhost:8080/"
        },
        "id": "ClqMomr_GYgn",
        "outputId": "70a8abfa-a4cf-48da-bf52-44a3afd220c5"
      },
      "source": [
        "print(\"Accuracy for TF-IDF Vectorizer:\", acc_tf)"
      ],
      "execution_count": null,
      "outputs": [
        {
          "output_type": "stream",
          "text": [
            "Accuracy for TF-IDF Vectorizer: 0.7033242258652095\n"
          ],
          "name": "stdout"
        }
      ]
    },
    {
      "cell_type": "code",
      "metadata": {
        "colab": {
          "base_uri": "https://localhost:8080/"
        },
        "id": "yx1q3y0HhfMi",
        "outputId": "949e7528-0fc6-4cec-8688-14d964f64556"
      },
      "source": [
        "# Evaluating model\n",
        "\n",
        "cv_score_tf = np.mean(cross_val_score(rf_tf, X_train, y_train, cv=5))"
      ],
      "execution_count": null,
      "outputs": [
        {
          "output_type": "stream",
          "text": [
            "[Parallel(n_jobs=-1)]: Using backend LokyBackend with 2 concurrent workers.\n",
            "[Parallel(n_jobs=-1)]: Done  46 tasks      | elapsed:   13.4s\n",
            "[Parallel(n_jobs=-1)]: Done 196 tasks      | elapsed:   54.0s\n",
            "[Parallel(n_jobs=-1)]: Done 446 tasks      | elapsed:  2.0min\n",
            "[Parallel(n_jobs=-1)]: Done 796 tasks      | elapsed:  3.6min\n",
            "[Parallel(n_jobs=-1)]: Done 992 out of 992 | elapsed:  4.5min finished\n",
            "[Parallel(n_jobs=2)]: Using backend ThreadingBackend with 2 concurrent workers.\n",
            "[Parallel(n_jobs=2)]: Done  46 tasks      | elapsed:    0.1s\n",
            "[Parallel(n_jobs=2)]: Done 196 tasks      | elapsed:    0.2s\n",
            "[Parallel(n_jobs=2)]: Done 446 tasks      | elapsed:    0.4s\n",
            "[Parallel(n_jobs=2)]: Done 796 tasks      | elapsed:    0.7s\n",
            "[Parallel(n_jobs=2)]: Done 992 out of 992 | elapsed:    0.9s finished\n",
            "[Parallel(n_jobs=-1)]: Using backend LokyBackend with 2 concurrent workers.\n",
            "[Parallel(n_jobs=-1)]: Done  46 tasks      | elapsed:   12.4s\n",
            "[Parallel(n_jobs=-1)]: Done 196 tasks      | elapsed:   52.2s\n",
            "[Parallel(n_jobs=-1)]: Done 446 tasks      | elapsed:  2.0min\n",
            "[Parallel(n_jobs=-1)]: Done 796 tasks      | elapsed:  3.6min\n",
            "[Parallel(n_jobs=-1)]: Done 992 out of 992 | elapsed:  4.5min finished\n",
            "[Parallel(n_jobs=2)]: Using backend ThreadingBackend with 2 concurrent workers.\n",
            "[Parallel(n_jobs=2)]: Done  46 tasks      | elapsed:    0.0s\n",
            "[Parallel(n_jobs=2)]: Done 196 tasks      | elapsed:    0.2s\n",
            "[Parallel(n_jobs=2)]: Done 446 tasks      | elapsed:    0.4s\n",
            "[Parallel(n_jobs=2)]: Done 796 tasks      | elapsed:    0.7s\n",
            "[Parallel(n_jobs=2)]: Done 992 out of 992 | elapsed:    0.8s finished\n",
            "[Parallel(n_jobs=-1)]: Using backend LokyBackend with 2 concurrent workers.\n",
            "[Parallel(n_jobs=-1)]: Done  46 tasks      | elapsed:   12.5s\n",
            "[Parallel(n_jobs=-1)]: Done 196 tasks      | elapsed:   53.6s\n",
            "[Parallel(n_jobs=-1)]: Done 446 tasks      | elapsed:  2.0min\n",
            "[Parallel(n_jobs=-1)]: Done 796 tasks      | elapsed:  3.6min\n",
            "[Parallel(n_jobs=-1)]: Done 992 out of 992 | elapsed:  4.5min finished\n",
            "[Parallel(n_jobs=2)]: Using backend ThreadingBackend with 2 concurrent workers.\n",
            "[Parallel(n_jobs=2)]: Done  46 tasks      | elapsed:    0.0s\n",
            "[Parallel(n_jobs=2)]: Done 196 tasks      | elapsed:    0.2s\n",
            "[Parallel(n_jobs=2)]: Done 446 tasks      | elapsed:    0.4s\n",
            "[Parallel(n_jobs=2)]: Done 796 tasks      | elapsed:    0.7s\n",
            "[Parallel(n_jobs=2)]: Done 992 out of 992 | elapsed:    0.9s finished\n",
            "[Parallel(n_jobs=-1)]: Using backend LokyBackend with 2 concurrent workers.\n",
            "[Parallel(n_jobs=-1)]: Done  46 tasks      | elapsed:   12.7s\n",
            "[Parallel(n_jobs=-1)]: Done 196 tasks      | elapsed:   53.8s\n",
            "[Parallel(n_jobs=-1)]: Done 446 tasks      | elapsed:  2.0min\n",
            "[Parallel(n_jobs=-1)]: Done 796 tasks      | elapsed:  3.6min\n",
            "[Parallel(n_jobs=-1)]: Done 992 out of 992 | elapsed:  4.5min finished\n",
            "[Parallel(n_jobs=2)]: Using backend ThreadingBackend with 2 concurrent workers.\n",
            "[Parallel(n_jobs=2)]: Done  46 tasks      | elapsed:    0.0s\n",
            "[Parallel(n_jobs=2)]: Done 196 tasks      | elapsed:    0.2s\n",
            "[Parallel(n_jobs=2)]: Done 446 tasks      | elapsed:    0.4s\n",
            "[Parallel(n_jobs=2)]: Done 796 tasks      | elapsed:    0.7s\n",
            "[Parallel(n_jobs=2)]: Done 992 out of 992 | elapsed:    0.8s finished\n",
            "[Parallel(n_jobs=-1)]: Using backend LokyBackend with 2 concurrent workers.\n",
            "[Parallel(n_jobs=-1)]: Done  46 tasks      | elapsed:   12.7s\n",
            "[Parallel(n_jobs=-1)]: Done 196 tasks      | elapsed:   53.3s\n",
            "[Parallel(n_jobs=-1)]: Done 446 tasks      | elapsed:  2.0min\n",
            "[Parallel(n_jobs=-1)]: Done 796 tasks      | elapsed:  3.7min\n",
            "[Parallel(n_jobs=-1)]: Done 992 out of 992 | elapsed:  4.6min finished\n",
            "[Parallel(n_jobs=2)]: Using backend ThreadingBackend with 2 concurrent workers.\n",
            "[Parallel(n_jobs=2)]: Done  46 tasks      | elapsed:    0.0s\n",
            "[Parallel(n_jobs=2)]: Done 196 tasks      | elapsed:    0.2s\n",
            "[Parallel(n_jobs=2)]: Done 446 tasks      | elapsed:    0.4s\n",
            "[Parallel(n_jobs=2)]: Done 796 tasks      | elapsed:    0.7s\n",
            "[Parallel(n_jobs=2)]: Done 992 out of 992 | elapsed:    0.8s finished\n"
          ],
          "name": "stderr"
        }
      ]
    },
    {
      "cell_type": "code",
      "metadata": {
        "colab": {
          "base_uri": "https://localhost:8080/"
        },
        "id": "AyNrqhMbh2nr",
        "outputId": "95af6dea-fbf7-4524-cee6-369ca5c2b102"
      },
      "source": [
        "print(\"Cross-validation score for TF-IDF Vectorizer is: %.2f \" % cv_score_tf)"
      ],
      "execution_count": null,
      "outputs": [
        {
          "output_type": "stream",
          "text": [
            "Cross-validation score for TF-IDF Vectorizer is: 0.71 \n"
          ],
          "name": "stdout"
        }
      ]
    },
    {
      "cell_type": "code",
      "metadata": {
        "colab": {
          "base_uri": "https://localhost:8080/",
          "height": 282
        },
        "id": "1wwDXh8aR5Jp",
        "outputId": "52ea577b-a200-4084-8a9b-1e8563315e60"
      },
      "source": [
        "b# Confusion Matrix for TF-IDF Vectorizer\n",
        "\n",
        "cm = confusion_matrix(y_test, y_pred_tf)\n",
        "\n",
        "sb.heatmap(cm, annot=True, fmt='.0f')"
      ],
      "execution_count": null,
      "outputs": [
        {
          "output_type": "execute_result",
          "data": {
            "text/plain": [
              "<matplotlib.axes._subplots.AxesSubplot at 0x7f404102e290>"
            ]
          },
          "metadata": {
            "tags": []
          },
          "execution_count": 50
        },
        {
          "output_type": "display_data",
          "data": {
            "image/png": "[encoded data removed]",
            "text/plain": [
              "<Figure size 432x288 with 2 Axes>"
            ]
          },
          "metadata": {
            "tags": [],
            "needs_background": "light"
          }
        }
      ]
    },
    {
      "cell_type": "code",
      "metadata": {
        "id": "74MjzCUlhobr"
      },
      "source": [
        ""
      ],
      "execution_count": null,
      "outputs": []
    },
    {
      "cell_type": "code",
      "metadata": {
        "id": "qzij59l3jCLT",
        "colab": {
          "base_uri": "https://localhost:8080/"
        },
        "outputId": "0f29a62e-fa00-4115-c028-8d4c5c562b1d"
      },
      "source": [
        "# Creating dataframe of predictions\n",
        "\n",
        "predict = rf_tf.predict(vect_tf)\n",
        "\n",
        "data_dict = {\"Text\": data['text'], \"True Sentiment\": data['airline_sentiment'], \"Predicted Sentiment\": predict}\n",
        "\n",
        "sents_data = pd.DataFrame(data_dict)"
      ],
      "execution_count": null,
      "outputs": [
        {
          "output_type": "stream",
          "text": [
            "[Parallel(n_jobs=2)]: Using backend ThreadingBackend with 2 concurrent workers.\n",
            "[Parallel(n_jobs=2)]: Done  46 tasks      | elapsed:    0.1s\n",
            "[Parallel(n_jobs=2)]: Done 196 tasks      | elapsed:    0.4s\n",
            "[Parallel(n_jobs=2)]: Done 446 tasks      | elapsed:    0.9s\n",
            "[Parallel(n_jobs=2)]: Done 796 tasks      | elapsed:    1.6s\n",
            "[Parallel(n_jobs=2)]: Done 992 out of 992 | elapsed:    2.0s finished\n"
          ],
          "name": "stderr"
        }
      ]
    },
    {
      "cell_type": "code",
      "metadata": {
        "colab": {
          "base_uri": "https://localhost:8080/",
          "height": 419
        },
        "id": "qjqOlWZcsJdG",
        "outputId": "2038a83e-364b-416a-a5cd-aeab687c0988"
      },
      "source": [
        "sents_data[sents_data['Predicted Sentiment'] == sents_data['True Sentiment']]"
      ],
      "execution_count": null,
      "outputs": [
        {
          "output_type": "execute_result",
          "data": {
            "text/html": [
              "<div>\n",
              "<style scoped>\n",
              "    .dataframe tbody tr th:only-of-type {\n",
              "        vertical-align: middle;\n",
              "    }\n",
              "\n",
              "    .dataframe tbody tr th {\n",
              "        vertical-align: top;\n",
              "    }\n",
              "\n",
              "    .dataframe thead th {\n",
              "        text-align: right;\n",
              "    }\n",
              "</style>\n",
              "<table border=\"1\" class=\"dataframe\">\n",
              "  <thead>\n",
              "    <tr style=\"text-align: right;\">\n",
              "      <th></th>\n",
              "      <th>Text</th>\n",
              "      <th>True Sentiment</th>\n",
              "      <th>Predicted Sentiment</th>\n",
              "    </tr>\n",
              "  </thead>\n",
              "  <tbody>\n",
              "    <tr>\n",
              "      <th>3</th>\n",
              "      <td>virginamerica it be really aggressive to blast...</td>\n",
              "      <td>negative</td>\n",
              "      <td>negative</td>\n",
              "    </tr>\n",
              "    <tr>\n",
              "      <th>4</th>\n",
              "      <td>virginamerica and it be a really big bad thing...</td>\n",
              "      <td>negative</td>\n",
              "      <td>negative</td>\n",
              "    </tr>\n",
              "    <tr>\n",
              "      <th>5</th>\n",
              "      <td>virginamerica seriously would pay    a flight ...</td>\n",
              "      <td>negative</td>\n",
              "      <td>negative</td>\n",
              "    </tr>\n",
              "    <tr>\n",
              "      <th>14</th>\n",
              "      <td>virginamerica thank</td>\n",
              "      <td>positive</td>\n",
              "      <td>positive</td>\n",
              "    </tr>\n",
              "    <tr>\n",
              "      <th>15</th>\n",
              "      <td>virginamerica sfopdx schedule be still mia</td>\n",
              "      <td>negative</td>\n",
              "      <td>negative</td>\n",
              "    </tr>\n",
              "    <tr>\n",
              "      <th>...</th>\n",
              "      <td>...</td>\n",
              "      <td>...</td>\n",
              "      <td>...</td>\n",
              "    </tr>\n",
              "    <tr>\n",
              "      <th>14631</th>\n",
              "      <td>americanair thx for nothing on get us out of t...</td>\n",
              "      <td>negative</td>\n",
              "      <td>negative</td>\n",
              "    </tr>\n",
              "    <tr>\n",
              "      <th>14633</th>\n",
              "      <td>americanair my flight be cancel flightle   lea...</td>\n",
              "      <td>negative</td>\n",
              "      <td>negative</td>\n",
              "    </tr>\n",
              "    <tr>\n",
              "      <th>14634</th>\n",
              "      <td>americanair right on cue with the delay</td>\n",
              "      <td>negative</td>\n",
              "      <td>negative</td>\n",
              "    </tr>\n",
              "    <tr>\n",
              "      <th>14636</th>\n",
              "      <td>americanair leave over   minute late flight no...</td>\n",
              "      <td>negative</td>\n",
              "      <td>negative</td>\n",
              "    </tr>\n",
              "    <tr>\n",
              "      <th>14638</th>\n",
              "      <td>americanair you have my money   you change my ...</td>\n",
              "      <td>negative</td>\n",
              "      <td>negative</td>\n",
              "    </tr>\n",
              "  </tbody>\n",
              "</table>\n",
              "<p>9420 rows × 3 columns</p>\n",
              "</div>"
            ],
            "text/plain": [
              "                                                    Text  ... Predicted Sentiment\n",
              "3      virginamerica it be really aggressive to blast...  ...            negative\n",
              "4      virginamerica and it be a really big bad thing...  ...            negative\n",
              "5      virginamerica seriously would pay    a flight ...  ...            negative\n",
              "14                                   virginamerica thank  ...            positive\n",
              "15            virginamerica sfopdx schedule be still mia  ...            negative\n",
              "...                                                  ...  ...                 ...\n",
              "14631  americanair thx for nothing on get us out of t...  ...            negative\n",
              "14633  americanair my flight be cancel flightle   lea...  ...            negative\n",
              "14634            americanair right on cue with the delay  ...            negative\n",
              "14636  americanair leave over   minute late flight no...  ...            negative\n",
              "14638  americanair you have my money   you change my ...  ...            negative\n",
              "\n",
              "[9420 rows x 3 columns]"
            ]
          },
          "metadata": {
            "tags": []
          },
          "execution_count": 52
        }
      ]
    },
    {
      "cell_type": "code",
      "metadata": {
        "id": "A9jE-z_6uThB"
      },
      "source": [
        "true_len = int(sents_data[sents_data['Predicted Sentiment'] == sents_data['True Sentiment']].count()[0])\n",
        "total_len = int(sents_data.count()[0])\n",
        "\n",
        "true_rate = true_len/total_len"
      ],
      "execution_count": null,
      "outputs": []
    },
    {
      "cell_type": "code",
      "metadata": {
        "colab": {
          "base_uri": "https://localhost:8080/"
        },
        "id": "V9ths6AJw96y",
        "outputId": "f071ae67-02d2-4852-f0bf-dec314f0510a"
      },
      "source": [
        "print(\"Percentage of correctly predicted sentiments: %.2f\" % true_rate)"
      ],
      "execution_count": null,
      "outputs": [
        {
          "output_type": "stream",
          "text": [
            "Percentage of correctly predicted sentiments: 0.64\n"
          ],
          "name": "stdout"
        }
      ]
    },
    {
      "cell_type": "markdown",
      "metadata": {
        "id": "jK6iymBWMk7D"
      },
      "source": [
        "###Conclusion\n",
        "\n",
        "Various methodologies, including text pre-processing and vectorization, allow machine learning models to perform sentiment analysis, that is, whether a text is negative, neutral, or positive. In this project, a dataset of tweets was pre-processed, removing HTML tags, numbers, and special characters, tokenizing, and lemmatizing, which facilitates transforming the text data into numpy arrays, then vectors. Vectorizers, such as TF-IDF Vectorizer, normalize or balance out the weights for each word, so that common words such as \"the\" do not outweigh more important, less frequent words.\n",
        "\n",
        "The ML algorithm used in this project was the Random Forest Classifier. Hyperparameter tuning was performed on \"n_estimators\" and \"max_depth\", which after trial and error reached an accuracy of around 0.7, confirmed by the cross-validation score. Running the entire dataset as a vector through the final model resulted in 64% of the tweets being classified with the correct sentiment. Technical problems hindered progress in improving the model, but further hyperparameter tuning would likely result in higher accuracy."
      ]
    },
    {
      "cell_type": "code",
      "metadata": {
        "id": "fJ-B8HDrMnod"
      },
      "source": [
        ""
      ],
      "execution_count": null,
      "outputs": []
    }
  ]
}